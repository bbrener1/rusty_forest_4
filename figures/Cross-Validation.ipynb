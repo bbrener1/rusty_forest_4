{
 "cells": [
  {
   "cell_type": "code",
   "execution_count": null,
   "metadata": {},
   "outputs": [],
   "source": [
    "# TODO: PCA partitions"
   ]
  },
  {
   "cell_type": "code",
   "execution_count": null,
   "metadata": {},
   "outputs": [],
   "source": [
    "import numpy as np\n",
    "import matplotlib.pyplot as plt\n",
    "import scanpy as sc\n",
    "\n",
    "import pickle \n",
    "\n",
    "data_location = \"../data/aging_brain/\"\n",
    "\n",
    "young = pickle.load(open(data_location + \"aging_brain_young.pickle\",mode='rb'))\n",
    "old = pickle.load(open(data_location + \"aging_brain_old.pickle\",mode='rb'))\n",
    "\n",
    "filtered = pickle.load(open(data_location + \"aging_brain_filtered.pickle\",mode='rb'))\n",
    "\n",
    "batch_encoding = np.loadtxt(data_location + 'aging_batch_encoding.tsv')\n",
    "batch_encoding = batch_encoding.astype(dtype=bool)\n",
    "\n",
    "young_mask = np.zeros(37069,dtype=bool)\n",
    "old_mask = np.zeros(37069,dtype=bool)\n",
    "\n",
    "young_mask[:young.shape[0]] = True\n",
    "old_mask[young.shape[0]:] = True"
   ]
  },
  {
   "cell_type": "code",
   "execution_count": null,
   "metadata": {},
   "outputs": [],
   "source": [
    "# sc.pp.neighbors(filtered)\n",
    "# sc.tl.umap(filtered)\n",
    "# sc.tl.louvain(filtered)\n",
    "# sc.pl.umap(filtered,color='louvain')\n"
   ]
  },
  {
   "cell_type": "code",
   "execution_count": null,
   "metadata": {},
   "outputs": [],
   "source": [
    "# We must find all ways of combining 8 mice into 2 partitions of 4. \n",
    "\n",
    "# First find the binary representation of all numbers up to 256.\n",
    "\n",
    "up = np.unpackbits(np.arange(256).astype(dtype='uint8')).reshape((256,8))\n",
    "\n",
    "# Find out how many digits are 1\n",
    "\n",
    "sums = np.sum(up,axis=1)\n",
    "\n",
    "# Then select all representations where only 4 positions are set to 1.\n",
    "\n",
    "partitions = up[:128][sums[:128] == 4]\n",
    "\n",
    "partitions.shape"
   ]
  },
  {
   "cell_type": "code",
   "execution_count": null,
   "metadata": {},
   "outputs": [],
   "source": [
    "# Now we must select features that are reasonably predictable within the dataset"
   ]
  },
  {
   "cell_type": "code",
   "execution_count": null,
   "metadata": {},
   "outputs": [],
   "source": []
  },
  {
   "cell_type": "code",
   "execution_count": null,
   "metadata": {},
   "outputs": [],
   "source": [
    "import sys\n",
    "# sys.path.append('/localscratch/bbrener1/rusty_forest_v3/src')\n",
    "sys.path.append('../src')\n",
    "import tree_reader as tr \n",
    "import lumberjack\n",
    "\n",
    "\n",
    "\n",
    "selection_forest = lumberjack.fit(\n",
    "    young.X,\n",
    "    header=filtered.var_names,\n",
    "    trees=100,\n",
    "    braids=2,\n",
    "    ifs=700,\n",
    "    ofs=700,\n",
    "    ss=500,\n",
    "    depth=8,\n",
    "    leaves=10,\n",
    "    sfr=0,\n",
    "    norm='l1',\n",
    "    reduce_input='true',\n",
    "    reduce_output='false'\n",
    ")"
   ]
  },
  {
   "cell_type": "code",
   "execution_count": null,
   "metadata": {},
   "outputs": [],
   "source": [
    "selection_forest.set_cache(True)"
   ]
  },
  {
   "cell_type": "code",
   "execution_count": null,
   "metadata": {},
   "outputs": [],
   "source": [
    "selection_forest.self_prediction = selection_forest.predict(young.X)\n"
   ]
  },
  {
   "cell_type": "code",
   "execution_count": null,
   "metadata": {},
   "outputs": [],
   "source": [
    "feature_residuals = selection_forest.self_prediction.residuals()\n"
   ]
  },
  {
   "cell_type": "code",
   "execution_count": null,
   "metadata": {},
   "outputs": [],
   "source": [
    "centered = young.X - np.mean(young.X,axis=0)\n",
    "null_squared_residual = np.power(centered,2)\n",
    "feature_null = np.sum(null_squared_residual,axis=0) + 1\n",
    "\n",
    "forest_squared_residuals = np.power(feature_residuals,2)\n",
    "\n",
    "forest_feature_error = np.sum(forest_squared_residuals,axis=0) + 1\n",
    "forest_feature_remaining = forest_feature_error/feature_null\n"
   ]
  },
  {
   "cell_type": "code",
   "execution_count": null,
   "metadata": {},
   "outputs": [],
   "source": [
    "plt.figure()\n",
    "plt.hist(forest_feature_remaining.copy(),bins=50)\n",
    "plt.show()\n",
    "\n",
    "filtered_feature_mask = forest_feature_remaining < .5\n",
    "\n",
    "print(np.sum(filtered_feature_mask))"
   ]
  },
  {
   "cell_type": "code",
   "execution_count": null,
   "metadata": {},
   "outputs": [],
   "source": [
    "filtered_feature_mask = np.zeros(2000,dtype=bool)\n",
    "\n",
    "for feature in cv_forest.output_features:\n",
    "    f_i = list(young.var_names).index(feature)\n",
    "    filtered_feature_mask[f_i] = True"
   ]
  },
  {
   "cell_type": "code",
   "execution_count": null,
   "metadata": {},
   "outputs": [],
   "source": [
    "# Now we must take the predictable features and train cross-validated forests on them"
   ]
  },
  {
   "cell_type": "code",
   "execution_count": null,
   "metadata": {},
   "outputs": [],
   "source": [
    "young_filtered = young[:,filtered_feature_mask]\n",
    "young_filtered.shape"
   ]
  },
  {
   "cell_type": "code",
   "execution_count": null,
   "metadata": {},
   "outputs": [],
   "source": [
    "cv_forest = lumberjack.fit(\n",
    "    young_filtered.X,\n",
    "    header=young_filtered.var_names,\n",
    "    trees=100,\n",
    "    braids=2,\n",
    "    ifs=150,\n",
    "    ofs=150,\n",
    "    ss=500,\n",
    "    depth=8,\n",
    "    leaves=10,\n",
    "    sfr=0,\n",
    "    norm='l1',\n",
    "    reduce_input='true',\n",
    "    reduce_output='false'\n",
    ")"
   ]
  },
  {
   "cell_type": "code",
   "execution_count": null,
   "metadata": {},
   "outputs": [],
   "source": [
    "cv_forest.set_cache(True)\n",
    "cv_forest.backup(data_location + \"cv_forest_trimmed_extra\")"
   ]
  },
  {
   "cell_type": "code",
   "execution_count": null,
   "metadata": {},
   "outputs": [],
   "source": [
    "import numpy as np\n",
    "import matplotlib.pyplot as plt\n",
    "import scanpy as sc\n",
    "\n",
    "import sys\n",
    "# sys.path.append('/localscratch/bbrener1/rusty_forest_v3/src')\n",
    "sys.path.append('../src')\n",
    "import tree_reader as tr \n",
    "import lumberjack\n",
    "\n",
    "cv_forest = tr.Forest.load(data_location + 'cv_forest_trimmed_extra')\n"
   ]
  },
  {
   "cell_type": "code",
   "execution_count": null,
   "metadata": {},
   "outputs": [],
   "source": [
    "cv_forest.reset_split_clusters()\n",
    "cv_forest.interpret_splits(\n",
    "    k=10,\n",
    "    pca=False,\n",
    "    depth=8,\n",
    "    metric=\"cosine\",\n",
    "    mode='additive_mean',\n",
    "    relatives=True\n",
    ")"
   ]
  },
  {
   "cell_type": "code",
   "execution_count": null,
   "metadata": {},
   "outputs": [],
   "source": [
    "cv_forest.maximum_spanning_tree(mode='samples')"
   ]
  },
  {
   "cell_type": "code",
   "execution_count": null,
   "metadata": {
    "scrolled": true
   },
   "outputs": [],
   "source": [
    "cv_forest.tsne_coordinates = filtered.obsm['X_umap'][young_mask]\n",
    "cv_forest.html_tree_summary(n=10)"
   ]
  },
  {
   "cell_type": "code",
   "execution_count": null,
   "metadata": {},
   "outputs": [],
   "source": [
    "cv_forest.self_prediction = cv_forest.predict(cv_forest.output)\n",
    "cv_forest.self_prediction.node_sample_encoding()"
   ]
  },
  {
   "cell_type": "code",
   "execution_count": null,
   "metadata": {},
   "outputs": [],
   "source": [
    "cv_forest.self_prediction.prediction_report()"
   ]
  },
  {
   "cell_type": "code",
   "execution_count": null,
   "metadata": {},
   "outputs": [],
   "source": [
    "cv_forest.old_prediction = cv_forest.predict(old.X.T[filtered_feature_mask].T)\n",
    "cv_forest.old_prediction.prediction_report()\n"
   ]
  },
  {
   "cell_type": "code",
   "execution_count": null,
   "metadata": {},
   "outputs": [],
   "source": [
    "\n",
    "# for i,partition in enumerate(partitions):\n",
    "#     partition = np.array(partition).astype(dtype=bool)\n",
    "#     partition_mask = np.any(batch_encoding[young_mask,:8][:,partition],axis=1)\n",
    "#     sample_indices = np.arange(young_filtered.X.shape[0])[partition_mask]\n",
    "#     sub_forest = cv_forest.derive_samples(sample_indices)\n",
    "#     sub_forest.backup(f\"sub_forest_{i}\")\n",
    "#     del(sub_forest)\n",
    "\n",
    "# for i,partition in list(enumerate(partitions)):\n",
    "#     partition = np.array(partition).astype(dtype=bool)\n",
    "#     partition_mask = np.any(batch_encoding[young_mask,:8][:,partition],axis=1)\n",
    "#     sub_forest = tr.Forest.load(f\"sub_forest_{i}\")\n",
    "#     sub_forest.self_prediction = sub_forest.predict(young.X[partition_mask])\n",
    "#     sub_forest.self_prediction.node_sample_encoding()\n",
    "#     sub_forest.self_prediction.node_sample_r2()\n",
    "#     sub_forest.test_prediction = sub_forest.predict(young.X[~partition_mask])\n",
    "#     sub_forest.test_prediction.node_sample_encoding()\n",
    "#     sub_forest.test_prediction.node_sample_r2()\n",
    "#     sub_forest.backup(f\"sub_forest_{i}_cached\")\n",
    "#     del(sub_forest)\n",
    "\n",
    "determination_spread = np.zeros((39,20))\n",
    "self_determination_spread = np.zeros((39,20))\n",
    "other_determination_spread = np.zeros((39,20))\n",
    "\n",
    "for i,partition in enumerate(partitions[:21]):\n",
    "    print(\"+++++++++++++++++++\")\n",
    "    print(i)\n",
    "    print(\"+++++++++++++++++++\")\n",
    "    partition = np.array(partition).astype(dtype=bool)\n",
    "    partition_mask = np.any(batch_encoding[young_mask,:8][:,partition],axis=1)\n",
    "    sub_forest = tr.Forest.load(data_location + \"restricted_sub_forest/\" + f\"sub_forest_{i}_cached\")\n",
    "    for factor_index in range(1,39):\n",
    "        factor = sub_forest.split_clusters[factor_index]\n",
    "        self_fvu,other_fvu,_ = sub_forest.self_prediction.compare_factor_fvu(sub_forest.test_prediction,factor)\n",
    "        other_determination_spread[factor_index,i] = 1-other_fvu\n",
    "        delta = other_fvu - self_fvu\n",
    "        determination_spread[factor_index,i] = delta\n",
    "    del(sub_forest)"
   ]
  },
  {
   "cell_type": "code",
   "execution_count": null,
   "metadata": {},
   "outputs": [],
   "source": [
    "mean_spread = np.mean(determination_spread,axis=1)\n",
    "spread_variance = np.var(determination_spread,axis=1)\n",
    "mean_sort = np.argsort(mean_spread)\n",
    "var_sort = np.argsort(spread_variance)\n",
    "\n",
    "plt.figure()\n",
    "for i in range(39):\n",
    "    plt.scatter(np.array([i,]*20),determination_spread[var_sort[i]],s=2,c='blue')\n",
    "plt.scatter(np.arange(39),mean_spread[var_sort],c='red')\n",
    "plt.xticks(np.arange(39),var_sort,rotation=90)\n",
    "plt.show()    \n",
    "\n",
    "\n",
    "plt.figure()\n",
    "plt.title(\"Mean Prediction Error Young vs Young and Young vs Old\")\n",
    "for i in range(39):\n",
    "    plt.scatter(np.array([i,]*20),determination_spread[mean_sort[i]],s=2,c='blue')\n",
    "plt.scatter(np.arange(39),mean_spread[mean_sort],c='red')\n",
    "plt.xticks(np.arange(39),mean_sort,rotation=90)\n",
    "plt.show()    \n",
    "\n",
    "print(list(enumerate(np.sqrt(spread_variance))))"
   ]
  },
  {
   "cell_type": "code",
   "execution_count": null,
   "metadata": {},
   "outputs": [],
   "source": []
  },
  {
   "cell_type": "code",
   "execution_count": null,
   "metadata": {
    "scrolled": true
   },
   "outputs": [],
   "source": [
    "for factor in cv_forest.split_clusters[1:]:\n",
    "    print(\"+++++++++++++++++++++\")\n",
    "    print(f\"Factor {factor.name()}\")\n",
    "    print(\"+++++++++++++++++++++\")\n",
    "    cv_forest.self_prediction.compare_factor_fvu(cv_forest.old_prediction, factor)"
   ]
  },
  {
   "cell_type": "code",
   "execution_count": null,
   "metadata": {
    "scrolled": true
   },
   "outputs": [],
   "source": [
    "len(cv_forest.split_clusters)"
   ]
  },
  {
   "cell_type": "code",
   "execution_count": null,
   "metadata": {
    "scrolled": true
   },
   "outputs": [],
   "source": [
    "self_fvu = [1.,]\n",
    "old_fvu = [1.,]\n",
    "\n",
    "for factor in cv_forest.split_clusters[1:]:\n",
    "    print(\"++++++++++++++++++++\")\n",
    "    print(factor.name())\n",
    "    print(\"++++++++++++++++++++\")\n",
    "    (sfvu,olfvu,olmwu) = cv_forest.self_prediction.compare_factor_fvu(cv_forest.old_prediction,factor,plot=True)\n",
    "    self_fvu.append(sfvu)\n",
    "    old_fvu.append(olfvu)\n",
    "\n",
    "self_cod = 1 - np.array(self_fvu) \n",
    "old_cod = 1 - np.array(old_fvu)\n",
    "# other_cod = 1 - np.array(other_fvu)\n"
   ]
  },
  {
   "cell_type": "code",
   "execution_count": null,
   "metadata": {},
   "outputs": [],
   "source": [
    "\n",
    "old_delta = self_cod - old_cod\n",
    "delta_sort = np.argsort(old_delta)\n",
    "\n",
    "print(list(zip(delta_sort,old_delta[delta_sort])))\n",
    "\n",
    "# selected_labels = set([7,27,16,35])\n",
    "\n",
    "plt.figure()\n",
    "plt.title(\"Coefficient of Determination Ratio\")\n",
    "plt.plot([0,.5],[0,.5],label=\"Ideal Fit\", color='red')\n",
    "for i,(p1,p2) in enumerate(zip(self_cod,old_cod)):\n",
    "        plt.text(p1+.005,p2-.01,str(i),fontsize=5)\n",
    "\n",
    "#     if i in selected_labels:\n",
    "#         plt.text(p1+.005,p2-.01,str(i),fontsize=10)\n",
    "#         plt.scatter([p1,],[p2,],s=10,color='blue')\n",
    "plt.scatter(self_cod,old_cod,label=\"Old Mice\",s=2,color='blue')\n",
    "plt.legend()\n",
    "plt.xlabel(\"Trained COD\")\n",
    "plt.ylabel(\"Observed COD\")\n",
    "plt.show()"
   ]
  },
  {
   "cell_type": "code",
   "execution_count": null,
   "metadata": {
    "scrolled": true
   },
   "outputs": [],
   "source": [
    "\n",
    "\n",
    "old_delta = self_cod - old_cod\n",
    "delta_sort = np.argsort(old_delta)\n",
    "\n",
    "cod_sort = np.argsort(self_cod)\n",
    "\n",
    "# self_min = self_cod - (1.5*mean_spread)\n",
    "# self_max = self_cod + (1.5*mean_spread)\n",
    "\n",
    "selected_labels = set([7,27,14,1,22])\n",
    "\n",
    "\n",
    "print(list(zip(delta_sort,old_delta[delta_sort])))\n",
    "\n",
    "plt.figure(figsize=(4,3))\n",
    "plt.title(\"Coefficient of Determination Ratio, Young vs Old\")\n",
    "plt.plot([0,.5],[0,.5],label=\"Ideal Fit\", color='red')\n",
    "for i,(p1,p2) in enumerate(zip(self_cod,old_cod)):\n",
    "    if i in selected_labels:\n",
    "        plt.text(p1+.003,p2-.005,str(i),fontsize=10)\n",
    "        plt.scatter([p1,],[p2,],color='green',s=10)\n",
    "plt.scatter([],[],color='green',label='Selected Factors')\n",
    "# plt.fill_between(self_cod[cod_sort],self_min[cod_sort],self_max[cod_sort])\n",
    "plt.scatter(self_cod,old_cod,s=2)\n",
    "plt.legend()\n",
    "plt.xlabel(\"Trained COD\")\n",
    "plt.ylabel(\"Observed COD\")\n",
    "plt.xlim(0,.4)\n",
    "plt.ylim(0,.4)\n",
    "plt.show()"
   ]
  },
  {
   "cell_type": "code",
   "execution_count": null,
   "metadata": {},
   "outputs": [],
   "source": [
    "selected_labels = set([7,27,14,1,22])\n",
    "\n",
    "plt.figure(figsize=(5,4))\n",
    "plt.title(\"Mean Prediction Discrepancy,\\n Young vs Young and Young vs Old\")\n",
    "for i in range(39):\n",
    "    plt.scatter(np.array([i,]*20),determination_spread[mean_sort[i]],s=2,c='blue')\n",
    "\n",
    "spread_min = np.min(determination_spread.flatten())    \n",
    "for i in range(39):\n",
    "    if mean_sort[i] in selected_labels:\n",
    "        plt.scatter([i,],[spread_min,],marker=\"*\",color='black')\n",
    "plt.scatter([],[],color='black',label='Significant')\n",
    "plt.scatter([],[],color='blue',label=\"Bootstrapped Young vs Young Δ COD\") #phantom scatter to apply label of blue dots\n",
    "plt.scatter(np.arange(39),mean_spread[mean_sort],c='red',label=\"Mean Δ COD Young vs Young\")\n",
    "plt.scatter(np.arange(39),old_delta[mean_sort],c='green',label=\"Mean Δ COD Young vs Old\")\n",
    "plt.xticks(np.arange(39),mean_sort,rotation=90,fontsize=8)\n",
    "plt.xlabel(\"Factor\")\n",
    "plt.ylabel(\"Difference in Coefficient of Determination\")\n",
    "plt.legend()\n",
    "plt.show()    \n"
   ]
  },
  {
   "cell_type": "code",
   "execution_count": null,
   "metadata": {},
   "outputs": [],
   "source": [
    "mean_determination = np.mean(other_determination_spread,axis=1)\n",
    "mean_sort = np.argsort(mean_determination)\n",
    "\n",
    "\n",
    "plt.figure(figsize=(5,4))\n",
    "plt.title(\"Factor COD\")\n",
    "for i in range(39):\n",
    "    plt.scatter(np.array([i,]*20),other_determination_spread[mean_sort[i]],s=1,c='blue')\n",
    "    \n",
    "for i in range(39):\n",
    "    if mean_sort[i] in selected_labels:\n",
    "        plt.scatter([i,],[spread_min,],marker=\"*\",color='black')\n",
    "plt.scatter([],[],color='black',label='Significant')\n",
    "\n",
    "plt.scatter(np.arange(39),mean_determination[mean_sort],c='red',label=\"Young vs Young (Mean)\",alpha=.5)\n",
    "plt.scatter(np.arange(39),old_cod[mean_sort],label=\"Young Vs Old\",c='green',alpha=.5)\n",
    "plt.scatter([],[],color='blue',label=\"Bootstraps\")\n",
    "plt.xticks(np.arange(39),mean_sort,rotation=90,fontsize=8)\n",
    "plt.legend()\n",
    "plt.ylabel(\"COD\")\n",
    "plt.xlabel(\"Factor\")\n",
    "plt.show()    \n"
   ]
  },
  {
   "cell_type": "code",
   "execution_count": null,
   "metadata": {},
   "outputs": [],
   "source": [
    "f_i = 22\n",
    "print(mean_determination[f_i])\n",
    "print(np.min(other_determination_spread[f_i]))\n",
    "print(np.max(other_determination_spread[f_i]))\n",
    "print(old_cod[f_i])"
   ]
  },
  {
   "cell_type": "code",
   "execution_count": null,
   "metadata": {},
   "outputs": [],
   "source": [
    "delta_z = np.abs(old_delta/np.sqrt(spread_variance))\n",
    "z_sort = np.argsort(delta_z[1:])\n",
    "z_sort + 1"
   ]
  },
  {
   "cell_type": "code",
   "execution_count": null,
   "metadata": {},
   "outputs": [],
   "source": [
    "print(delta_z[1:][z_sort])"
   ]
  },
  {
   "cell_type": "code",
   "execution_count": null,
   "metadata": {},
   "outputs": [],
   "source": [
    "selected_labels = set([7,27,16,1,30,14,22,29])\n",
    "\n",
    "plt.figure(figsize=(5,4))\n",
    "plt.title(\"Δ COD vs Z Score\")\n",
    "plt.scatter(old_delta[1:],delta_z[1:],s=10)\n",
    "for i,(p1,p2) in enumerate(zip(old_delta[1:],delta_z[1:])):\n",
    "    if i+1 in selected_labels:\n",
    "        plt.text(p1+.003,p2-.005,str(i+1),fontsize=10)\n",
    "plt.ylabel(\"Z Score\")\n",
    "plt.xlabel(\"Δ COD\")\n",
    "plt.plot([-.14,.14,],[3.3,3.3],'--',label='Significance: \\n P > .001',color='red')\n",
    "plt.plot([.02,.02,],[0,16],'--',color='green',label='COD > .02%')\n",
    "plt.plot([-.02,-.02,],[0,16],'--',color='lightgray',label='COD < .02%')\n",
    "plt.xlim(-.14,.14)\n",
    "plt.legend()\n",
    "plt.show()"
   ]
  },
  {
   "cell_type": "code",
   "execution_count": null,
   "metadata": {},
   "outputs": [],
   "source": [
    "from matplotlib.colors import DivergingNorm\n",
    "\n",
    "factor = cv_forest.split_clusters[7]\n",
    "sister_scores = factor.sister_scores()\n",
    "\n",
    "fig = plt.figure(figsize=(3,2.5))\n",
    "plt.title(\n",
    "    f\"Distribution of Samples \\nIn {factor.name()} (Red) vs Its Sisters (Blue)\")\n",
    "plt.scatter(*cv_forest.tsne_coordinates.T, s=1,\n",
    "            alpha=.6, c=sister_scores, norm=DivergingNorm(0), cmap='bwr')\n",
    "plt.colorbar(label=\"Sister Score\")\n",
    "plt.ylabel(\"tSNE Coordinates (AU)\")\n",
    "plt.xlabel(\"tSNE Coordinates (AU)\")\n",
    "plt.show()"
   ]
  },
  {
   "cell_type": "code",
   "execution_count": null,
   "metadata": {},
   "outputs": [],
   "source": [
    "self_fraction_spread = np.zeros((39,20))\n",
    "other_fraction_spread = np.zeros((39,20))\n",
    "\n",
    "for i,partition in enumerate(partitions[:20]):\n",
    "    print(\"+++++++++++++++++++\")\n",
    "    print(i)\n",
    "    print(\"+++++++++++++++++++\")\n",
    "    partition = np.array(partition).astype(dtype=bool)\n",
    "    partition_mask = np.any(batch_encoding[young_mask,:8][:,partition],axis=1)\n",
    "    sub_forest = tr.Forest.load(data_location + \"restricted_sub_forest/\" + f\"sub_forest_{i}_cached\")\n",
    "    for factor_index in range(1,39):\n",
    "        factor = sub_forest.split_clusters[factor_index]\n",
    "        self_fraction,other_fraction,_ = sub_forest.self_prediction.compare_factor_fractions(sub_forest.test_prediction,factor)\n",
    "        self_fraction_spread[factor_index,i] = self_fraction\n",
    "        other_fraction_spread[factor_index,i] = other_fraction\n",
    "    del(sub_forest)"
   ]
  },
  {
   "cell_type": "code",
   "execution_count": null,
   "metadata": {},
   "outputs": [],
   "source": [
    "mean_fraction = np.mean(other_fraction_spread,axis=1)\n",
    "fraction_sort = np.argsort(mean_fraction)\n",
    "\n",
    "plt.figure(figsize=(5,4))\n",
    "plt.title(\"Factor COD\")\n",
    "for i in range(39):\n",
    "    plt.scatter(np.array([i,]*20),other_fraction_spread[fraction_sort[i]],s=1,c='blue')\n",
    "    \n",
    "# for i in range(39):\n",
    "#     if mean_sort[i] in selected_labels:\n",
    "#         plt.scatter([i,],[spread_min,],marker=\"*\",color='black')\n",
    "# plt.scatter([],[],color='black',label='Significant')\n",
    "\n",
    "plt.scatter(np.arange(39),mean_fraction[fraction_sort],c='red',label=\"Young vs Young (Mean)\",alpha=.5)\n",
    "plt.scatter([],[],color='blue',label=\"Bootstraps\")\n",
    "plt.scatter(np.arange(39),np.array(old_fractions)[fraction_sort],label=\"Old Fraction\")\n",
    "plt.xticks(np.arange(39),fraction_sort,rotation=90,fontsize=8)\n",
    "plt.legend()\n",
    "plt.ylabel(\"Fraction\")\n",
    "plt.xlabel(\"Factor\")\n",
    "plt.show()    \n"
   ]
  },
  {
   "cell_type": "code",
   "execution_count": null,
   "metadata": {},
   "outputs": [],
   "source": [
    "old_fractions = [0,]\n",
    "for factor in cv_forest.split_clusters[1:]:\n",
    "    self_fraction,old_fraction,_ = cv_forest.self_prediction.compare_factor_fractions(cv_forest.old_prediction,factor)\n",
    "    old_fractions.append(old_fraction)"
   ]
  },
  {
   "cell_type": "code",
   "execution_count": null,
   "metadata": {},
   "outputs": [],
   "source": [
    "mouse_ratios = np.zeros((39,8))\n",
    "\n",
    "\n",
    "for i,mouse in enumerate(batch_encoding[young_mask].T[:8]):\n",
    "    for j,factor in enumerate(cv_forest.split_clusters[1:]):\n",
    "        node_encoding = cv_forest.node_sample_encoding(factor.nodes)[mouse]\n",
    "        parent_encoding = cv_forest.node_sample_encoding(factor.parents())[mouse]\n",
    "        node_pop = np.sum(node_encoding,axis=0)\n",
    "        parent_pop = np.sum(parent_encoding,axis=0)\n",
    "        ratio = (node_pop+1)/(parent_pop+1)\n",
    "        mean_ratio = np.mean(ratio)\n",
    "        mouse_ratios[j+1,i] = mean_ratio\n",
    "\n",
    "old_mouse_ratios = np.zeros((39,8))\n",
    "\n",
    "\n",
    "for i,mouse in enumerate(batch_encoding[old_mask].T[8:]):\n",
    "    for j,factor in enumerate(cv_forest.split_clusters[1:]):\n",
    "        nodes = [n for n in factor.nodes if n.parent is not None]\n",
    "        parents = [n.parent for n in nodes]\n",
    "        node_indices = [n.index for n in nodes]\n",
    "        parent_indices = [p.index for p in parents]\n",
    "        node_encoding = cv_forest.old_prediction.node_sample_encoding()[node_indices].T[mouse]\n",
    "        parent_encoding = cv_forest.old_prediction.node_sample_encoding()[parent_indices].T[mouse]\n",
    "        node_pop = np.sum(node_encoding,axis=0)\n",
    "        parent_pop = np.sum(parent_encoding,axis=0)\n",
    "        ratio = (node_pop+1)/(parent_pop+1)\n",
    "        mean_ratio = np.mean(ratio)\n",
    "        old_mouse_ratios[j+1,i] = mean_ratio\n"
   ]
  },
  {
   "cell_type": "code",
   "execution_count": null,
   "metadata": {},
   "outputs": [],
   "source": [
    "plt.figure()\n",
    "for mouse in mouse_ratios.T:\n",
    "    plt.scatter(np.arange(39)-.1,mouse[fraction_sort],s=2,c='blue')\n",
    "for mouse in old_mouse_ratios.T:\n",
    "    plt.scatter(np.arange(39)+.1,mouse[fraction_sort],s=2,c='red')\n",
    "plt.scatter([],[],c='blue',label=\"Young\")\n",
    "plt.scatter([],[],c='red',label='Old')\n",
    "for i in range(39):\n",
    "    plt.plot([i+.5,i+.5],[0,1],\"--\",linewidth=.5,color='lightgray')\n",
    "plt.xticks(np.arange(39),labels=fraction_sort,rotation=90)\n",
    "plt.legend()\n",
    "plt.show()\n"
   ]
  },
  {
   "cell_type": "code",
   "execution_count": null,
   "metadata": {},
   "outputs": [],
   "source": [
    "from scipy.stats import mannwhitneyu\n",
    "\n",
    "ratio_mwus = []\n",
    "\n",
    "for i in range(1,39):\n",
    "    mwu = mannwhitneyu(mouse_ratios[i],old_mouse_ratios[i])\n",
    "    print(\"++++++++++++++++++\")\n",
    "    print(i)\n",
    "    print(mwu)\n",
    "    print(\"++++++++++++++++++\")\n",
    "    ratio_mwus.append(mwu)"
   ]
  },
  {
   "cell_type": "code",
   "execution_count": null,
   "metadata": {},
   "outputs": [],
   "source": [
    "mwu_sort = np.argsort([rm[1] for rm in ratio_mwus]) + 1\n",
    "\n",
    "for i in range(39):\n",
    "    print(mwu_sort[i])\n",
    "    print(ratio_mwus[mwu_sort[i]-1])"
   ]
  },
  {
   "cell_type": "code",
   "execution_count": null,
   "metadata": {},
   "outputs": [],
   "source": []
  }
 ],
 "metadata": {
  "kernelspec": {
   "display_name": "Python 3",
   "language": "python",
   "name": "python3"
  },
  "language_info": {
   "codemirror_mode": {
    "name": "ipython",
    "version": 3
   },
   "file_extension": ".py",
   "mimetype": "text/x-python",
   "name": "python",
   "nbconvert_exporter": "python",
   "pygments_lexer": "ipython3",
   "version": "3.7.4"
  }
 },
 "nbformat": 4,
 "nbformat_minor": 4
}
