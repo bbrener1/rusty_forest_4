{
 "cells": [
  {
   "cell_type": "markdown",
   "metadata": {},
   "source": [
    "## Simulations\n",
    "\n",
    "In this notebook we wish to run a simulation demonstrating some of the basic claims we make regarding the random \n",
    "forest. \n",
    "\n",
    "The key claims we would like to demonstrate are thus:\n",
    "\n",
    "- A dataset can have heirarchal behavior\n",
    "    - an RF will identify such hierarchal structure \n",
    "    - an RF will capture local changes in covariance etc\n",
    "    \n",
    "    - A PCA CANNOT capture some of the effects that we will identify as local in distinct PCs.\n",
    "\n",
    "- When a dataset undergoes changes in population prevalence, we identify this as a shift in factor values\n",
    "\n",
    "- When a dataset undergoes a change in population behavior we identify this as a shift in predictive power"
   ]
  },
  {
   "cell_type": "markdown",
   "metadata": {},
   "source": [
    "To reflect a hierarchal structure with meaningful local behavior, we will need several features that have different means among different clusters, but importantly also interact with each other. In order to approximately reflect the behavior of single-cell data we will draw from a mixture of multi-dimensional gaussians with known covariance and then randomly sample over the draw as per poisson. \n",
    "\n",
    "Let's operate on 10 features total. "
   ]
  },
  {
   "cell_type": "code",
   "execution_count": null,
   "metadata": {},
   "outputs": [],
   "source": [
    "import numpy as np\n",
    "import matplotlib.pyplot as plt"
   ]
  },
  {
   "cell_type": "code",
   "execution_count": null,
   "metadata": {},
   "outputs": [],
   "source": [
    "from scipy.stats import multivariate_normal,norm\n",
    "from sklearn.datasets import make_blobs\n",
    "from sklearn.manifold import TSNE\n"
   ]
  },
  {
   "cell_type": "code",
   "execution_count": null,
   "metadata": {},
   "outputs": [],
   "source": [
    "# First we generate the macro-structure. \n",
    "\n",
    "# We will produce a simple pattern with 5 features with a mean and covariance, 3 features with only a mean, \n",
    "# and two features of pure noise\n",
    "\n",
    "macro_cov = np.array(\n",
    "    [\n",
    "        [1, 0, 1, 0, 2, 0, 0, 0, 0, 0],\n",
    "        [0, 1,-1, 0, 0, 0, 0, 0, 0, 0],\n",
    "        [0, 0, 1, 1, 0, 0, 0, 0, 0, 0],\n",
    "        [0, 0, 0, 2, 0, 0, 0, 0, 0, 0],\n",
    "        [0, 0, 0, 0, 1, 0, 0, 0, 0, 0],\n",
    "        [0, 0, 0, 0, 0, 2, 0, 0, 0, 0],\n",
    "        [0, 0, 0, 0, 0, 0, 1, 0, 0, 0],\n",
    "        [0, 0, 0, 0, 0, 0, 0, 1, 0, 0],\n",
    "        [0, 0, 0, 0, 0, 0, 0, 0, 3, 0],\n",
    "        [0, 0, 0, 0, 0, 0, 0, 0, 0, 1],\n",
    "    ]\n",
    ")\n",
    "\n",
    "# We want a positive semi-definite (or definite) matrix\n",
    "macro_cov = np.dot(macro_cov,macro_cov.T)\n",
    "\n",
    "\n",
    "\n",
    "macro_mean_1 = [\n",
    "                    2,3,1,1,0, \n",
    "                    0,1,2, \n",
    "                    3,3\n",
    "]\n",
    "\n",
    "macro_mean_2 = [\n",
    "                    0,-1,1,0,0, \n",
    "                    -3,2,2, \n",
    "                    3,3\n",
    "]\n",
    "\n",
    "\n",
    "\n"
   ]
  },
  {
   "cell_type": "code",
   "execution_count": null,
   "metadata": {},
   "outputs": [],
   "source": [
    "macro_cov"
   ]
  },
  {
   "cell_type": "code",
   "execution_count": null,
   "metadata": {},
   "outputs": [],
   "source": [
    "macro_samples_1 = multivariate_normal(macro_mean_1,macro_cov).rvs(1000)\n",
    "macro_samples_2 = multivariate_normal(macro_mean_2,macro_cov).rvs(2000)\n",
    "\n",
    "coordinates = np.vstack([macro_samples_1,macro_samples_2])"
   ]
  },
  {
   "cell_type": "code",
   "execution_count": null,
   "metadata": {},
   "outputs": [],
   "source": [
    "\n",
    "t_coordinates = TSNE().fit_transform(coordinates)\n",
    "\n",
    "plt.figure()\n",
    "plt.scatter(*t_coordinates.T)"
   ]
  },
  {
   "cell_type": "code",
   "execution_count": null,
   "metadata": {},
   "outputs": [],
   "source": [
    "# To introduce a local effect, we would like to use a similar but not identical covariance matrix for a smaller part of the dataset\n",
    "\n",
    "micro_cov_1 = np.array(\n",
    "    [\n",
    "        [1, 0, 1, 0, 2, 0, 0, 2, 0, 0],\n",
    "        [0, 1,-1, 0, 0, 0, 0, 0, 3, 0],\n",
    "        [0, 0, 1, 1, 0, 0, 0, 0, 0, 0],\n",
    "        [0, 0, 0, 2, 0, 0, 0, 2, 0, 0],\n",
    "        [0, 0, 0, 0, 1, 0, 1, 2, 0, 0],\n",
    "        [0, 0, 0, 0, 0, 2, 1, 0, 0, 0],\n",
    "        [0, 0, 0, 0, 0, 0, 1, 0, 0, 0],\n",
    "        [0, 0, 0, 0, 0, 0, 0, 1, 2, 0],\n",
    "        [0, 0, 0, 0, 0, 0, 0, 0, 3, 0],\n",
    "        [0, 0, 0, 0, 0, 0, 0, 0, 0, 1],\n",
    "    ]\n",
    ")\n",
    "micro_cov_1 = np.dot(micro_cov_1,micro_cov_1.T)\n",
    "\n",
    "micro_cov_2 = np.array(\n",
    "    [\n",
    "        [1, 0, 1, 0, 2, 0, 0,-1, 0, 0],\n",
    "        [0, 1,-1, 0, 0, 0, 0, 0, 3, 0],\n",
    "        [0, 0, 1, 1, 0, 0, 0, 0, 0, 0],\n",
    "        [0, 0, 0, 2, 0, 0, 0, 0, 0, 0],\n",
    "        [0, 0, 0, 0, 1, 0, 1, 2, 0, 0],\n",
    "        [0, 0, 0, 0, 0, 2, 1, 0, 0, 0],\n",
    "        [0, 0, 0, 0, 0, 0, 1,-1, 0, 0],\n",
    "        [0, 0, 0, 0, 0, 0, 0, 2, 2, 0],\n",
    "        [0, 0, 0, 0, 0, 0, 0, 0, 3, 0],\n",
    "        [0, 0, 0, 0, 0, 0, 0, 0, 0, 1],\n",
    "    ]\n",
    ")\n",
    "\n",
    "micro_cov_2 = np.dot(micro_cov_2,micro_cov_2.T)\n",
    "\n",
    "micro_samples_1 = multivariate_normal(macro_mean_2,micro_cov_1).rvs(2000)\n",
    "micro_samples_2 = multivariate_normal(macro_mean_1,micro_cov_2).rvs(1000)\n"
   ]
  },
  {
   "cell_type": "code",
   "execution_count": null,
   "metadata": {},
   "outputs": [],
   "source": [
    "coordinates = np.vstack([micro_samples_1,micro_samples_2])\n",
    "\n",
    "t_coordinates = TSNE().fit_transform(coordinates)\n",
    "\n",
    "plt.figure()\n",
    "plt.scatter(*t_coordinates.T)\n",
    "plt.show()"
   ]
  },
  {
   "cell_type": "code",
   "execution_count": null,
   "metadata": {},
   "outputs": [],
   "source": [
    "colors = np.zeros(3000)\n",
    "colors[:1000] = 1\n",
    "colors[1000:] = 2\n",
    "# colors[-500:] = 3"
   ]
  },
  {
   "cell_type": "code",
   "execution_count": null,
   "metadata": {},
   "outputs": [],
   "source": [
    "\n",
    "plt.figure()\n",
    "plt.scatter(*t_coordinates.T,c=colors)\n",
    "plt.show()"
   ]
  },
  {
   "cell_type": "code",
   "execution_count": null,
   "metadata": {},
   "outputs": [],
   "source": [
    "import sys\n",
    "sys.path.append('../src/')\n",
    "import tree_reader as tr \n",
    "import lumberjack"
   ]
  },
  {
   "cell_type": "code",
   "execution_count": null,
   "metadata": {},
   "outputs": [],
   "source": [
    "forest = lumberjack.fit(\n",
    "    coordinates,\n",
    "    trees=100,\n",
    "    ifs=5,\n",
    "    ofs=5,\n",
    "    braids=1,\n",
    "    ss=200,\n",
    "    leaves=10,\n",
    "    depth=3,\n",
    "    reduce_input='false',\n",
    "    reduce_output='false'\n",
    ")"
   ]
  },
  {
   "cell_type": "code",
   "execution_count": null,
   "metadata": {},
   "outputs": [],
   "source": [
    "forest.tsne_coordinates = t_coordinates"
   ]
  },
  {
   "cell_type": "code",
   "execution_count": null,
   "metadata": {},
   "outputs": [],
   "source": [
    "forest.interpret_splits(mode='additive_mean',metric='cosine',pca=0,k=100)"
   ]
  },
  {
   "cell_type": "code",
   "execution_count": null,
   "metadata": {},
   "outputs": [],
   "source": [
    "forest.maximum_spanning_tree(mode='samples')"
   ]
  },
  {
   "cell_type": "code",
   "execution_count": null,
   "metadata": {
    "scrolled": false
   },
   "outputs": [],
   "source": [
    "forest.html_tree_summary(n=5)"
   ]
  },
  {
   "cell_type": "code",
   "execution_count": null,
   "metadata": {},
   "outputs": [],
   "source": [
    "# First we will generate the macro-structure. We will generate an eigenvector that applies globally, has a \n",
    "# multivariate normal set of loadings and a bimodal normal distribution of values\n",
    "\n",
    "global_noise = [\n",
    "    1,1,1,1,1,\n",
    "    1,1,1,\n",
    "    1,1,\n",
    "]\n",
    "\n",
    "loading_means_global = [\n",
    "        1,0,-2,3,5,\n",
    "        0,0,0,\n",
    "        3,3\n",
    "    ]\n",
    "    \n",
    "    \n",
    "noise = multivariate_normal(global_noise,np.identity(10)).rvs(3000)    \n",
    "loadings = multivariate_normal(loading_means_global,np.identity(10)).rvs(3000)\n",
    "score_draws = norm().rvs(3000) * 3\n",
    "\n",
    "score_draws[:1000] += 3\n",
    "\n",
    "coordinates = np.dot(score_draws,loadings) + noise\n"
   ]
  },
  {
   "cell_type": "code",
   "execution_count": null,
   "metadata": {},
   "outputs": [],
   "source": [
    "# local_loading_means_1 = [\n",
    "#     0,2,0,0,0,\n",
    "#     1,1,1,\n",
    "#     0,0,\n",
    "# ]\n",
    "\n",
    "# local_loading_means_2 = [\n",
    "#     0,-1,0,0,0,\n",
    "#     1,1,2,\n",
    "#     0,0,\n",
    "# ]\n",
    "\n",
    "# local_loadings_1 = multivariate_normal(local_loading_means_1,np.identity(10)/3).rvs(1500)\n",
    "# local_loadings_2 = multivariate_normal(local_loading_means_2,np.identity(10)/3).rvs(500)\n",
    "\n",
    "# local_scores_1 = np.dot(norm().rvs(1500),local_loadings_1)\n",
    "# local_scores_2 = np.dot(norm().rvs(500),local_loadings_2)\n",
    "\n",
    "# coordinates[1000:2500] += local_scores_1\n",
    "# coordinates[2500:] += local_scores_2\n",
    "\n",
    "local_marker = np.zeros(3000,dtype=bool)\n",
    "local_marker[1000:] = True"
   ]
  },
  {
   "cell_type": "code",
   "execution_count": null,
   "metadata": {},
   "outputs": [],
   "source": [
    "t_coordinates = TSNE().fit_transform(coordinates)\n",
    "\n",
    "plt.figure()\n",
    "plt.scatter(*t_coordinates.T)\n",
    "plt.show()\n",
    "\n",
    "plt.figure()\n",
    "plt.scatter(*t_coordinates.T,c=local_marker)\n",
    "plt.show()"
   ]
  },
  {
   "cell_type": "code",
   "execution_count": null,
   "metadata": {},
   "outputs": [],
   "source": [
    "from sklearn.decomposition import PCA\n",
    "\n",
    "model = PCA().fit(coordinates)"
   ]
  },
  {
   "cell_type": "code",
   "execution_count": null,
   "metadata": {},
   "outputs": [],
   "source": [
    "model.explained_variance_ratio_"
   ]
  },
  {
   "cell_type": "code",
   "execution_count": null,
   "metadata": {},
   "outputs": [],
   "source": [
    "model.components_"
   ]
  },
  {
   "cell_type": "code",
   "execution_count": null,
   "metadata": {},
   "outputs": [],
   "source": [
    "pct = model.transform(coordinates)\n",
    "pct.shape"
   ]
  },
  {
   "cell_type": "code",
   "execution_count": null,
   "metadata": {
    "scrolled": false
   },
   "outputs": [],
   "source": [
    "plt.figure()\n",
    "plt.scatter(*t_coordinates.T,c=pct[:,0],cmap='bwr')\n",
    "plt.colorbar()\n",
    "plt.show()\n",
    "\n",
    "plt.figure()\n",
    "plt.scatter(*t_coordinates.T,c=pct[:,1],cmap='bwr')\n",
    "plt.colorbar()\n",
    "plt.show()\n",
    "\n",
    "plt.figure()\n",
    "plt.scatter(*t_coordinates.T,c=pct[:,2],cmap='bwr')\n",
    "plt.colorbar()\n",
    "plt.show()"
   ]
  },
  {
   "cell_type": "code",
   "execution_count": null,
   "metadata": {},
   "outputs": [],
   "source": []
  },
  {
   "cell_type": "code",
   "execution_count": null,
   "metadata": {},
   "outputs": [],
   "source": []
  }
 ],
 "metadata": {
  "kernelspec": {
   "display_name": "Python 3",
   "language": "python",
   "name": "python3"
  },
  "language_info": {
   "codemirror_mode": {
    "name": "ipython",
    "version": 3
   },
   "file_extension": ".py",
   "mimetype": "text/x-python",
   "name": "python",
   "nbconvert_exporter": "python",
   "pygments_lexer": "ipython3",
   "version": "3.7.4"
  }
 },
 "nbformat": 4,
 "nbformat_minor": 4
}
