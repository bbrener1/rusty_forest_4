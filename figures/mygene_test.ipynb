{
 "cells": [
  {
   "cell_type": "code",
   "execution_count": 10,
   "metadata": {},
   "outputs": [],
   "source": [
    "import mygene\n",
    "mg = mygene.MyGeneInfo()"
   ]
  },
  {
   "cell_type": "code",
   "execution_count": 29,
   "metadata": {},
   "outputs": [
    {
     "data": {
      "text/plain": [
       "{'_id': '5653',\n",
       " '_score': 485.1673,\n",
       " 'alias': ['Bssp', 'Klk7', 'PRSS18', 'PRSS9', 'SP59', 'hK6'],\n",
       " 'name': 'kallikrein related peptidase 6',\n",
       " 'summary': \"This gene encodes a member of the kallikrein subfamily of the peptidase S1 family of serine proteases. Growing evidence suggests that many kallikreins are implicated in carcinogenesis and some have potential as novel cancer and other disease biomarkers. The encoded preproprotein is proteolytically processed to generate the mature protease. Expression of this protease is regulated by steroid hormones and may be elevated in multiple human cancers and in serum from psoriasis patients. The encoded protease may participate in the cleavage of amyloid precursor protein and alpha-synuclein, thus implicating this protease in Alzheimer's and Parkinson's disease, respectively. This gene is located in a gene cluster on chromosome 19. Alternative splicing results in multiple transcript variants, at least one of which encodes an isoform that is proteolytically processed. [provided by RefSeq, Feb 2016].\"}"
      ]
     },
     "execution_count": 29,
     "metadata": {},
     "output_type": "execute_result"
    }
   ],
   "source": [
    "mg.query('klk6',fields='name,alias,summary')['hits'][0]"
   ]
  },
  {
   "cell_type": "code",
   "execution_count": 16,
   "metadata": {},
   "outputs": [
    {
     "data": {
      "text/plain": [
       "['__class__',\n",
       " '__delattr__',\n",
       " '__dict__',\n",
       " '__dir__',\n",
       " '__doc__',\n",
       " '__eq__',\n",
       " '__format__',\n",
       " '__ge__',\n",
       " '__getattribute__',\n",
       " '__gt__',\n",
       " '__hash__',\n",
       " '__init__',\n",
       " '__init_subclass__',\n",
       " '__le__',\n",
       " '__lt__',\n",
       " '__module__',\n",
       " '__ne__',\n",
       " '__new__',\n",
       " '__reduce__',\n",
       " '__reduce_ex__',\n",
       " '__repr__',\n",
       " '__setattr__',\n",
       " '__sizeof__',\n",
       " '__str__',\n",
       " '__subclasshook__',\n",
       " '__weakref__',\n",
       " '_annotation_endpoint',\n",
       " '_annotations_generator',\n",
       " '_cached',\n",
       " '_clear_cache',\n",
       " '_dataframe',\n",
       " '_default_cache_file',\n",
       " '_default_url',\n",
       " '_delay',\n",
       " '_docstring_obj',\n",
       " '_entity',\n",
       " '_fetch_all',\n",
       " '_format_list',\n",
       " '_from_cache_notification',\n",
       " '_get',\n",
       " '_get_fields',\n",
       " '_getannotation',\n",
       " '_getannotations',\n",
       " '_getannotations_inner',\n",
       " '_max_query',\n",
       " '_metadata',\n",
       " '_metadata_endpoint',\n",
       " '_metadata_fields_endpoint',\n",
       " '_optionally_plural_object_type',\n",
       " '_pkg_user_agent_header',\n",
       " '_post',\n",
       " '_query',\n",
       " '_query_endpoint',\n",
       " '_querymany',\n",
       " '_querymany_inner',\n",
       " '_repeated_query',\n",
       " '_repeated_query_old',\n",
       " '_scroll_size',\n",
       " '_set_caching',\n",
       " '_step',\n",
       " '_stop_caching',\n",
       " '_top_level_jsonld_uris',\n",
       " 'clear_cache',\n",
       " 'default_user_agent',\n",
       " 'delay',\n",
       " 'findgenes',\n",
       " 'get_fields',\n",
       " 'getgene',\n",
       " 'getgenes',\n",
       " 'max_query',\n",
       " 'metadata',\n",
       " 'query',\n",
       " 'querymany',\n",
       " 'raise_for_status',\n",
       " 'scroll_size',\n",
       " 'set_caching',\n",
       " 'step',\n",
       " 'stop_caching',\n",
       " 'url']"
      ]
     },
     "execution_count": 16,
     "metadata": {},
     "output_type": "execute_result"
    }
   ],
   "source": [
    "dir(mg)"
   ]
  },
  {
   "cell_type": "code",
   "execution_count": null,
   "metadata": {},
   "outputs": [],
   "source": []
  }
 ],
 "metadata": {
  "kernelspec": {
   "display_name": "Python 3",
   "language": "python",
   "name": "python3"
  },
  "language_info": {
   "codemirror_mode": {
    "name": "ipython",
    "version": 3
   },
   "file_extension": ".py",
   "mimetype": "text/x-python",
   "name": "python",
   "nbconvert_exporter": "python",
   "pygments_lexer": "ipython3",
   "version": "3.7.4"
  }
 },
 "nbformat": 4,
 "nbformat_minor": 4
}
