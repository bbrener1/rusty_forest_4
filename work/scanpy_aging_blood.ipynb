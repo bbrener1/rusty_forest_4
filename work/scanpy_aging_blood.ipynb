{
 "cells": [
  {
   "cell_type": "code",
   "execution_count": null,
   "metadata": {},
   "outputs": [],
   "source": [
    "import numpy as np\n",
    "import matplotlib.pyplot as plt\n",
    "import scanpy as sc"
   ]
  },
  {
   "cell_type": "code",
   "execution_count": null,
   "metadata": {},
   "outputs": [],
   "source": [
    "# young = np.loadtxt(\"/Users/bbrener1/battle/other_sc/young_counts.txt\")\n",
    "# old = np.loadtxt(\"/Users/bbrener1/battle/other_sc/old_counts.txt\")\n",
    "header = np.loadtxt(\"/Users/bbrener1/battle/other_sc/header.txt\",dtype=str)\n",
    "young = sc.read_text(\"/Users/bbrener1/battle/other_sc/young_counts.txt\")\n",
    "old = sc.read_text(\"/Users/bbrener1/battle/other_sc/old_counts.txt\")\n",
    "\n",
    "young.var_names = header\n",
    "old.var_names = header"
   ]
  },
  {
   "cell_type": "code",
   "execution_count": null,
   "metadata": {},
   "outputs": [],
   "source": [
    "sc.pp.neighbors(young)\n",
    "sc.tl.louvain(young)\n",
    "sc.tl.umap(young)\n",
    "sc.pl.umap(young,color='louvain')\n"
   ]
  },
  {
   "cell_type": "code",
   "execution_count": null,
   "metadata": {},
   "outputs": [],
   "source": [
    "mean_sort = np.argsort(np.mean(young.X,axis=0))\n",
    "mean_sort.shape\n",
    "\n",
    "header[mean_sort[-100:]]"
   ]
  },
  {
   "cell_type": "code",
   "execution_count": null,
   "metadata": {},
   "outputs": [],
   "source": [
    "print(young.shape)\n",
    "print(old.shape)\n",
    "print(header.shape)"
   ]
  },
  {
   "cell_type": "code",
   "execution_count": null,
   "metadata": {},
   "outputs": [],
   "source": []
  },
  {
   "cell_type": "code",
   "execution_count": null,
   "metadata": {},
   "outputs": [],
   "source": [
    "import sys\n",
    "# sys.path.append('/localscratch/bbrener1/rusty_forest_v3/src')\n",
    "sys.path.append('../src')\n",
    "import tree_reader as tr \n",
    "import lumberjack"
   ]
  },
  {
   "cell_type": "code",
   "execution_count": null,
   "metadata": {},
   "outputs": [],
   "source": [
    "forest = lumberjack.fit(\n",
    "    young.X,\n",
    "    header=header,\n",
    "    trees=100,\n",
    "    braids=1,\n",
    "    ifs=1500,\n",
    "    ofs=1500,\n",
    "    ss=500,\n",
    "    depth=3,\n",
    "    leaves=10,\n",
    "    sfr=.5,\n",
    "    reduce_input=\"true\",\n",
    ")\n",
    "\n",
    "forest.set_cache(True)\n",
    "\n",
    "forest.arguments"
   ]
  },
  {
   "cell_type": "code",
   "execution_count": null,
   "metadata": {},
   "outputs": [],
   "source": [
    "# forest.backup(\"./scanpy_cmp_aging_blood\")\n",
    "# forest.tsne_coordinates = young.obsm['X_umap']"
   ]
  },
  {
   "cell_type": "code",
   "execution_count": null,
   "metadata": {},
   "outputs": [],
   "source": [
    "forest = tr.Forest.load('scanpy_cmp_aging_blood')\n",
    "forest.arguments"
   ]
  },
  {
   "cell_type": "code",
   "execution_count": null,
   "metadata": {},
   "outputs": [],
   "source": [
    "forest.interpret_splits(mode='sister',metric=\"sister\",k=20,relatives=False,pca=False)"
   ]
  },
  {
   "cell_type": "code",
   "execution_count": null,
   "metadata": {},
   "outputs": [],
   "source": [
    "forest.maximum_spanning_tree(mode='samples')"
   ]
  },
  {
   "cell_type": "code",
   "execution_count": null,
   "metadata": {
    "scrolled": false
   },
   "outputs": [],
   "source": [
    "forest.tsne_coordinates = young.obsm[\"X_umap\"]\n",
    "forest.html_tree_summary(n=10)"
   ]
  },
  {
   "cell_type": "code",
   "execution_count": null,
   "metadata": {},
   "outputs": [],
   "source": [
    "young_prediction = forest.predict(young.X)\n",
    "old_prediction = forest.predict(old.X)"
   ]
  },
  {
   "cell_type": "code",
   "execution_count": null,
   "metadata": {
    "scrolled": false
   },
   "outputs": [],
   "source": [
    "young_features, young_samples = young_prediction.prediction_report(mode=\"additive_mean\")\n",
    "old_features, old_samples = old_prediction.prediction_report(mode=\"additive_mean\")"
   ]
  },
  {
   "cell_type": "code",
   "execution_count": null,
   "metadata": {},
   "outputs": [],
   "source": [
    "delta,match = young_prediction.compare_predictions(old_prediction)"
   ]
  },
  {
   "cell_type": "code",
   "execution_count": null,
   "metadata": {},
   "outputs": [],
   "source": [
    "delta_sort = np.argsort(np.abs(delta))\n",
    "delta[delta_sort]"
   ]
  },
  {
   "cell_type": "code",
   "execution_count": null,
   "metadata": {},
   "outputs": [],
   "source": [
    "old_prediction.feature_mse()"
   ]
  },
  {
   "cell_type": "code",
   "execution_count": null,
   "metadata": {},
   "outputs": [],
   "source": [
    "feature_mask = np.random.random(young.X.shape[1]) > .5\n",
    "in_counts,out_counts = young.X.T[feature_mask].T,young.X.T[~feature_mask].T"
   ]
  },
  {
   "cell_type": "code",
   "execution_count": null,
   "metadata": {},
   "outputs": [],
   "source": [
    "from sklearn.decomposition import PCA\n",
    "\n",
    "model = PCA(n_components=30).fit(out_counts)\n",
    "transformed = model.transform(out_counts)\n",
    "recovered = model.inverse_transform(transformed)\n",
    "\n",
    "centered = out_counts - np.mean(out_counts,axis=0)\n",
    "transformed_residual = np.power(centered,2)\n",
    "\n",
    "recovered_residual = np.power(out_counts - recovered,2)\n",
    "\n",
    "pca_recovered_per_sample = np.sum(recovered_residual,axis=1)\n",
    "pca_recovered_fraction_per_sample = np.sum(recovered_residual,axis=1) / np.sum(transformed_residual,axis=1)\n",
    "print(np.sum(transformed_residual))\n",
    "print(np.sum(recovered_residual))\n",
    "\n",
    "print(f\"Remaining variance:{(np.sum(recovered_residual) / np.sum(transformed_residual))}\")"
   ]
  },
  {
   "cell_type": "code",
   "execution_count": null,
   "metadata": {},
   "outputs": [],
   "source": [
    "from sklearn.ensemble import RandomForestRegressor as RF\n",
    "\n",
    "forest_model = RF(n_estimators=100,min_samples_split=10,verbose=4,n_jobs=10,max_samples=200).fit(in_counts,out_counts)\n"
   ]
  },
  {
   "cell_type": "code",
   "execution_count": null,
   "metadata": {},
   "outputs": [],
   "source": [
    "recovered = forest_model.predict(in_counts)\n",
    "\n",
    "recovered_residual = np.power(out_counts - recovered,2)\n",
    "\n",
    "print(f\"Remaining variance:{(np.sum(recovered_residual) / np.sum(transformed_residual))}\")"
   ]
  },
  {
   "cell_type": "code",
   "execution_count": null,
   "metadata": {},
   "outputs": [],
   "source": [
    "plt.figure()\n",
    "plt.scatter(*young.obsm['X_umap'].T,c=young_samples)\n",
    "plt.colorbar()"
   ]
  },
  {
   "cell_type": "code",
   "execution_count": null,
   "metadata": {},
   "outputs": [],
   "source": [
    "dir(young_prediction)"
   ]
  },
  {
   "cell_type": "code",
   "execution_count": null,
   "metadata": {},
   "outputs": [],
   "source": [
    "np.mean(young.X,axis=0)[2201]"
   ]
  },
  {
   "cell_type": "code",
   "execution_count": null,
   "metadata": {},
   "outputs": [],
   "source": [
    "list(header).index(\"Znf683\")"
   ]
  },
  {
   "cell_type": "code",
   "execution_count": null,
   "metadata": {},
   "outputs": [],
   "source": [
    "for gene in header:\n",
    "    if 'X' in gene:\n",
    "        print(gene)\n",
    "#     if 'Tr' in gene:\n",
    "#         print(gene)"
   ]
  },
  {
   "cell_type": "code",
   "execution_count": null,
   "metadata": {},
   "outputs": [],
   "source": []
  },
  {
   "cell_type": "code",
   "execution_count": null,
   "metadata": {},
   "outputs": [],
   "source": []
  },
  {
   "cell_type": "code",
   "execution_count": null,
   "metadata": {},
   "outputs": [],
   "source": []
  },
  {
   "cell_type": "code",
   "execution_count": null,
   "metadata": {},
   "outputs": [],
   "source": []
  },
  {
   "cell_type": "code",
   "execution_count": null,
   "metadata": {},
   "outputs": [],
   "source": []
  },
  {
   "cell_type": "code",
   "execution_count": null,
   "metadata": {},
   "outputs": [],
   "source": []
  },
  {
   "cell_type": "code",
   "execution_count": null,
   "metadata": {},
   "outputs": [],
   "source": []
  }
 ],
 "metadata": {
  "kernelspec": {
   "display_name": "Python 3",
   "language": "python",
   "name": "python3"
  },
  "language_info": {
   "codemirror_mode": {
    "name": "ipython",
    "version": 3
   },
   "file_extension": ".py",
   "mimetype": "text/x-python",
   "name": "python",
   "nbconvert_exporter": "python",
   "pygments_lexer": "ipython3",
   "version": "3.7.4"
  }
 },
 "nbformat": 4,
 "nbformat_minor": 4
}
