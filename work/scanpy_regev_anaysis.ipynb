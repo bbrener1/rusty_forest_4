{
 "cells": [
  {
   "cell_type": "code",
   "execution_count": null,
   "metadata": {},
   "outputs": [],
   "source": [
    "import numpy as np\n",
    "import matplotlib.pyplot as plt\n",
    "import scanpy as sc"
   ]
  },
  {
   "cell_type": "code",
   "execution_count": null,
   "metadata": {},
   "outputs": [],
   "source": []
  },
  {
   "cell_type": "code",
   "execution_count": null,
   "metadata": {},
   "outputs": [],
   "source": [
    "# This notebook will go through a conventional scanpy analysis of fan data, so that we can compare it to an \n",
    "# analysis performed by a random forest"
   ]
  },
  {
   "cell_type": "code",
   "execution_count": null,
   "metadata": {},
   "outputs": [],
   "source": [
    "# First we load the data, fortunately the facilities for this are pretty nice\n",
    "\n",
    "regev = sc.read('/home/bbrener1/transfer/all_raw/raw_data/aging_sc/primary_counts_gene_expression_array.txt')\n",
    "header = np.loadtxt('/home/bbrener1/transfer/all_raw/raw_data/aging_sc/primary_counts_gene_id_array.txt',dtype=str)\n",
    "regev.shape\n"
   ]
  },
  {
   "cell_type": "code",
   "execution_count": null,
   "metadata": {},
   "outputs": [],
   "source": [
    "regev = regev.transpose()\n",
    "regev.var_names = header\n",
    "regev.shape"
   ]
  },
  {
   "cell_type": "code",
   "execution_count": null,
   "metadata": {},
   "outputs": [],
   "source": [
    "sc.pp.filter_genes(regev,min_counts=10)\n",
    "regev.shape"
   ]
  },
  {
   "cell_type": "code",
   "execution_count": null,
   "metadata": {},
   "outputs": [],
   "source": []
  },
  {
   "cell_type": "code",
   "execution_count": null,
   "metadata": {},
   "outputs": [],
   "source": [
    "sc.pp.downsample_counts(fan,counts_per_cell=2500)\n",
    "\n",
    "fan.X = np.array(fan.X.todense())\n",
    "fan.X = fan.X.astype(dtype=float)\n",
    "type(fan.X)"
   ]
  },
  {
   "cell_type": "code",
   "execution_count": null,
   "metadata": {},
   "outputs": [],
   "source": [
    "regev.X[:10,:10]\n",
    "\n",
    "# plt.figure()\n",
    "# plt.hist(\n",
    "#     np.sum(regev.X,axis=1),\n",
    "#     bins=np.arange(0,20000,500),\n",
    "# )\n",
    "# plt.show()\n",
    "\n",
    "# plt.figure()\n",
    "# plt.hist(\n",
    "#     np.sum(regev.X,axis=0),\n",
    "#     bins=np.arange(0,2000,100),\n",
    "# )\n",
    "# plt.show()\n",
    "\n",
    "\n",
    "\n"
   ]
  },
  {
   "cell_type": "code",
   "execution_count": null,
   "metadata": {},
   "outputs": [],
   "source": [
    "\n",
    "sc.pp.filter_genes(fan, min_counts=1)         # only consider genes with more than 1 count\n",
    "fan_copy = fan.copy()\n",
    "sc.pp.normalize_per_cell(fan_copy)\n",
    "filter_result = sc.pp.filter_genes_dispersion(  # select highly-variable genes\n",
    "    fan_copy.X, flavor='cell_ranger', n_top_genes=2000, log=False\n",
    ")\n",
    "fan_filtered = fan[:, filter_result.gene_subset]     # subset the genes\n",
    "\n",
    "umis = fan_filtered.copy().X\n",
    "\n",
    "sc.pp.normalize_per_cell(fan_filtered)                 # renormalize after filtering\n",
    "sc.pp.log1p(fan_filtered)                      # log transform: adata.X = log(adata.X + 1)\n",
    "sc.pp.scale(fan_filtered)\n",
    "\n",
    "fan_working = fan_filtered.copy()"
   ]
  },
  {
   "cell_type": "code",
   "execution_count": null,
   "metadata": {},
   "outputs": [],
   "source": []
  },
  {
   "cell_type": "code",
   "execution_count": null,
   "metadata": {},
   "outputs": [],
   "source": []
  },
  {
   "cell_type": "code",
   "execution_count": null,
   "metadata": {},
   "outputs": [],
   "source": [
    "import sys\n",
    "sys.path.append('/localscratch/bbrener1/rusty_forest_v3/src')\n",
    "# sys.path.append('../src')\n",
    "import tree_reader as tr \n",
    "import lumberjack\n",
    "\n",
    "forest_log = lumberjack.fit(\n",
    "    fan_filtered.X,\n",
    "    header=fan_filtered.var_names,\n",
    "    trees=100,\n",
    "    braids=3,\n",
    "    ifs=700,\n",
    "    ofs=700,\n",
    "    ss=200,\n",
    "    depth=8,\n",
    "    leaves=100,\n",
    "    sfr=.5\n",
    ")\n",
    "\n",
    "\n",
    "forest = lumberjack.fit(\n",
    "    umis,\n",
    "    header=fan_filtered.var_names,\n",
    "    trees=100,\n",
    "    braids=3,\n",
    "    ifs=700,\n",
    "    ofs=700,\n",
    "    ss=200,\n",
    "    depth=8,\n",
    "    leaves=50,\n",
    "    sfr=.5\n",
    ")\n",
    "\n",
    "forest.set_cache(True)"
   ]
  },
  {
   "cell_type": "code",
   "execution_count": null,
   "metadata": {},
   "outputs": [],
   "source": [
    "list(fan_filtered.var_names)"
   ]
  },
  {
   "cell_type": "code",
   "execution_count": null,
   "metadata": {},
   "outputs": [],
   "source": [
    "forest.backup(\"scanpy_cmp_fan\")\n",
    "# forest = tr.Forest.reconstitute('scanpy_cmp_johnston')\n",
    "# forest.arguments"
   ]
  },
  {
   "cell_type": "code",
   "execution_count": null,
   "metadata": {},
   "outputs": [],
   "source": [
    "forest.reset_sample_clusters()\n",
    "# forest.cluster_samples_encoding(sub=.8,k=20,depth=8,metric='jaccard')\n",
    "forest.cluster_samples_encoding(sub=.8,k=20,depth=8,metric='cosine',pca=100)\n",
    "\n",
    "# forest.reset_leaf_clusters()\n",
    "# forest.cluster_leaves_samples(sub=.5,k=20,depth=6,metric=\"jaccard\")\n",
    "# forest.cluster_leaves_samples(sub=.8,k=20,metric=\"cosine\",pca=100)\n",
    "# forest.cluster_leaves_predictions(sub=.8,k=20,metric=\"cosine\",pca=100,mode=\"mean\")\n",
    "# forest.cluster_samples_leaf_cluster()"
   ]
  },
  {
   "cell_type": "code",
   "execution_count": null,
   "metadata": {
    "scrolled": false
   },
   "outputs": [],
   "source": [
    "# forest.tsne(pca=100)\n",
    "forest.tsne_coordinates = fan_filtered.obsm['X_umap']\n",
    "forest_log.tsne_coordinates = fan_filtered.obsm['X_umap']\n",
    "# forest.plot_sample_clusters()\n",
    "# forest.trees[0].plot()"
   ]
  },
  {
   "cell_type": "code",
   "execution_count": null,
   "metadata": {
    "scrolled": false
   },
   "outputs": [],
   "source": [
    "for cluster in forest.leaf_clusters:\n",
    "    cluster.plot_sample_counts()"
   ]
  },
  {
   "cell_type": "code",
   "execution_count": null,
   "metadata": {},
   "outputs": [],
   "source": [
    "forest.reset_split_clusters()\n",
    "forest.interpret_splits(sub=.8,k=20,relatives=True,pca=100,depth=6,mode='additive_mean',metric='cosine')\n",
    "\n",
    "forest_log.reset_split_clusters()\n",
    "forest_log.interpret_splits(sub=.8,k=20,relatives=True,pca=100,depth=6,mode='additive_mean',metric='cosine')"
   ]
  },
  {
   "cell_type": "code",
   "execution_count": null,
   "metadata": {},
   "outputs": [],
   "source": []
  },
  {
   "cell_type": "code",
   "execution_count": null,
   "metadata": {
    "scrolled": true
   },
   "outputs": [],
   "source": [
    "# forest.most_likely_tree(depth=6)\n",
    "forest.maximum_spanning_tree(depth=6)\n",
    "\n",
    "# forest_log.most_likely_tree(depth=6)\n",
    "forest_log.maximum_spanning_tree(depth=6)"
   ]
  },
  {
   "cell_type": "code",
   "execution_count": null,
   "metadata": {},
   "outputs": [],
   "source": [
    "# forest.tsne(pca=100)\n",
    "forest.html_tree_summary(n=10)\n",
    "# forest_log.html_tree_summary(n=10)"
   ]
  },
  {
   "cell_type": "code",
   "execution_count": null,
   "metadata": {},
   "outputs": [],
   "source": [
    "# We now establish the neighbor graph because several methods rely on it\n",
    "\n",
    "sc.pp.neighbors(fan_filtered)"
   ]
  },
  {
   "cell_type": "code",
   "execution_count": null,
   "metadata": {},
   "outputs": [],
   "source": [
    "sc.tl.umap(fan_filtered)"
   ]
  },
  {
   "cell_type": "code",
   "execution_count": null,
   "metadata": {},
   "outputs": [],
   "source": [
    "sc.pl.umap(fan_filtered)"
   ]
  },
  {
   "cell_type": "code",
   "execution_count": null,
   "metadata": {},
   "outputs": [],
   "source": [
    "# We want to do clusterin via Louvain as one of the gold standards\n",
    "import warnings\n",
    "with warnings.catch_warnings():\n",
    "    warnings.simplefilter(\"ignore\")\n",
    "    sc.tl.louvain(fan_filtered,resolution=1)"
   ]
  },
  {
   "cell_type": "code",
   "execution_count": null,
   "metadata": {},
   "outputs": [],
   "source": [
    "sc.pl.umap(fan_filtered,color='louvain')"
   ]
  },
  {
   "cell_type": "code",
   "execution_count": null,
   "metadata": {},
   "outputs": [],
   "source": [
    "sc.tl.tsne(fan_filtered)"
   ]
  },
  {
   "cell_type": "code",
   "execution_count": null,
   "metadata": {},
   "outputs": [],
   "source": [
    "sc.pl.tsne(fan_filtered,color='louvain')"
   ]
  },
  {
   "cell_type": "code",
   "execution_count": null,
   "metadata": {
    "scrolled": false
   },
   "outputs": [],
   "source": [
    "\n",
    "\n",
    "plt.figure(figsize=(15,10))\n",
    "plt.scatter(*fan_filtered.obsm['X_umap'].T,c=forest.sample_labels,s=4,cmap='rainbow')\n",
    "plt.show()"
   ]
  },
  {
   "cell_type": "code",
   "execution_count": null,
   "metadata": {},
   "outputs": [],
   "source": [
    "from scipy.cluster.hierarchy import dendrogram,linkage\n",
    "\n",
    "# feature_sort = dendrogram(linkage(forest2.output.T,metric='correlation',method='average'),no_plot=True)['leaves']\n",
    "# sample_sort = dendrogram(linkage(forest2.output,metric='cos',method='average'),no_plot=True)['leaves']\n",
    "\n",
    "plt.figure()\n",
    "plt.imshow(forest2.output[sample_sort].T[feature_sort].T,aspect='auto',interpolation='none',vmin=-1,vmax=3)\n",
    "plt.colorbar()\n",
    "plt.show()"
   ]
  },
  {
   "cell_type": "code",
   "execution_count": null,
   "metadata": {},
   "outputs": [],
   "source": [
    "correlations = np.corrcoef(fan_filtered.X.T)\n",
    "correlations = correlations[feature_sort].T[feature_sort]\n",
    "\n",
    "\n",
    "\n",
    "plt.figure()\n",
    "plt.title(\"Correlations of Features In Fan Tendon Data\")\n",
    "plt.imshow(correlations,cmap='seismic',vmin=-1,vmax=1)\n",
    "plt.colorbar()\n",
    "plt.show()"
   ]
  }
 ],
 "metadata": {
  "kernelspec": {
   "display_name": "Python 3",
   "language": "python",
   "name": "python3"
  },
  "language_info": {
   "codemirror_mode": {
    "name": "ipython",
    "version": 3
   },
   "file_extension": ".py",
   "mimetype": "text/x-python",
   "name": "python",
   "nbconvert_exporter": "python",
   "pygments_lexer": "ipython3",
   "version": "3.7.4"
  }
 },
 "nbformat": 4,
 "nbformat_minor": 2
}
