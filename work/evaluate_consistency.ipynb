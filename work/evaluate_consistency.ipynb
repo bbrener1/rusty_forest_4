{
 "cells": [
  {
   "cell_type": "code",
   "execution_count": null,
   "metadata": {},
   "outputs": [],
   "source": []
  },
  {
   "cell_type": "code",
   "execution_count": null,
   "metadata": {},
   "outputs": [],
   "source": [
    "import matplotlib as mpl\n",
    "# COLOR = 'white'\n",
    "# mpl.rcParams['text.color'] = COLOR\n",
    "# mpl.rcParams['axes.labelcolor'] = COLOR\n",
    "# mpl.rcParams['xtick.color'] = COLOR\n",
    "# mpl.rcParams['ytick.color'] = COLOR\n",
    "mpl.rcParams['figure.dpi'] = 100\n",
    "\n",
    "\n",
    "# import fancyimpute as fi\n",
    "import numpy as np\n",
    "import matplotlib.pyplot as plt\n",
    "from scipy.stats import pearsonr\n",
    "from scipy.stats import variation\n",
    "from math import isnan\n",
    "\n",
    "from scipy.cluster.hierarchy import dendrogram,linkage\n",
    "\n",
    "import sys\n",
    "sys.path.append(\"../src/\")\n",
    "import lumberjack\n",
    "import tree_reader as tr\n",
    "\n",
    "import sklearn"
   ]
  },
  {
   "cell_type": "code",
   "execution_count": null,
   "metadata": {
    "scrolled": true
   },
   "outputs": [],
   "source": [
    "counts = np.loadtxt('/home/bbrener1/lumberprot/work/nesterowa_counts.txt')\n",
    "header = np.loadtxt('/home/bbrener1/lumberprot/work/nesterowa_gene_header.txt',dtype=str)\n",
    "annotations = \n",
    "\n",
    "plt.figure(figsize=(15,10))\n",
    "plt.title(\"Cell x Gene Expression Unsorted\",fontsize=20)\n",
    "plt.imshow(counts,aspect='auto')\n",
    "plt.xlabel(\"Genes\",fontsize=15)\n",
    "plt.ylabel(\"Cells\",fontsize=15)\n",
    "plt.colorbar()\n",
    "plt.show()\n",
    "\n",
    "cell_sort = dendrogram(linkage(counts,metric='cos',method='average'),no_plot=True)['leaves']\n",
    "feature_sort = dendrogram(linkage(counts.T,metric='cos',method='average'),no_plot=True)['leaves']\n",
    "\n",
    "plt.figure(figsize=(15,10))\n",
    "plt.title(\"Cell x Gene Expression, Agglomerative\",fontsize=20)\n",
    "plt.imshow(counts[cell_sort].T[feature_sort].T,aspect='auto')\n",
    "plt.xlabel(\"Genes\",fontsize=15)\n",
    "plt.ylabel(\"Cells\",fontsize=15)\n",
    "plt.colorbar()\n",
    "plt.show()\n",
    "\n",
    "plt.figure()\n",
    "plt.title(\"Frequency of Mean Gene Expression Values, Mouse Blood Cells\")\n",
    "plt.xlabel(\"Mean Expression (log TPM)\")\n",
    "plt.ylabel(\"Frequency\")\n",
    "plt.hist(np.mean(counts,axis=0),bins=50,log=True)\n",
    "plt.show()\n",
    "\n",
    "plt.figure()\n",
    "plt.title(\"Frequency of Individual Expression Values, Mouse Blood Cells\")\n",
    "plt.xlabel(\"Mean Expression (log TPM)\")\n",
    "plt.ylabel(\"Frequency\")\n",
    "plt.hist(counts.flatten(),bins=50,log=True)\n",
    "plt.show()\n",
    "\n",
    "\n",
    "# print(np.mean(counts,axis=0).shape)\n",
    "# print(header.shape)"
   ]
  },
  {
   "cell_type": "markdown",
   "metadata": {},
   "source": [
    "## GOAL: EVALUATE CONSISTENCY OF THE FORESTS GENERATED, AND CLUSTERING ON THEIR BASIS"
   ]
  },
  {
   "cell_type": "code",
   "execution_count": null,
   "metadata": {},
   "outputs": [],
   "source": [
    "!ls\n",
    "!ls ./consistency_analysis/\n",
    "# !mkdir ./consistency_analysis"
   ]
  },
  {
   "cell_type": "code",
   "execution_count": null,
   "metadata": {},
   "outputs": [],
   "source": [
    "## We want to train ~10 forests on the same data and examine their consistency. \n",
    "\n",
    "forests = []\n",
    "\n",
    "for i in range(10): \n",
    "\n",
    "    forest = lumberjack.fit(counts,trees=100,dispersion_mode=\"ssme\",norm=\"l1\",lrg_mem=True,drop='none',sfr=1,in_feature_subsample=1000,out_feature_subsample=1000,sample_subsample=200,depth=5,leaves=20,header=header)\n",
    "    forest.backup(f'./consistency_analysis/forest_{i}')\n",
    "    \n",
    "    forests.append(forest)\n",
    "\n"
   ]
  },
  {
   "cell_type": "code",
   "execution_count": null,
   "metadata": {},
   "outputs": [],
   "source": [
    "# We must now compare the 10 different forests to examine different attributes for consistency. (Is a forest with 100 trees going to be good at consistent predictions?)\n",
    "\n",
    "# We can test error of the prediction for each individual sample\n",
    "# We can also test the consistency of the clustering performed by the forest\n",
    "# We can also see if forests rediscover the same structural properties\n",
    "\n",
    "forests = []\n",
    "\n",
    "# for i in range(10): \n",
    "#     forests.append(tr.Forest.reconstitute(f'./consistency_analysis/forest_{i}'))\n",
    "\n",
    "for i in range(10): \n",
    "    forests.append(tr.Forest.reconstitute(f'./consistency_analysis/forest_{i}_cached'))\n"
   ]
  },
  {
   "cell_type": "code",
   "execution_count": null,
   "metadata": {},
   "outputs": [],
   "source": [
    "!ls consistency_analysis/\n",
    "# !mkdir consistency_analysis/html_summaries\n",
    "# !rm -r consistency_analysis/html_summaries/*"
   ]
  },
  {
   "cell_type": "code",
   "execution_count": null,
   "metadata": {
    "scrolled": true
   },
   "outputs": [],
   "source": [
    "for i,forest in enumerate(forests):\n",
    "    \n",
    "    forest.set_cache(True)\n",
    "    forest.interpret_splits(depth=4,pca=False,sub=.5,metric='cos',mode='additive')\n",
    "    forest.most_likely_tree()\n",
    "    forest.html_tree_summary()\n",
    "    !rm -r ./consistency_analysis/html_summaries/forest_{i}\n",
    "    !mkdir ./consistency_analysis/html_summaries/forest_{i}\n",
    "    !cp -r ../html/* ./consistency_analysis/html_summaries/forest_{i}"
   ]
  },
  {
   "cell_type": "code",
   "execution_count": null,
   "metadata": {
    "scrolled": false
   },
   "outputs": [],
   "source": []
  },
  {
   "cell_type": "code",
   "execution_count": null,
   "metadata": {
    "scrolled": false
   },
   "outputs": [],
   "source": []
  },
  {
   "cell_type": "code",
   "execution_count": null,
   "metadata": {
    "scrolled": false
   },
   "outputs": [],
   "source": [
    "for i,forest in enumerate(forests):\n",
    "    forest.reset_sample_clusters()\n",
    "    forest.cluster_samples_encoding(sub=.5,pca=False,override=True)    \n",
    "    fig = forest.plot_cell_clusters()\n",
    "    fig.savefig(f'./consistency_analysis/forest_{i}.png')"
   ]
  },
  {
   "cell_type": "code",
   "execution_count": null,
   "metadata": {},
   "outputs": [],
   "source": [
    "# for i,forest in enumerate(forests):\n",
    "#     forest.backup(f'./consistency_analysis/forest_{i}_cached')"
   ]
  },
  {
   "cell_type": "code",
   "execution_count": null,
   "metadata": {},
   "outputs": [],
   "source": [
    "from sklearn.preprocessing import OneHotEncoder\n",
    "\n",
    "f1 = OneHotEncoder().fit_transform(forests[0].sample_labels.reshape(-1, 1))\n",
    "f2 = OneHotEncoder().fit_transform(forests[1].sample_labels.reshape(-1, 1))"
   ]
  },
  {
   "cell_type": "code",
   "execution_count": null,
   "metadata": {},
   "outputs": [],
   "source": [
    "from scipy.spatial.distance import squareform,pdist,cdist\n",
    "\n",
    "distances = cdist(np.array(f1.todense()).T,np.array(f2.todense()).T,metric=\"jaccard\")\n",
    "distances.shape"
   ]
  },
  {
   "cell_type": "code",
   "execution_count": null,
   "metadata": {},
   "outputs": [],
   "source": [
    "a1_sort = dendrogram(linkage(distances,metric='correlation',method='average'),no_plot=True)['leaves']\n",
    "a2_sort = dendrogram(linkage(distances.T,metric='correlation',method='average'),no_plot=True)['leaves']\n",
    "\n",
    "\n",
    "# plt.figure()\n",
    "# plt.imshow(distances[a1_sort].T[a2_sort],cmap='binary')\n",
    "# plt.colorbar()\n",
    "# plt.show()\n",
    "\n",
    "plt.figure()\n",
    "plt.title(\"Inter-run Cluster Similarities (Jaccard Index)\")\n",
    "plt.xlabel(\"Clusters\")\n",
    "plt.ylabel(\"Clusters\")\n",
    "plt.imshow(distances,cmap='binary')\n",
    "plt.colorbar()\n",
    "plt.show()"
   ]
  },
  {
   "cell_type": "code",
   "execution_count": null,
   "metadata": {},
   "outputs": [],
   "source": [
    "# from sklearn.metrics import normalized_mutual_info_score\n",
    "\n",
    "# pairwise = np.zeros((11,11))\n",
    "\n",
    "# for i in range(10):\n",
    "#     for j in range(i,10):\n",
    "#         score = normalized_mutual_info_score(forests[i].sample_labels,forests[j].sample_labels)\n",
    "#         pairwise[i,j] = score\n",
    "#         pairwise[j,i] = score\n",
    "\n",
    "# shuffled = forests[0].sample_labels.copy()\n",
    "# np.random.shuffle(shuffled)\n",
    "\n",
    "# for i in range(10):\n",
    "#     score = normalized_mutual_info_score(forests[i].sample_labels,shuffled)\n",
    "#     pairwise[i,10] = score\n",
    "#     pairwise[10,i] = score\n",
    "    \n",
    "plt.figure()\n",
    "plt.title(\"Cluster Partition Mutual Information\")\n",
    "plt.imshow(pairwise)\n",
    "plt.colorbar()\n",
    "plt.show()\n"
   ]
  },
  {
   "cell_type": "code",
   "execution_count": null,
   "metadata": {},
   "outputs": [],
   "source": [
    "normalized_mutual_info_score(forests[0].sample_labels,forests[1].sample_labels)"
   ]
  },
  {
   "cell_type": "code",
   "execution_count": null,
   "metadata": {
    "scrolled": false
   },
   "outputs": [],
   "source": [
    "forests[0].reset_sample_clusters()\n",
    "forests[0].cluster_samples_encoding()"
   ]
  },
  {
   "cell_type": "code",
   "execution_count": null,
   "metadata": {},
   "outputs": [],
   "source": [
    "## Let's evaluate a more difficult dataset: CITESeq"
   ]
  },
  {
   "cell_type": "code",
   "execution_count": null,
   "metadata": {},
   "outputs": [],
   "source": [
    "counts = np.loadtxt('/home/bbrener1/lumberprot/work/citeseq_cbmc_counts_1000.tsv')\n",
    "header = np.loadtxt('/home/bbrener1/lumberprot/work/citeseq_cbmc_header_1000.txt',dtype=str)\n"
   ]
  },
  {
   "cell_type": "code",
   "execution_count": null,
   "metadata": {},
   "outputs": [],
   "source": [
    "# We would like to evaluate basic inference parameters on a difficult target. \n",
    "# To this end we will build 12 different forests of 100 trees each and evaluate their performance in clustering the dataset samples\n",
    "\n",
    "# Parameteres we will vary initially:\n",
    "# Dispersion: ssme vs var\n",
    "# Norm between features: L1 vs L2\n",
    "# SFR: 1.0,0.5,0.\n",
    "\n",
    "# After we evaluate these using defaults for other values, we will examine sampling rate"
   ]
  },
  {
   "cell_type": "code",
   "execution_count": null,
   "metadata": {},
   "outputs": [],
   "source": [
    "forests = []\n",
    "for dispersion in [\"ssme\",\"var\"]:\n",
    "    for norm in [\"l1\",\"l2\"]:\n",
    "        for sfr in [1.0,0.5,0.]:\n",
    "            forest = lumberjack.fit(counts,trees=100,dispersion_mode=dispersion,norm=norm,lrg_mem=True,drop='none',sfr=sfr,in_feature_subsample=300,out_feature_subsample=300,sample_subsample=100,depth=5,leaves=20,header=header)\n",
    "            forest.backup(f'./consistency_analysis/forest_parameters/forest_{dispersion}_{norm}_{sfr}')\n",
    "            forests.append(forest)\n"
   ]
  },
  {
   "cell_type": "code",
   "execution_count": null,
   "metadata": {
    "scrolled": true
   },
   "outputs": [],
   "source": [
    "for dispersion in [\"ssme\",\"var\"]:\n",
    "    for norm in [\"l1\",\"l2\"]:\n",
    "        for sfr in [1.0,0.5,0.]:\n",
    "            forest = tr.Forest.reconstitute(f'./consistency_analysis/forest_parameters/forest_{dispersion}_{norm}_{sfr}')\n",
    "            forest.cluster_samples_encoding(sub=.8,k=10,metric=\"jaccard\",no_plot=True)\n",
    "            forest.plot_sample_clusters()"
   ]
  },
  {
   "cell_type": "code",
   "execution_count": null,
   "metadata": {},
   "outputs": [],
   "source": [
    "!mkdir ./consistency_analysis/forest_parameters"
   ]
  },
  {
   "cell_type": "code",
   "execution_count": null,
   "metadata": {},
   "outputs": [],
   "source": [
    "!ls ./consistency_analysis/forest_parameters/"
   ]
  },
  {
   "cell_type": "code",
   "execution_count": null,
   "metadata": {},
   "outputs": [],
   "source": [
    "f_s_l2_05 = tr.Forest.reconstitute(\"consistency_analysis/forest_parameters/forest_ssme_l2_0.5\")"
   ]
  },
  {
   "cell_type": "code",
   "execution_count": null,
   "metadata": {
    "scrolled": false
   },
   "outputs": [],
   "source": [
    "f_s_l2_05.reset_sample_clusters()\n",
    "f_s_l2_05.cluster_samples_encoding(sub=.5,k=20,metric=\"jaccard\")\n",
    "f_s_l2_05.plot_sample_clusters()"
   ]
  },
  {
   "cell_type": "code",
   "execution_count": null,
   "metadata": {},
   "outputs": [],
   "source": [
    "forest = lumberjack.fit(counts,trees=100,dispersion_mode='ssme',norm='l2',lrg_mem=True,drop='none',sfr=.5,in_feature_subsample=300,out_feature_subsample=300,sample_subsample=100,depth=10,leaves=20,header=header)\n"
   ]
  },
  {
   "cell_type": "code",
   "execution_count": null,
   "metadata": {},
   "outputs": [],
   "source": [
    "forest.set_cache(True)"
   ]
  },
  {
   "cell_type": "code",
   "execution_count": null,
   "metadata": {},
   "outputs": [],
   "source": [
    "forest.reset_sample_clusters()\n",
    "forest.cluster_samples_encoding(sub=.5,k=20,metric=\"jaccard\")"
   ]
  },
  {
   "cell_type": "code",
   "execution_count": null,
   "metadata": {
    "scrolled": false
   },
   "outputs": [],
   "source": [
    "forest.plot_sample_clusters()"
   ]
  },
  {
   "cell_type": "code",
   "execution_count": null,
   "metadata": {},
   "outputs": [],
   "source": [
    "forest.output.shape"
   ]
  },
  {
   "cell_type": "code",
   "execution_count": null,
   "metadata": {},
   "outputs": [],
   "source": [
    "forest.backup(\"nesterowa_l2_small_forest\")"
   ]
  },
  {
   "cell_type": "code",
   "execution_count": null,
   "metadata": {},
   "outputs": [],
   "source": []
  }
 ],
 "metadata": {
  "kernelspec": {
   "display_name": "Python 3",
   "language": "python",
   "name": "python3"
  },
  "language_info": {
   "codemirror_mode": {
    "name": "ipython",
    "version": 3
   },
   "file_extension": ".py",
   "mimetype": "text/x-python",
   "name": "python",
   "nbconvert_exporter": "python",
   "pygments_lexer": "ipython3",
   "version": "3.7.4"
  }
 },
 "nbformat": 4,
 "nbformat_minor": 2
}
