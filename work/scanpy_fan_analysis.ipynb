{
 "cells": [
  {
   "cell_type": "code",
   "execution_count": null,
   "metadata": {},
   "outputs": [],
   "source": [
    "import numpy as np\n",
    "import matplotlib.pyplot as plt\n",
    "import scanpy as sc"
   ]
  },
  {
   "cell_type": "code",
   "execution_count": null,
   "metadata": {},
   "outputs": [],
   "source": []
  },
  {
   "cell_type": "code",
   "execution_count": null,
   "metadata": {},
   "outputs": [],
   "source": [
    "# This notebook will go through a conventional scanpy analysis of fan data, so that we can compare it to an \n",
    "# analysis performed by a random forest"
   ]
  },
  {
   "cell_type": "code",
   "execution_count": null,
   "metadata": {},
   "outputs": [],
   "source": [
    "# First we load the data, fortunately the facilities for this are pretty nice\n",
    "\n",
    "th1_raw = sc.read_10x_mtx('/Users/bbrener1/raw_data/fan_tendon/TH1_count/outs/filtered_gene_bc_matrices/mm10/')\n",
    "print(th1_raw.shape)\n",
    "\n",
    "th2_raw = sc.read_10x_mtx('/Users/bbrener1/raw_data/fan_tendon/TH2_count/outs/filtered_gene_bc_matrices/mm10/')\n",
    "print(th2_raw.shape)\n",
    "\n",
    "ll1_raw = sc.read_10x_mtx('/Users/bbrener1/raw_data/fan_tendon/LL1_count/outs/filtered_gene_bc_matrices/mm10/')\n",
    "print(ll1_raw.shape)\n",
    "\n",
    "ll4_raw = sc.read_10x_mtx('/Users/bbrener1/raw_data/fan_tendon/LL4_count/outs/filtered_gene_bc_matrices/mm10/')\n",
    "print(ll4_raw.shape)\n",
    "\n",
    "# These are the old cells\n",
    "ll2_raw = sc.read_10x_mtx('/Users/bbrener1/raw_data/fan_tendon/LL2_count/outs/filtered_gene_bc_matrices/mm10/')\n",
    "print(ll2_raw.shape)\n",
    "\n",
    "# LL6-12 is not hitting thresholds\n",
    "ll6_raw = sc.read_10x_mtx('/Users/bbrener1/raw_data/fan_tendon/LL6-12_count/outs/filtered_gene_bc_matrices/mm10/')\n",
    "print(ll6_raw.shape)\n"
   ]
  },
  {
   "cell_type": "code",
   "execution_count": null,
   "metadata": {},
   "outputs": [],
   "source": [
    "plt.figure()\n",
    "plt.title(\"ll1\")\n",
    "plt.hist(np.sum(ll1_raw.X,axis=1)[:,0],bins=50)\n",
    "plt.show()\n",
    "\n",
    "plt.figure()\n",
    "plt.title(\"ll4\")\n",
    "plt.hist(np.sum(ll4_raw.X,axis=1)[:,0],bins=50)\n",
    "plt.show()\n",
    "\n",
    "plt.figure()\n",
    "plt.title(\"ll2\")\n",
    "plt.hist(np.sum(ll2_raw.X,axis=1)[:,0],bins=50)\n",
    "plt.show()\n",
    "\n",
    "plt.figure()\n",
    "plt.title(\"ll6\")\n",
    "plt.hist(np.sum(ll6_raw.X,axis=1)[:,0],bins=50)\n",
    "plt.show()"
   ]
  },
  {
   "cell_type": "code",
   "execution_count": null,
   "metadata": {},
   "outputs": [],
   "source": [
    "young = ll4_raw.copy()\n",
    "aged = ll6_raw.copy()"
   ]
  },
  {
   "cell_type": "code",
   "execution_count": null,
   "metadata": {},
   "outputs": [],
   "source": []
  },
  {
   "cell_type": "code",
   "execution_count": null,
   "metadata": {},
   "outputs": [],
   "source": [
    "\n",
    "\n",
    "sc.pp.downsample_counts(young,counts_per_cell=1000)\n",
    "sc.pp.downsample_counts(aged,counts_per_cell=1000)\n",
    "\n",
    "young.X = np.array(young.X.todense())\n",
    "aged.X = np.array(aged.X.todense())\n",
    "young.X = young.X.astype(dtype=float)\n",
    "aged.X = aged.X.astype(dtype=float)\n",
    "type(young.X)"
   ]
  },
  {
   "cell_type": "code",
   "execution_count": null,
   "metadata": {},
   "outputs": [],
   "source": [
    "# plt.figure()\n",
    "# plt.hist(\n",
    "#     np.sum(young.X,axis=1),\n",
    "# )\n",
    "# plt.show()\n",
    "\n",
    "# plt.figure()\n",
    "# plt.hist(\n",
    "#     np.sum(aged.X,axis=1),\n",
    "# )\n",
    "# plt.show()\n",
    "\n",
    "\n"
   ]
  },
  {
   "cell_type": "code",
   "execution_count": null,
   "metadata": {},
   "outputs": [],
   "source": [
    "first_filter,_ = sc.pp.filter_genes(young, min_counts=2,inplace=False)         # only consider genes with more than 1 count\n",
    "young = young[:,first_filter]\n",
    "sc.pp.normalize_per_cell(young)\n",
    "print(young.shape)\n",
    "young_filter_result = sc.pp.filter_genes_dispersion(  # select highly-variable genes\n",
    "    young.X, flavor='cell_ranger', n_top_genes=500, log=False\n",
    ")\n",
    "print(young_filter_result.shape)\n",
    "young_filtered = young[:, young_filter_result.gene_subset]     # subset the genes\n",
    "\n",
    "sc.pp.normalize_per_cell(young_filtered)                 # renormalize after filtering\n",
    "sc.pp.log1p(young_filtered)                      # log transform: adata.X = log(adata.X + 1)\n",
    "sc.pp.scale(young_filtered)\n",
    "\n",
    "young = young_filtered\n",
    "\n",
    "\n",
    "# sc.pp.filter_genes(aged, min_counts=1)         # only consider genes with more than 1 count\n",
    "aged = aged[:,first_filter]\n",
    "sc.pp.normalize_per_cell(aged)\n",
    "aged_filtered = aged[:, young_filter_result.gene_subset]     # subset the genes\n",
    "\n",
    "sc.pp.normalize_per_cell(aged_filtered)                 # renormalize after filtering\n",
    "sc.pp.log1p(aged_filtered)                      # log transform: adata.X = log(adata.X + 1)\n",
    "sc.pp.scale(aged_filtered)\n",
    "\n",
    "aged = aged_filtered"
   ]
  },
  {
   "cell_type": "code",
   "execution_count": null,
   "metadata": {},
   "outputs": [],
   "source": [
    "import pickle\n",
    "\n",
    "pickle.dump(young,open(\"aging_tendon_young.pickle\",mode='bw'))\n",
    "pickle.dump(aged,open(\"aging_tendon_aged.pickle\",mode='bw'))"
   ]
  },
  {
   "cell_type": "code",
   "execution_count": null,
   "metadata": {},
   "outputs": [],
   "source": [
    "import pickle \n",
    "\n",
    "young = pickle.load(open(\"aging_tendon_young.pickle\",mode='rb'))\n",
    "old = pickle.load(open(\"aging_tendon_aged.pickle\",mode='rb'))\n"
   ]
  },
  {
   "cell_type": "code",
   "execution_count": null,
   "metadata": {},
   "outputs": [],
   "source": [
    "sc.pp.neighbors(young)\n",
    "sc.tl.umap(young)\n",
    "sc.pl.umap(young)\n",
    "\n",
    "sc.tl.louvain(young)\n",
    "sc.pl.umap(young,color='louvain')\n",
    "\n"
   ]
  },
  {
   "cell_type": "code",
   "execution_count": null,
   "metadata": {},
   "outputs": [],
   "source": []
  },
  {
   "cell_type": "code",
   "execution_count": null,
   "metadata": {},
   "outputs": [],
   "source": [
    "# from sklearn.manifold import TSNE\n",
    "\n",
    "# tsne_coordinates = TSNE().fit_transform(young.X)\n",
    "\n",
    "# plt.figure()\n",
    "# plt.scatter(*tsne_coordinates.T)\n",
    "# plt.show()"
   ]
  },
  {
   "cell_type": "code",
   "execution_count": null,
   "metadata": {},
   "outputs": [],
   "source": []
  },
  {
   "cell_type": "code",
   "execution_count": null,
   "metadata": {},
   "outputs": [],
   "source": [
    "import sys\n",
    "# sys.path.append('/localscratch/bbrener1/rusty_forest_v3/src')\n",
    "sys.path.append('../src')\n",
    "import tree_reader as tr \n",
    "import lumberjack\n",
    "\n",
    "forest = lumberjack.fit(\n",
    "    young.X,\n",
    "    header=young.var_names,\n",
    "    trees=300,\n",
    "    braids=2,\n",
    "    ifs=250,\n",
    "    ofs=250,\n",
    "    ss=500,\n",
    "    depth=8,\n",
    "    leaves=100,\n",
    "    sfr=.5\n",
    ")\n",
    "\n",
    "\n",
    "forest.set_cache(True)\n",
    "forest.backup(\"scanpy_cmp_young_tendon_double\")\n"
   ]
  },
  {
   "cell_type": "code",
   "execution_count": null,
   "metadata": {},
   "outputs": [],
   "source": [
    "forest.arguments"
   ]
  },
  {
   "cell_type": "code",
   "execution_count": null,
   "metadata": {},
   "outputs": [],
   "source": [
    "\n",
    "import sys\n",
    "# sys.path.append('/localscratch/bbrener1/rusty_forest_v3/src')\n",
    "sys.path.append('../src')\n",
    "import tree_reader as tr \n",
    "import lumberjack\n",
    "forest = tr.Forest.reconstitute('scanpy_cmp_young_tendon')\n",
    "forest.arguments"
   ]
  },
  {
   "cell_type": "code",
   "execution_count": null,
   "metadata": {},
   "outputs": [],
   "source": [
    "forest.reset_sample_clusters()\n",
    "# forest.cluster_samples_simple(k=50,resolution=1,metric='euclidean',pca=50)\n",
    "# forest.cluster_samples_encoding(k=50,depth=6,metric='euclidean',pca=50)"
   ]
  },
  {
   "cell_type": "code",
   "execution_count": null,
   "metadata": {
    "scrolled": false
   },
   "outputs": [],
   "source": [
    "# forest.tsne()\n",
    "forest.tsne_coordinates = young.obsm['X_umap']\n",
    "forest.plot_sample_clusters()\n",
    "# forest.trees[0].plot()"
   ]
  },
  {
   "cell_type": "code",
   "execution_count": null,
   "metadata": {
    "scrolled": false
   },
   "outputs": [],
   "source": []
  },
  {
   "cell_type": "code",
   "execution_count": null,
   "metadata": {},
   "outputs": [],
   "source": [
    "forest.reset_split_clusters()\n",
    "forest.interpret_splits(k=100,relatives=True,pca=100,depth=6,mode='additive_mean',metric='cosine')\n",
    "\n",
    "# forest_log.reset_split_clusters()\n",
    "# forest_log.interpret_splits(sub=.8,k=20,relatives=True,pca=100,depth=6,mode='additive_mean',metric='cosine')"
   ]
  },
  {
   "cell_type": "code",
   "execution_count": null,
   "metadata": {},
   "outputs": [],
   "source": []
  },
  {
   "cell_type": "code",
   "execution_count": null,
   "metadata": {},
   "outputs": [],
   "source": [
    "from scipy.cluster.hierarchy import dendrogram,linkage\n",
    "\n",
    "factor_matrix = forest.factor_matrix()\n",
    "factor_sort = dendrogram(linkage(np.abs(factor_matrix.T),metric='cosine',method='average'),no_plot=True)['leaves']\n",
    "sample_aggsort = dendrogram(linkage(np.abs(factor_matrix),metric='correlation',method='average'),no_plot=True)['leaves']\n",
    "# sample_sort = np.argsort(forest.sample_labels)\n",
    "\n",
    "plt.figure()\n",
    "plt.imshow(factor_matrix[sample_aggsort].T[factor_sort].T,aspect='auto',interpolation='none',cmap=\"seismic\",vmin=-1,vmax=1)\n",
    "plt.colorbar()\n",
    "plt.show()"
   ]
  },
  {
   "cell_type": "code",
   "execution_count": null,
   "metadata": {
    "scrolled": true
   },
   "outputs": [],
   "source": [
    "# forest.most_likely_tree(depth=6)\n",
    "forest.maximum_spanning_tree(mode='samples',depth=6)\n",
    "\n",
    "# forest_log.most_likely_tree(depth=6)\n",
    "# forest_log.maximum_spanning_tree(depth=6)"
   ]
  },
  {
   "cell_type": "code",
   "execution_count": null,
   "metadata": {},
   "outputs": [],
   "source": [
    "\n"
   ]
  },
  {
   "cell_type": "code",
   "execution_count": null,
   "metadata": {
    "scrolled": true
   },
   "outputs": [],
   "source": [
    "# forest.tsne(pca=100)\n",
    "forest.html_tree_summary(n=10)\n",
    "# forest_log.html_tree_summary(n=10)"
   ]
  },
  {
   "cell_type": "code",
   "execution_count": null,
   "metadata": {},
   "outputs": [],
   "source": []
  },
  {
   "cell_type": "code",
   "execution_count": null,
   "metadata": {},
   "outputs": [],
   "source": []
  },
  {
   "cell_type": "code",
   "execution_count": null,
   "metadata": {},
   "outputs": [],
   "source": [
    "plt.figure()\n",
    "plt.hist(young.X.flatten(),log=True)"
   ]
  },
  {
   "cell_type": "code",
   "execution_count": null,
   "metadata": {},
   "outputs": [],
   "source": [
    "forest.reset_sample_clusters()\n",
    "young_prediction = forest.predict(young.X)\n",
    "young_prediction.prediction_report(mode='additive_mean')"
   ]
  },
  {
   "cell_type": "code",
   "execution_count": null,
   "metadata": {},
   "outputs": [],
   "source": [
    "from sklearn.decomposition import PCA\n",
    "\n",
    "model = PCA(n_components=10).fit(young.X)\n",
    "transformed = model.transform(young.X)\n",
    "recovered = model.inverse_transform(transformed)\n",
    "\n",
    "centered = young.X - np.mean(young.X,axis=0)\n",
    "transformed_residual = np.power(centered,2)\n",
    "\n",
    "recovered_residual = np.power(young.X - recovered,2)\n",
    "\n",
    "pca_recovered_per_sample = np.sum(recovered_residual,axis=1)\n",
    "pca_recovered_fraction_per_sample = np.sum(recovered_residual,axis=1) / np.sum(transformed_residual,axis=1)\n",
    "print(np.sum(transformed_residual))\n",
    "print(np.sum(recovered_residual))\n",
    "\n",
    "print(f\"Remaining variance:{(np.sum(recovered_residual) / np.sum(transformed_residual))}\")"
   ]
  },
  {
   "cell_type": "code",
   "execution_count": null,
   "metadata": {},
   "outputs": [],
   "source": []
  },
  {
   "cell_type": "code",
   "execution_count": null,
   "metadata": {},
   "outputs": [],
   "source": []
  },
  {
   "cell_type": "code",
   "execution_count": null,
   "metadata": {},
   "outputs": [],
   "source": []
  },
  {
   "cell_type": "code",
   "execution_count": null,
   "metadata": {
    "scrolled": false
   },
   "outputs": [],
   "source": []
  },
  {
   "cell_type": "code",
   "execution_count": null,
   "metadata": {},
   "outputs": [],
   "source": []
  },
  {
   "cell_type": "code",
   "execution_count": null,
   "metadata": {},
   "outputs": [],
   "source": []
  },
  {
   "cell_type": "code",
   "execution_count": null,
   "metadata": {},
   "outputs": [],
   "source": []
  },
  {
   "cell_type": "code",
   "execution_count": null,
   "metadata": {},
   "outputs": [],
   "source": []
  }
 ],
 "metadata": {
  "kernelspec": {
   "display_name": "Python 3",
   "language": "python",
   "name": "python3"
  },
  "language_info": {
   "codemirror_mode": {
    "name": "ipython",
    "version": 3
   },
   "file_extension": ".py",
   "mimetype": "text/x-python",
   "name": "python",
   "nbconvert_exporter": "python",
   "pygments_lexer": "ipython3",
   "version": "3.7.4"
  }
 },
 "nbformat": 4,
 "nbformat_minor": 2
}
