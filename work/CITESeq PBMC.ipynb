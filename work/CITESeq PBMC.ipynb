{
 "cells": [
  {
   "cell_type": "code",
   "execution_count": null,
   "metadata": {},
   "outputs": [],
   "source": [
    "import dill\n",
    "# dill.dump_session(\"citeseq_session.db\")\n",
    "dill.load_session(\"citeseq_session.db\")"
   ]
  },
  {
   "cell_type": "code",
   "execution_count": null,
   "metadata": {},
   "outputs": [],
   "source": [
    "import matplotlib as mpl\n",
    "import numpy as np\n",
    "import matplotlib.pyplot as plt\n",
    "from scipy.cluster.hierarchy import dendrogram,linkage\n",
    "from scipy.spatial.distance import pdist,squareform\n",
    "\n",
    "raw_data_location = \"/Users/bbrener1/taylor/raw_data/citeseq\""
   ]
  },
  {
   "cell_type": "code",
   "execution_count": null,
   "metadata": {},
   "outputs": [],
   "source": [
    "counts = np.loadtxt('citeseq_counts.tsv')\n",
    "fluorescence_counts = np.loadtxt('citeseq_adt.tsv')\n",
    "# header = np.loadtxt('citeseq_header.txt',dtype=str)\n",
    "fluorescence_header = np.loadtxt('citeseq_fluorescence_header.tsv',dtype=str)\n",
    "t_markers = np.loadtxt('cell_markers.tsv')\n",
    "t_marker_header = np.loadtxt('cell_marker_header.txt',dtype=str)\n",
    "fluorescence_coordinates = np.loadtxt('fluorescence_coordiantes.tsv')\n",
    "# gene_coordinates = np.loadtxt('gene_coordinates.tsv')\n",
    "# umis = np.loadtxt('citeseq_umis.tsv')\n",
    "# fluorescence_umis = np.loadtxt('citeseq_fluorescence_umis.tsv')"
   ]
  },
  {
   "cell_type": "markdown",
   "metadata": {},
   "source": [
    "# Reprocessing CITESeq"
   ]
  },
  {
   "cell_type": "markdown",
   "metadata": {},
   "source": [
    "## Table of Contents\n",
    "\n",
    "* [Importing Data](#importing_data)\n",
    "* [Paring Down Data To Relevant Elements](#feature_selection)\n",
    "* [Processing Data](#data_processing)\n",
    "* [Forest Analysis](#forest_analysis)"
   ]
  },
  {
   "cell_type": "markdown",
   "metadata": {},
   "source": [
    "## Importing Data <a class=\"anchor\" id=\"importing_data\"></a>"
   ]
  },
  {
   "cell_type": "code",
   "execution_count": null,
   "metadata": {},
   "outputs": [],
   "source": [
    "# Source paper:\n",
    "# https://www.nature.com/articles/nmeth.4380.pdf?origin=ppub\n",
    "\n",
    "# Data is available on GEO, at GSE100866\n",
    "# https://www.ncbi.nlm.nih.gov/geo/query/acc.cgi?acc=GSE100866"
   ]
  },
  {
   "cell_type": "code",
   "execution_count": null,
   "metadata": {},
   "outputs": [],
   "source": [
    "# %cd ~/taylor/raw_data\n",
    "# !wget ftp://ftp.ncbi.nlm.nih.gov/geo/series/GSE100nnn/GSE100866/suppl/GSE100866%5FCBMC%5F8K%5F13AB%5F10X%2DADT%5Fumi%2Ecsv%2Egz\n",
    "# !wget ftp://ftp.ncbi.nlm.nih.gov/geo/series/GSE100nnn/GSE100866/suppl/GSE100866%5FCBMC%5F8K%5F13AB%5F10X%2DRNA%5Fumi%2Ecsv%2Egz\n",
    "# !wget ftp://ftp.ncbi.nlm.nih.gov/geo/series/GSE100nnn/GSE100866/suppl/GSE100866%5FPBMC%5Fvs%5Fflow%5F10X%2DADT%5Fumi%2Ecsv%2Egz\n",
    "# !wget ftp://ftp.ncbi.nlm.nih.gov/geo/series/GSE100nnn/GSE100866/suppl/GSE100866%5FPBMC%5Fvs%5Fflow%5F10X%2DRNA%5Fumi%2Ecsv%2Egz "
   ]
  },
  {
   "cell_type": "code",
   "execution_count": null,
   "metadata": {},
   "outputs": [],
   "source": [
    "# %cd ~/taylor/raw_data\n",
    "# %pwd\n",
    "# !gunzip *.gz\n",
    "# !ls -lh\n",
    "# %cd ~/taylor/rusty_lumberjack/work"
   ]
  },
  {
   "cell_type": "code",
   "execution_count": null,
   "metadata": {},
   "outputs": [],
   "source": [
    "raw_data_location = \"/Users/bbrener1/taylor/raw_data/citeseq\""
   ]
  },
  {
   "cell_type": "code",
   "execution_count": null,
   "metadata": {},
   "outputs": [],
   "source": [
    "# Loading \n",
    "\n",
    "# Numpy facilities for loading csvs are kind of dumb, so we count the number of columns in the target\n",
    "\n",
    "# columns = !head -n 1 ../../raw_data/citeseq/GSE100866_CBMC_8K_13AB_10X-RNA_umi.csv | grep -o ',' | wc -l\n",
    "# columns = int(columns[0]) \n",
    "\n",
    "# rows = !wc -l ../../raw_data/citeseq/GSE100866_CBMC_8K_13AB_10X-RNA_umi.csv \n",
    "# rows = int(rows[0].split()[0]) - 1\n",
    "\n",
    "columns = !head -n 1 $raw_data_location/GSE100866_PBMC_vs_flow_10X-RNA_umi.csv | grep -o ',' | wc -l\n",
    "columns = int(columns[0]) \n",
    "\n",
    "rows = !wc -l $raw_data_location/GSE100866_PBMC_vs_flow_10X-RNA_umi.csv\n",
    "rows = int(rows[0].split()[0]) - 1\n",
    "\n",
    "\n",
    "print(f\"Rows: {rows}, Columns: {columns}\")\n"
   ]
  },
  {
   "cell_type": "code",
   "execution_count": null,
   "metadata": {},
   "outputs": [],
   "source": []
  },
  {
   "cell_type": "code",
   "execution_count": null,
   "metadata": {},
   "outputs": [],
   "source": [
    "umi_counts = np.zeros((rows,columns),dtype=int)\n"
   ]
  },
  {
   "cell_type": "code",
   "execution_count": null,
   "metadata": {},
   "outputs": [],
   "source": [
    "# with open(raw_data_location+'GSE100866_CBMC_8K_13AB_10X-RNA_umi.csv') as file:\n",
    "with open(raw_data_location+'/GSE100866_PBMC_vs_flow_10X-RNA_umi.csv') as file:\n",
    "    file.seek(0)\n",
    "    lines = []\n",
    "    while True:\n",
    "        try:\n",
    "            line = file.readline()\n",
    "            if len(line) < 1:\n",
    "                break\n",
    "            lines.append(line)\n",
    "#             print(len(lines))\n",
    "        except:\n",
    "            break\n",
    "\n",
    "            \n"
   ]
  },
  {
   "cell_type": "code",
   "execution_count": null,
   "metadata": {},
   "outputs": [],
   "source": [
    "for i,line in enumerate(lines[1:]):\n",
    "#     print(i)\n",
    "    split = [int(x) for x in line.split(',')[1:]]\n",
    "    umi_counts[i] = np.array(split)"
   ]
  },
  {
   "cell_type": "code",
   "execution_count": null,
   "metadata": {},
   "outputs": [],
   "source": [
    "gene_header = []\n",
    "\n",
    "for i,line in enumerate(lines[1:]):\n",
    "#     print(i)\n",
    "    gene_header.append(line.split(',')[0].strip(\"\\\"\"))\n",
    "    \n",
    "gene_header = np.array(gene_header)"
   ]
  },
  {
   "cell_type": "code",
   "execution_count": null,
   "metadata": {
    "scrolled": true
   },
   "outputs": [],
   "source": [
    "rna_cell_header = [id.strip(\"\\\"\\n\") for id in lines[0].split(',')[1:]]\n",
    "rna_cell_header"
   ]
  },
  {
   "cell_type": "code",
   "execution_count": null,
   "metadata": {},
   "outputs": [],
   "source": [
    "# Saving the separated files in a numpy-friendly format\n",
    "\n",
    "# np.savetxt(raw_data_location+'/GSE100866_CBMC_umi_counts.tsv',umi_counts,fmt='%i')\n",
    "# np.savetxt(raw_data_location+'/GSE100866_CBMC_gene_header.tsv',gene_header,fmt='%s')\n",
    "\n",
    "np.savetxt(raw_data_location+'/GSE100866_PBMC_umi_counts.tsv',umi_counts,fmt='%i')\n",
    "np.savetxt(raw_data_location+'/GSE100866_PBMC_gene_header.tsv',gene_header,fmt='%s')\n"
   ]
  },
  {
   "cell_type": "code",
   "execution_count": null,
   "metadata": {},
   "outputs": [],
   "source": [
    "# with open(raw_data_location+'/GSE100866_CBMC_8K_13AB_10X-ADT_umi.csv') as file:\n",
    "with open(raw_data_location+'/GSE100866_PBMC_vs_flow_10X-ADT_umi.csv') as file:\n",
    "    file.seek(0)\n",
    "    lines = []\n",
    "    while True:\n",
    "        try:\n",
    "            line = file.readline()\n",
    "            if len(line) < 1:\n",
    "                break\n",
    "            lines.append(line)\n",
    "#             print(len(lines))\n",
    "        except:\n",
    "            break\n"
   ]
  },
  {
   "cell_type": "code",
   "execution_count": null,
   "metadata": {
    "scrolled": true
   },
   "outputs": [],
   "source": [
    "fluorescence_cell_header = [id.strip(\"\\\"\\n\") for id in lines[0].split(',')[1:]]\n",
    "fluorescence_cell_header"
   ]
  },
  {
   "cell_type": "code",
   "execution_count": null,
   "metadata": {},
   "outputs": [],
   "source": [
    "fluorescence_umis = np.zeros((len(lines)-1,columns))\n",
    "\n",
    "for i,line in enumerate(lines[1:]):\n",
    "#     print(i)\n",
    "    split = [int(x) for x in line.split(',')[1:]]\n",
    "    fluorescence_umis[i] = np.array(split)"
   ]
  },
  {
   "cell_type": "code",
   "execution_count": null,
   "metadata": {},
   "outputs": [],
   "source": [
    "fluorescence_header = []\n",
    "\n",
    "for i,line in enumerate(lines[1:]):\n",
    "#     print(i)\n",
    "    fluorescence_header.append(line.split(',')[0].strip(\"\\\"\"))\n",
    "    \n",
    "fluorescence_header = np.array(fluorescence_header)"
   ]
  },
  {
   "cell_type": "code",
   "execution_count": null,
   "metadata": {},
   "outputs": [],
   "source": [
    "fluorescence_header"
   ]
  },
  {
   "cell_type": "code",
   "execution_count": null,
   "metadata": {},
   "outputs": [],
   "source": [
    "# np.savetxt(raw_data_location+'/GSE100866_CBMC_fluorescence_umis.tsv',fluorescence_umis,fmt='%i')\n",
    "# np.savetxt(raw_data_location+'/GSE100866_CBMC_fluorescence_header.tsv',fluorescence_header,fmt='%s')\n",
    "\n",
    "np.savetxt(raw_data_location+'/GSE100866_PBMC_fluorescence_umis.tsv',fluorescence_umis,fmt='%i')\n",
    "np.savetxt(raw_data_location+'/GSE100866_PBMC_fluorescence_header.tsv',fluorescence_header,fmt='%s')"
   ]
  },
  {
   "cell_type": "code",
   "execution_count": null,
   "metadata": {},
   "outputs": [],
   "source": [
    "## Here we check just in case that rna and fluorescence cell headers are identical. All good.\n",
    "\n",
    "fluorescence_cell_header == rna_cell_header"
   ]
  },
  {
   "cell_type": "code",
   "execution_count": null,
   "metadata": {},
   "outputs": [],
   "source": [
    "np.savetxt(raw_data_location+'/GSE100866_PBMC_cell_header.tsv',rna_cell_header,fmt='%s')"
   ]
  },
  {
   "cell_type": "code",
   "execution_count": null,
   "metadata": {},
   "outputs": [],
   "source": [
    "### Only applicable to CBMC\n",
    "\n",
    "# Finally CCR7 is not actually present (all values 0), so let's truncate \n",
    "\n",
    "# fluorescence_umis = fluorescence_umis[:13]\n",
    "# fluorescence_header = fluorescence_header[:13]"
   ]
  },
  {
   "cell_type": "code",
   "execution_count": null,
   "metadata": {},
   "outputs": [],
   "source": [
    "## In case we need to reload, after clearing the string objects from memory:\n",
    "\n",
    "umi_counts = np.loadtxt(raw_data_location+'/GSE100866_PBMC_umi_counts.tsv')\n",
    "fluorescence_umis = np.loadtxt(raw_data_location+'/GSE100866_PBMC_fluorescence_umis.tsv')\n",
    "\n",
    "gene_header = np.loadtxt(raw_data_location+'/GSE100866_PBMC_gene_header.tsv',dtype=str)\n",
    "fluorescence_header = np.loadtxt(raw_data_location+'/GSE100866_PBMC_fluorescence_header.tsv',dtype=str)\n",
    "\n",
    "fluorescence_umis.shape"
   ]
  },
  {
   "cell_type": "markdown",
   "metadata": {},
   "source": [
    "## Paring Down Data To Relevant Elements <a class=\"anchor\" id=\"feature_selection\"></a>"
   ]
  },
  {
   "cell_type": "code",
   "execution_count": null,
   "metadata": {},
   "outputs": [],
   "source": [
    "# First we will need to interpret umi counts as normalized expression values. Many approaches are used here\n",
    "\n",
    "# The source paper performed extremely basic normalization without deconvolution or distribution compensation\n",
    "# This is fine for a preliminary analysis, I don't feel like importing stuff so let's keep it basic:\n",
    "\n",
    "umi_sums = np.sum(umi_counts,axis=0)\n",
    "\n",
    "log_size_normalized = np.log10(umi_counts*10000 / np.tile(umi_sums,(umi_counts.shape[0],1)))\n",
    "log_size_normalized[umi_counts == 0] = 0"
   ]
  },
  {
   "cell_type": "code",
   "execution_count": null,
   "metadata": {},
   "outputs": [],
   "source": [
    "# We want to check how many genes are meaningfully expressed in the data set,\n",
    "# and how variant they are:\n",
    "\n",
    "\n",
    "means = np.mean(log_size_normalized,axis=1)\n",
    "variance = np.var(log_size_normalized,axis=1)\n",
    "\n",
    "mean_ranking = np.argsort(means)\n",
    "variance_ranking = np.argsort(variance)\n",
    "\n",
    "plt.figure()\n",
    "plt.title(\"Means Vs Variance For All Genes\")\n",
    "plt.scatter(means,variance,s=1)\n",
    "plt.xlabel(\"Means\")\n",
    "plt.ylabel(\"Variances\")\n",
    "plt.show()\n",
    "\n",
    "plt.figure()\n",
    "plt.title(\"Mean-ranked Variance\")\n",
    "plt.scatter(np.arange(5000),variance[mean_ranking[-5000:]],s=1,c=means[mean_ranking[-5000:]],cmap='binary')\n",
    "plt.colorbar()\n",
    "plt.show()\n",
    "\n",
    "plt.figure()\n",
    "plt.title(\"Sparsity\")\n",
    "plt.scatter(np.arange(20000),(np.sum(umi_counts > 0,axis=1)/umi_counts.shape[1])[mean_ranking[-20000:]],s=1)\n",
    "plt.show()"
   ]
  },
  {
   "cell_type": "markdown",
   "metadata": {},
   "source": [
    "Here we notice that there are two distinct apparent populations of genes. We recall that the source paper spiked in mouse genetic material, and we would like to eliminate the mouse genes from further analysis:"
   ]
  },
  {
   "cell_type": "code",
   "execution_count": null,
   "metadata": {},
   "outputs": [],
   "source": [
    "### PBMC:\n",
    "#Mouse genes appear after position 17014 in the gene header.\n",
    "print(list(gene_header[:17014]))\n",
    "print(list(gene_header[17014:17020]))\n",
    "\n",
    "\n",
    "### CBMC:\n",
    "# Mouse genes appear after position 20401 in the gene header.\n",
    "# print(list(gene_header[:20401]))"
   ]
  },
  {
   "cell_type": "code",
   "execution_count": null,
   "metadata": {},
   "outputs": [],
   "source": [
    "human_normalized = log_size_normalized[:17014]\n",
    "human_gene_header = gene_header[:17014]\n",
    "human_gene_umis = umi_counts[:17014]\n",
    "\n",
    "# human_normalized = log_size_normalized[:20401]\n",
    "# human_gene_header = gene_header[:20401]"
   ]
  },
  {
   "cell_type": "code",
   "execution_count": null,
   "metadata": {},
   "outputs": [],
   "source": [
    "# We also want to eliminate mouse cells from the analysis (we can examine them later if needed)\n",
    "# The source paper uses a criterion that more than 90% of UMIs in a cell must be aligned to human genes for a cell to be \n",
    "# considered human, so let's stick with that. \n",
    "\n",
    "umi_sums = np.sum(umi_counts,axis=0)\n",
    "umi_sums.shape\n",
    "\n",
    "umi_human_gene_sums = np.sum(umi_counts[:17014],axis=0)\n",
    "\n",
    "human_fraction = umi_human_gene_sums/umi_sums\n",
    "\n",
    "human_mask = human_fraction > .9\n",
    "\n",
    "print(np.sum(human_mask))\n",
    "\n",
    "plt.figure()\n",
    "plt.hist(umi_human_gene_sums,bins=50)\n",
    "plt.show()\n",
    "\n",
    "plt.figure()\n",
    "plt.hist(umi_sums,bins=50)\n",
    "plt.show()\n",
    "\n",
    "plt.figure()\n",
    "plt.hist(human_fraction,bins=50)\n",
    "plt.show()\n"
   ]
  },
  {
   "cell_type": "code",
   "execution_count": null,
   "metadata": {},
   "outputs": [],
   "source": [
    "human_normalized = human_normalized.T[human_mask].T\n",
    "fluorescence_umis = fluorescence_umis.T[human_mask].T\n",
    "human_umi_counts = human_gene_umis.T[human_mask].T"
   ]
  },
  {
   "cell_type": "code",
   "execution_count": null,
   "metadata": {},
   "outputs": [],
   "source": [
    "# Rerunning earlier analysis\n",
    "\n",
    "\n",
    "means = np.mean(human_normalized,axis=1)\n",
    "variance = np.var(human_normalized,axis=1)\n",
    "\n",
    "mean_ranking = np.argsort(means)\n",
    "variance_ranking = np.argsort(variance)\n",
    "\n",
    "plt.figure()\n",
    "plt.title(\"Means Vs Variance For All Genes\")\n",
    "plt.scatter(means,variance,s=1)\n",
    "plt.xlabel(\"Means\")\n",
    "plt.ylabel(\"Variances\")\n",
    "plt.show()\n",
    "\n",
    "plt.figure()\n",
    "plt.title(\"Mean-ranked Variance\")\n",
    "plt.scatter(np.arange(5000),variance[mean_ranking[-5000:]],s=1,c=means[mean_ranking[-5000:]],cmap='binary')\n",
    "plt.colorbar()\n",
    "plt.show()\n",
    "\n",
    "plt.figure()\n",
    "plt.title(\"Variance-ranked Variance\")\n",
    "plt.scatter(np.arange(5000),variance[variance_ranking[-5000:]],s=1,c=means[variance_ranking[-5000:]],cmap='binary')\n",
    "plt.colorbar()\n",
    "plt.show()\n",
    "\n",
    "plt.figure()\n",
    "plt.title(\"Sparsity\")\n",
    "plt.scatter(np.arange(5000),(np.sum(umi_counts[:20401] > 0,axis=1)/umi_counts[:20401].shape[1])[mean_ranking[-5000:]],s=1)\n",
    "plt.show()"
   ]
  },
  {
   "cell_type": "code",
   "execution_count": null,
   "metadata": {},
   "outputs": [],
   "source": [
    "## We also want to examine the coefficient of variance to look at genes that may meaningfully contribute to differentiation \n",
    "\n",
    "cov = means[variance_ranking[-5000:]] / variance[variance_ranking[-5000:]]\n",
    "\n",
    "plt.figure()\n",
    "plt.title(\"CoV for top genes\")\n",
    "plt.scatter(np.arange(5000),cov,s=1)\n",
    "plt.show()"
   ]
  },
  {
   "cell_type": "markdown",
   "metadata": {},
   "source": [
    "In all likelihood we are safe in paring down the output to only the top 2000 most variant genes. This will probably leave out transcription factors and the like, but... vOv"
   ]
  },
  {
   "cell_type": "code",
   "execution_count": null,
   "metadata": {},
   "outputs": [],
   "source": [
    "truncated_counts = human_normalized[variance_ranking[-2000:]].T\n",
    "umis = human_umi_counts[variance_ranking[-2000:]].T\n",
    "header = human_gene_header[variance_ranking[-2000:]]\n",
    "\n",
    "# truncated_counts = human_normalized[mean_ranking[-7000:]].T\n",
    "# header = human_gene_header[mean_ranking[-7000:]]\n",
    "\n",
    "from sklearn.preprocessing import scale\n",
    "\n",
    "counts = scale(truncated_counts)\n",
    "\n",
    "print(counts.shape)\n",
    "print(umis.shape)\n",
    "print(fluorescence_umis.shape)\n",
    "print(header.shape)"
   ]
  },
  {
   "cell_type": "code",
   "execution_count": null,
   "metadata": {},
   "outputs": [],
   "source": [
    "# Let's normalize the antibody derived tags as well\n",
    "# Source paper calls for normalization via Centered Log Ratio\n",
    "\n",
    "from scipy.stats.mstats import gmean\n",
    "\n",
    "f_gmeans = gmean(fluorescence_umis+1,axis=0)\n",
    "# f_gmeans\n",
    "fluorescence_counts = np.log((fluorescence_umis + 1) / np.tile(f_gmeans,(fluorescence_umis.shape[0],1)))\n",
    "\n"
   ]
  },
  {
   "cell_type": "code",
   "execution_count": null,
   "metadata": {},
   "outputs": [],
   "source": [
    "np.savetxt(\"citeseq_counts.tsv\",counts)\n",
    "np.savetxt(\"citeseq_adt.tsv\",fluorescence_counts)\n",
    "np.savetxt(\"citeseq_header.txt\",header,fmt='%s')\n",
    "np.savetxt(\"citeseq_umis.tsv\",umis)\n",
    "np.savetxt(\"citeseq_fluorescence_umis.tsv\",fluorescence_umis)\n",
    "np.savetxt(\"citeseq_fluorescence_header.tsv\",fluorescence_header,fmt='%s')"
   ]
  },
  {
   "cell_type": "code",
   "execution_count": null,
   "metadata": {},
   "outputs": [],
   "source": [
    "import numpy as np\n",
    "\n",
    "counts = np.loadtxt('citeseq_counts.tsv')\n",
    "fluorescence_counts = np.loadtxt('citeseq_adt.tsv')\n",
    "header = np.loadtxt('citeseq_header.txt',dtype=str)\n",
    "fluorescence_header = np.loadtxt('citeseq_fluorescence_header.tsv',dtype=str)\n",
    "umis = np.loadtxt('citeseq_umis.tsv')\n",
    "fluorescence_umis = np.loadtxt('citeseq_fluorescence_umis.tsv')"
   ]
  },
  {
   "cell_type": "markdown",
   "metadata": {},
   "source": [
    "## Processing Data <a class=\"anchor\" id=\"data_processing\"></a>"
   ]
  },
  {
   "cell_type": "code",
   "execution_count": null,
   "metadata": {},
   "outputs": [],
   "source": [
    "# First let's take a quick look at the fluorescence and genetic expression data"
   ]
  },
  {
   "cell_type": "code",
   "execution_count": null,
   "metadata": {},
   "outputs": [],
   "source": [
    "from sklearn.manifold import TSNE\n",
    "from sklearn.decomposition import PCA"
   ]
  },
  {
   "cell_type": "code",
   "execution_count": null,
   "metadata": {},
   "outputs": [],
   "source": [
    "fluorescence_coordinates = TSNE().fit_transform(fluorescence_counts.T)\n",
    "\n",
    "plt.figure()\n",
    "plt.title(\"TSNE Manifold Mapping of Fluorescence Values for Blood Cells\")\n",
    "plt.scatter(fluorescence_coordinates.T[0],fluorescence_coordinates.T[1],s=1)\n",
    "plt.show()"
   ]
  },
  {
   "cell_type": "code",
   "execution_count": null,
   "metadata": {},
   "outputs": [],
   "source": [
    "gene_coordinates = TSNE().fit_transform(PCA(n_components=20).fit_transform(counts))\n",
    "# gene_coordinates = TSNE(metric='cosine').fit_transform(counts)\n",
    "\n",
    "\n",
    "plt.figure()\n",
    "plt.title(\"TSNE Manifold Mapping of PCA Decomposed Gene Expression Values, Blood Cells \")\n",
    "plt.scatter(gene_coordinates.T[0],gene_coordinates.T[1],s=1)\n",
    "plt.show()"
   ]
  },
  {
   "cell_type": "code",
   "execution_count": null,
   "metadata": {
    "scrolled": true
   },
   "outputs": [],
   "source": [
    "# Now we need to recreate the canonical labels based on antibody surface markers. We have markers as follows:\n",
    "print(fluorescence_header)"
   ]
  },
  {
   "cell_type": "code",
   "execution_count": null,
   "metadata": {
    "scrolled": false
   },
   "outputs": [],
   "source": [
    "# Agglomerative clustering is also going to be a helpful way of looking at the data:\n",
    "\n",
    "from scipy.cluster.hierarchy import dendrogram,linkage\n",
    "\n",
    "feature_sort = dendrogram(linkage(counts.T,metric='cosine',method='average'),no_plot=True)['leaves']\n",
    "sample_sort = dendrogram(linkage(counts,metric='cosine',method='average'),no_plot=True)['leaves']\n",
    "fluorescence_sort = dendrogram(linkage(fluorescence_counts,method='average'),no_plot=True)['leaves']\n",
    "\n",
    "plt.figure(figsize=(20,20))\n",
    "plt.imshow(counts[sample_sort].T[feature_sort].T,cmap='bwr',aspect='auto')\n",
    "plt.show()\n",
    "\n",
    "plt.figure(figsize=(20,20))\n",
    "plt.imshow(np.log10(1 + fluorescence_counts.T[sample_sort]),aspect='auto')\n",
    "plt.colorbar()\n",
    "plt.show()"
   ]
  },
  {
   "cell_type": "code",
   "execution_count": null,
   "metadata": {},
   "outputs": [],
   "source": [
    "\n",
    "# We can map cell surface markers to cell identities using refernce literature like the BD cell surface marker handbook:\n",
    "# https://www.bdbiosciences.com/documents/cd_marker_handbook.pdf\n",
    "\n",
    "# A basic mapping would be:\n",
    "\n",
    "# CD3   + ::: T Cells\n",
    "# CD2   + ::: T/B/NK (Adhesion)\n",
    "# CD4   + ::: Granular cells (T, Macro, Granulo, early phase)\n",
    "\n",
    "# CD8   + ::: T/NK (unclear since handbook lists 2 variants)\n",
    "# CD45  + ::: T/B cell differentiation (not erythrocyte)\n",
    "\n",
    "# CD56  + ::: T and NK (adhesion)\n",
    "# CD57  + ::: T and NK (adhesion)\n",
    "# CD16  + ::: T, Dendritic, NK, Macro, Granulo (IgG binding)\n",
    "# CD10  + ::: NK, Endothelial \n",
    "\n",
    "# CD11c + ::: General marker (inflammatory response?)\n",
    "# CD14  + ::: LPS response, Macrophage, Granulocyte\n",
    "\n",
    "\n",
    "# CD19  + ::: B Cell, Dendritic, Stem marker\n",
    "# CD34  + ::: Stem Cells, Endothelial \n",
    "# CCR5  + ::: Migration (T, Macro, Gran)\n",
    "# CCR7  + ::: T/B/Dend\n"
   ]
  },
  {
   "cell_type": "code",
   "execution_count": null,
   "metadata": {},
   "outputs": [],
   "source": [
    "# We would like to cluster the cells, then examine the fluorescence value of each marker in each cluster\n",
    "\n",
    "print(fluorescence_header)"
   ]
  },
  {
   "cell_type": "code",
   "execution_count": null,
   "metadata": {},
   "outputs": [],
   "source": [
    "plt.figure()\n",
    "plt.title(\"All Cells\")\n",
    "plt.scatter(fluorescence_counts[9],fluorescence_counts[0],s=1)\n",
    "plt.xlabel(\"CD19 (TPM)\")\n",
    "plt.ylabel(\"CD3 (TPM)\")\n",
    "plt.show()"
   ]
  },
  {
   "cell_type": "code",
   "execution_count": null,
   "metadata": {},
   "outputs": [],
   "source": [
    "cd3_p_mask = fluorescence_counts[0] > 1.2\n",
    "cd19_p_mask = fluorescence_counts[9] > 1\n",
    "\n",
    "t_mask = np.logical_and(cd3_p_mask,np.logical_not(cd19_p_mask))\n",
    "b_mask = np.logical_and(cd19_p_mask,np.logical_not(cd3_p_mask))"
   ]
  },
  {
   "cell_type": "code",
   "execution_count": null,
   "metadata": {},
   "outputs": [],
   "source": [
    "plt.figure()\n",
    "plt.title(\"All Cells\")\n",
    "plt.scatter(fluorescence_counts[9],fluorescence_counts[0],s=1,c=b_mask)\n",
    "plt.xlabel(\"CD19\")\n",
    "plt.ylabel(\"CD3\")\n",
    "plt.show()"
   ]
  },
  {
   "cell_type": "code",
   "execution_count": null,
   "metadata": {},
   "outputs": [],
   "source": [
    "# Now we'd like to differentiate between CD4 and CD8 T cells:\n",
    "\n",
    "plt.figure()\n",
    "plt.title(\"T Cells only (CD3+,CD19-)\")\n",
    "plt.scatter(fluorescence_counts[2][t_mask],fluorescence_counts[1][t_mask],s=1)\n",
    "plt.xlabel(\"CD8A\")\n",
    "plt.ylabel(\"CD4\")\n",
    "plt.show()\n",
    "\n",
    "cd4_t = np.logical_and(t_mask,np.logical_and(fluorescence_counts[1] > 0,fluorescence_counts[2] < 1.5))\n",
    "cd8_t = np.logical_and(t_mask,np.logical_and(fluorescence_counts[1] < 0,fluorescence_counts[2] > 3))\n",
    "\n",
    "plt.figure()\n",
    "plt.title(\"T Cells only (CD3+,CD19-)\")\n",
    "plt.scatter(fluorescence_counts[2][t_mask],fluorescence_counts[1][t_mask],c=cd4_t[t_mask],s=1)\n",
    "plt.xlabel(\"CD8A\")\n",
    "plt.ylabel(\"CD4\")\n",
    "plt.show()\n",
    "\n",
    "plt.figure()\n",
    "plt.title(\"T Cells only (CD3+,CD19-)\")\n",
    "plt.scatter(fluorescence_counts[2][t_mask],fluorescence_counts[1][t_mask],c=cd8_t[t_mask],s=1)\n",
    "plt.xlabel(\"CD8A\")\n",
    "plt.ylabel(\"CD4\")\n",
    "plt.show()\n"
   ]
  },
  {
   "cell_type": "code",
   "execution_count": null,
   "metadata": {},
   "outputs": [],
   "source": [
    "## Now let's examine how these are distributed in the TSNE:\n",
    "\n",
    "plt.figure()\n",
    "plt.title(\"TSNE Manifold Mapping of PCA Decomposed Gene Expression Values, CD4+ T Cells Colored, Blood Cells \")\n",
    "plt.scatter(gene_coordinates.T[0],gene_coordinates.T[1],c=cd4_t,s=1)\n",
    "plt.show()"
   ]
  },
  {
   "cell_type": "code",
   "execution_count": null,
   "metadata": {},
   "outputs": [],
   "source": [
    "plt.figure()\n",
    "plt.title(\"TSNE Manifold Mapping of PCA Decomposed Gene Expression Values, CD8+ T Cells Colored, Blood Cells \")\n",
    "plt.scatter(gene_coordinates.T[0],gene_coordinates.T[1],c=cd8_t,s=1)\n",
    "plt.show()"
   ]
  },
  {
   "cell_type": "code",
   "execution_count": null,
   "metadata": {},
   "outputs": [],
   "source": [
    "## Finally let's try to map out naive, memory, and effector cells\n",
    "\n",
    "plt.figure()\n",
    "plt.title(\"CD4 T Cells\")\n",
    "plt.scatter(fluorescence_counts[3][cd4_t],fluorescence_counts[5][cd4_t],s=1)\n",
    "plt.xlabel(\"CD2\")\n",
    "plt.ylabel(\"CD57\")\n",
    "plt.show()\n",
    "\n",
    "plt.figure()\n",
    "plt.title(\"CD8 T Cells\")\n",
    "plt.scatter(fluorescence_counts[3][cd8_t],fluorescence_counts[5][cd8_t],s=1)\n",
    "plt.xlabel(\"CD2\")\n",
    "plt.ylabel(\"CD57\")\n",
    "plt.show()\n",
    "\n",
    "cd4_t_naive = np.logical_and(cd4_t,np.logical_and(fluorescence_counts[3] < 2.5,fluorescence_counts[5] < 1))\n",
    "cd4_t_57_effector = np.logical_and(cd4_t,fluorescence_counts[5] > 1)\n",
    "cd4_t_memory = np.logical_and(cd4_t,np.logical_and(fluorescence_counts[3] > 2.5,fluorescence_counts[5] < 1))\n",
    "\n",
    "cd8_t_naive = np.logical_and(cd8_t,np.logical_and(fluorescence_counts[3] < 2.5,fluorescence_counts[5] < 1))\n",
    "cd8_t_57_effector = np.logical_and(cd8_t,fluorescence_counts[5] > 1)\n",
    "cd8_t_memory = np.logical_and(cd8_t,np.logical_and(fluorescence_counts[3] > 2.5,fluorescence_counts[5] < 1))\n"
   ]
  },
  {
   "cell_type": "code",
   "execution_count": null,
   "metadata": {},
   "outputs": [],
   "source": [
    "plt.figure()\n",
    "plt.title(\"CD4 T Cells\")\n",
    "plt.scatter(fluorescence_counts[3][cd4_t],fluorescence_counts[5][cd4_t],c=cd4_t_57_effector[cd4_t],s=1)\n",
    "plt.xlabel(\"CD2\")\n",
    "plt.ylabel(\"CD57\")\n",
    "plt.show()\n",
    "\n",
    "plt.figure()\n",
    "plt.title(\"CD8 T Cells\")\n",
    "plt.scatter(fluorescence_counts[3][cd8_t],fluorescence_counts[5][cd8_t],c=cd8_t_57_effector[cd8_t],s=1)\n",
    "plt.xlabel(\"CD2\")\n",
    "plt.ylabel(\"CD57\")\n",
    "plt.show()\n"
   ]
  },
  {
   "cell_type": "code",
   "execution_count": null,
   "metadata": {},
   "outputs": [],
   "source": [
    "t_markers = np.array([\n",
    "    b_mask,\n",
    "    t_mask,\n",
    "    cd4_t,\n",
    "    cd8_t,\n",
    "    cd4_t_naive,\n",
    "    cd4_t_memory,\n",
    "    cd4_t_57_effector,\n",
    "    cd8_t_naive,\n",
    "    cd8_t_memory,\n",
    "    cd8_t_57_effector])\n",
    "\n",
    "t_marker_header = [\n",
    "    \"b_cell\",\n",
    "    \"t_cell\",\n",
    "    \"cd4_t_cell\",\n",
    "    \"cd8_t_cell\",\n",
    "    \"cd4_t_naive\",\n",
    "    \"cd4_t_memory\",\n",
    "    \"cd4_t_effector\",\n",
    "    \"cd8_t_naive\",\n",
    "    \"cd8_t_memory\",\n",
    "    \"cd8_t_effector\",\n",
    "]\n",
    "\n",
    "# t_markers.shape"
   ]
  },
  {
   "cell_type": "code",
   "execution_count": null,
   "metadata": {},
   "outputs": [],
   "source": []
  },
  {
   "cell_type": "code",
   "execution_count": null,
   "metadata": {},
   "outputs": [],
   "source": [
    "np.savetxt('cell_markers.tsv',t_markers)\n",
    "np.savetxt('cell_marker_header.txt',t_marker_header,fmt=\"%s\")\n",
    "np.savetxt('fluorescence_coordiantes.tsv',fluorescence_coordinates)\n",
    "np.savetxt('gene_coordinates.tsv', gene_coordinates)"
   ]
  },
  {
   "cell_type": "code",
   "execution_count": null,
   "metadata": {},
   "outputs": [],
   "source": [
    "t_markers = np.loadtxt('cell_markers.tsv')\n",
    "t_marker_header = np.loadtxt('cell_marker_header.txt',dtype=str)\n",
    "fluorescence_coordinates = np.loadtxt('fluorescence_coordiantes.tsv')\n",
    "gene_coordinates = np.loadtxt('gene_coordinates.tsv')"
   ]
  },
  {
   "cell_type": "markdown",
   "metadata": {},
   "source": [
    "## Forest Analysis <a class=\"anchor\" id=\"forest_analysis\"></a>"
   ]
  },
  {
   "cell_type": "code",
   "execution_count": null,
   "metadata": {},
   "outputs": [],
   "source": [
    "## Here we begin the analysis of this data using random forest regression.\n",
    "\n",
    "# First boilerplate imports of RFR\n",
    "\n",
    "import sys\n",
    "sys.path.append(\"../src/\")\n",
    "import lumberjack\n",
    "import tree_reader_sc as tr"
   ]
  },
  {
   "cell_type": "code",
   "execution_count": null,
   "metadata": {},
   "outputs": [],
   "source": [
    "## Here we create a random forest using the rust software.\n",
    "\n",
    "# forest = lumberjack.fit(\n",
    "#     input_counts=counts,\n",
    "#     output_counts=counts,\n",
    "#     header=header,\n",
    "#     ifs=400,\n",
    "#     ofs=200,\n",
    "#     ss=100,\n",
    "#     trees=100,\n",
    "#     depth=5,\n",
    "#     norm='l1')\n",
    "\n",
    "# forest = lumberjack.fit(\n",
    "#     input_counts=umis,\n",
    "#     output_counts=umis,\n",
    "#     header=header,\n",
    "#     ifs=400,\n",
    "#     ofs=200,\n",
    "#     ss=100,\n",
    "#     trees=10,\n",
    "#     depth=5,\n",
    "#     sfr='0.',\n",
    "#     dispersion_mode='sme',\n",
    "#     norm='l1')\n",
    "\n",
    "# forest = lumberjack.fit(\n",
    "#     input_counts=umis,\n",
    "#     output_counts=umis,\n",
    "#     header=header,\n",
    "#     ifs=600,\n",
    "#     ofs=400,\n",
    "#     ss=200,\n",
    "#     trees=100,\n",
    "#     depth=5,\n",
    "#     sfr='1.',\n",
    "#     dispersion_mode='mad',\n",
    "#     norm='l1')\n",
    "\n"
   ]
  },
  {
   "cell_type": "code",
   "execution_count": null,
   "metadata": {},
   "outputs": [],
   "source": [
    "# Creating a random forest is a computationally expensive procedure, so we'll back up our results and generally won't \n",
    "# rerun them unless necessary\n",
    "\n",
    "# forest.backup('citeseq_forest_l2')\n",
    "# forest.backup('citeseq_forest_l2_cache')\n",
    "# forest.backup('citeseq_forest_l1')\n",
    "# forest.backup('citeseq_forest_l1_cache')\n",
    "# forest.backup('citeseq_forest_l1_umi')\n",
    "# forest.backup('citeseq_forest_l1_umi_cache')\n",
    "# forest.backup('citeseq_forest_l1_sem_sfr')\n",
    "# forest.backup('citeseq_forest_l2_sfr_umi')\n",
    "# forest.backup('citeseq_forest_mad_l1_umi')\n",
    "\n",
    "# !ls -lh"
   ]
  },
  {
   "cell_type": "code",
   "execution_count": null,
   "metadata": {},
   "outputs": [],
   "source": [
    "forest.trees[1].plot()"
   ]
  },
  {
   "cell_type": "code",
   "execution_count": null,
   "metadata": {},
   "outputs": [],
   "source": [
    "# Here we can reconstitute previously backed up forests we have created. \n",
    "\n",
    "# forest = tr.Forest.reconstitute('citeseq_forest_l2')\n",
    "# forest = tr.Forest.reconstitute('citeseq_forest_l1_cache')\n",
    "# forest = tr.Forest.reconstitute('citeseq_forest')\n",
    "# forest = tr.Forest.reconstitute('citeseq_forest_cache')\n",
    "# forest = tr.Forest.reconstitute('citeseq_forest_l1_umi')\n",
    "forest = tr.Forest.reconstitute('citeseq_forest_l1_umi_cache')\n",
    "# forest = tr.Forest.reconstitute('citeseq_forest_l2_sfr_umi')\n",
    "\n",
    "# forest = tr.Forest.reconstitute('citeseq_forest_mad_l1_umi')\n"
   ]
  },
  {
   "cell_type": "code",
   "execution_count": null,
   "metadata": {},
   "outputs": [],
   "source": [
    "# forest.reset_output_featuers()"
   ]
  },
  {
   "cell_type": "code",
   "execution_count": null,
   "metadata": {},
   "outputs": [],
   "source": [
    "forest.set_cache(True)"
   ]
  },
  {
   "cell_type": "code",
   "execution_count": null,
   "metadata": {
    "scrolled": true
   },
   "outputs": [],
   "source": [
    "## First we must find common marginal effects of splits in the random forest.\n",
    "# We can do this by clustering vectors representing the marginal effect of each split\n",
    "\n",
    "forest.reset_clusters()\n",
    "forest.interpret_splits(depth=4,mode='additive',sub=.3,metric='cosine',k=10,pca=False,override=False,no_plot=False)\n",
    "\n",
    "## TO DO: REDO DEFAULTS"
   ]
  },
  {
   "cell_type": "code",
   "execution_count": null,
   "metadata": {
    "scrolled": false
   },
   "outputs": [],
   "source": [
    "## Placeholder debugging cell\n",
    "\n",
    "# forest.reset_clusters()\n",
    "# forest.create_root_cluster()\n",
    "\n",
    "# forest.most_likely_tree()\n",
    "\n",
    "# forest.split_clusters[0].html_cluster_summary()\n",
    "\n",
    "# forest.recursive_interpretation(forest.split_clusters[0])\n",
    "\n",
    "# forest.plot_tree_summary(figsize=(30,10),type='additive_features',features=forest.output_features[1990:2000],cmap='bwr')\n",
    "# print(forest.split_clusters[0].css_additive_panel(features=forest.output_features[1990:2000]))\n",
    "# forest.split_clusters[1].json_cluster_summary(n=5)\n",
    "# forest.html_tree_summary()\n",
    "# len(forest.truth_dictionary.feature_dictionary)\n",
    "# print(len(forest.split_clusters))\n",
    "# forest.split_cluster_transition_matrix(depth=3).shape\n",
    "# set([n.split_cluster for n in forest.nodes() if hasattr(n,'split_cluster')])"
   ]
  },
  {
   "cell_type": "code",
   "execution_count": null,
   "metadata": {
    "scrolled": true
   },
   "outputs": [],
   "source": [
    "# forest.dependence_tree()\n",
    "forest.most_likely_tree(depth=4)\n",
    "# forest.maximum_spanning_tree()\n",
    "# forest.maximum_sample_tree()\n",
    "# forest.sample_score_tree()\n",
    "# len(set(forest.split_labels(depth=4)))\n",
    "# print(len(forest.split_clusters))"
   ]
  },
  {
   "cell_type": "code",
   "execution_count": null,
   "metadata": {},
   "outputs": [],
   "source": []
  },
  {
   "cell_type": "code",
   "execution_count": null,
   "metadata": {
    "scrolled": true
   },
   "outputs": [],
   "source": [
    "## We want to examine the common splits in two ways: \n",
    "\n",
    "# Cell populations they affect and effects of each split\n",
    "\n",
    "forest.html_tree_summary()"
   ]
  },
  {
   "cell_type": "code",
   "execution_count": null,
   "metadata": {
    "scrolled": false
   },
   "outputs": [],
   "source": [
    "\n",
    "# tc = forest.coordinates(no_plot=True)\n",
    "\n",
    "# for split_cluster in forest.split_clusters:\n",
    "#     print(split_cluster.id)\n",
    "#     try:\n",
    "#         print(sorted(list(split_cluster.braid_features().items()),key=lambda x:x[1])[::-1])\n",
    "# #         print(list(split_cluster.braid_features().items()))\n",
    "#     except:\n",
    "#         pass\n",
    "#     split_cluster.html_cluster_summary()\n",
    "#     split_cluster.plot_cell_counts()\n",
    "#     cell_score = split_cluster.cell_counts()\n",
    "\n",
    "#     f = plt.figure(figsize=(15,10))\n",
    "#     plt.title(\"Cell Score\")\n",
    "#     plt.scatter(tc[:,0],tc[:,1],c=cell_score)\n",
    "#     plt.colorbar()\n",
    "#     plt.show()\n",
    "    \n",
    "#     sister_color = split_cluster.sister_scores()\n",
    "\n",
    "#     f = plt.figure(figsize=(15,10))\n",
    "#     plt.title(f\"Sister Split {split_cluster.name()}\")\n",
    "#     plt.scatter(tc[:,0],tc[:,1],c=sister_color,cmap='bwr',vmin=max(sister_color)*-1)\n",
    "#     plt.colorbar()\n",
    "# #     plt.show()\n",
    "#     plt.savefig(f\"ss{split_cluster.id}.png\")"
   ]
  },
  {
   "cell_type": "code",
   "execution_count": null,
   "metadata": {},
   "outputs": [],
   "source": []
  },
  {
   "cell_type": "code",
   "execution_count": null,
   "metadata": {},
   "outputs": [],
   "source": [
    "# forest.cluster_samples_simple(sub=.5,k=20,pca=20,metric='cosine',override=True)\n",
    "forest.reset_sample_clusters()\n",
    "forest.cluster_samples_encoding(sub=.5,metric='jaccard',k=20,override=True,pca=False)\n",
    "len(forest.sample_clusters)"
   ]
  },
  {
   "cell_type": "code",
   "execution_count": null,
   "metadata": {
    "scrolled": false
   },
   "outputs": [],
   "source": [
    "forest.plot_cell_clusters()"
   ]
  },
  {
   "cell_type": "code",
   "execution_count": null,
   "metadata": {},
   "outputs": [],
   "source": [
    "plt.figure()\n",
    "plt.title(\"TSNE Manifold Mapping of Sample Clusters onto Fluorescence Coordinates\")\n",
    "plt.scatter(fluorescence_coordinates.T[0],fluorescence_coordinates.T[1],s=1,c=forest.sample_labels,cmap='rainbow')\n",
    "plt.show()"
   ]
  },
  {
   "cell_type": "code",
   "execution_count": null,
   "metadata": {
    "scrolled": false
   },
   "outputs": [],
   "source": [
    "# from scipy.cluster.hierarchy import dendrogram,linkage\n",
    "\n",
    "feature_sort = dendrogram(linkage(counts.T,metric='cosine',method='average'),no_plot=True)['leaves']\n",
    "sample_sort = np.argsort(forest.sample_labels)\n",
    "\n",
    "plt.figure(figsize=(20,20))\n",
    "plt.imshow(counts[sample_sort].T[feature_sort].T,cmap='bwr',aspect='auto')\n",
    "plt.show()\n",
    "\n",
    "plt.figure(figsize=(20,20))\n",
    "plt.imshow(fluorescence_counts.T[sample_sort],aspect='auto')\n",
    "plt.xticks(np.arange(10),fluorescence_header)\n",
    "plt.show()\n"
   ]
  },
  {
   "cell_type": "code",
   "execution_count": null,
   "metadata": {},
   "outputs": [],
   "source": [
    "fluorescence_counts.shape"
   ]
  },
  {
   "cell_type": "code",
   "execution_count": null,
   "metadata": {},
   "outputs": [],
   "source": [
    "sample_cluster_features = forest.sample_cluster_feature_matrix()\n",
    "sample_cluster_sort = dendrogram(linkage(sample_cluster_features,metric='cosine',method='average'),no_plot=True)['leaves']\n",
    "# sample_cluster_feature_sort = dendrogram(linkage(sample_cluster_features.T,metric='cosine',method='average'),no_plot=True)['leaves']\n",
    "\n",
    "plt.figure(figsize=(20,20))\n",
    "plt.imshow(np.log10(sample_cluster_features[sample_cluster_sort].T[feature_sort].T),cmap='bwr',aspect='auto')\n",
    "# plt.imshow(sample_cluster_features[sample_cluster_sort].T[sample_cluster_feature_sort].T,cmap='bwr',aspect='auto')\n",
    "plt.yticks(np.arange(len(forest.sample_clusters)),np.arange(len(forest.sample_clusters))[sample_cluster_sort])\n",
    "plt.show()\n"
   ]
  },
  {
   "cell_type": "code",
   "execution_count": null,
   "metadata": {},
   "outputs": [],
   "source": [
    "# focused = sample_cluster_features[sample_cluster_sort].T[feature_sort].T[-4:]\n",
    "# feature_resort = dendrogram(linkage(focused.T,metric='cosine',method='average'),no_plot=True)['leaves']\n",
    "\n",
    "# plt.figure(figsize=(20,5))\n",
    "# plt.imshow(focused,cmap='bwr',aspect='auto')\n",
    "# plt.show()\n",
    "\n",
    "# plt.figure(figsize=(5,30))\n",
    "# plt.imshow(focused.T[feature_resort],cmap='bwr',aspect='auto')\n",
    "# plt.show()\n"
   ]
  },
  {
   "cell_type": "code",
   "execution_count": null,
   "metadata": {},
   "outputs": [],
   "source": [
    "plt.figure(figsize=(20,20))\n",
    "plt.imshow(t_markers.T[sample_sort],aspect='auto')\n",
    "plt.xticks(np.arange(10),t_marker_header)\n",
    "plt.show()\n"
   ]
  },
  {
   "cell_type": "code",
   "execution_count": null,
   "metadata": {},
   "outputs": [],
   "source": [
    "## We would now like to see what kind of distribution there is between forest splits and sample clusters\n",
    "# for the fluorescence features\n",
    "\n",
    "fluorescence_features = list(fluorescence_header) + list(t_marker_header)\n",
    "fluorescence_feature_values = np.array([f for f in fluorescence_counts[:]] + [m for m in t_markers])\n",
    "\n",
    "print(fluorescence_features)\n",
    "print(len(fluorescence_features))\n",
    "print(fluorescence_feature_values.shape)\n",
    "\n",
    "for feature,feature_values in zip(fluorescence_features,fluorescence_feature_values):\n",
    "    forest.add_output_feature(feature_values,feature)"
   ]
  },
  {
   "cell_type": "code",
   "execution_count": null,
   "metadata": {},
   "outputs": [],
   "source": [
    "forest.output_features[2000:]"
   ]
  },
  {
   "cell_type": "code",
   "execution_count": null,
   "metadata": {
    "scrolled": false
   },
   "outputs": [],
   "source": [
    "sample_cluster_fluorescence = forest.sample_cluster_feature_matrix(fluorescence_features)\n",
    "# print(sample_cluster_fluorescence.shape)\n",
    "\n",
    "plt.figure(figsize=(20,20))\n",
    "plt.imshow(sample_cluster_fluorescence[:,10:],aspect='auto')\n",
    "plt.yticks(np.arange(len(forest.sample_clusters)),np.arange(len(forest.sample_clusters)))\n",
    "plt.xticks(np.arange(10),fluorescence_features[10:])\n",
    "plt.ylim(-.5,len(sample_cluster_fluorescence)-.5)\n",
    "plt.colorbar()\n",
    "plt.show()\n",
    "\n",
    "# plt.figure(figsize=(20,20))\n",
    "# plt.imshow(sample_cluster_fluorescence[sample_cluster_sort],aspect='auto')\n",
    "# plt.yticks(np.arange(23),np.arange(23)[sample_cluster_sort])\n",
    "# plt.xticks(np.arange(20),fluorescence_features)\n",
    "# plt.colorbar()\n",
    "# plt.show()\n",
    "\n",
    "# plt.figure(figsize=(20,20))\n",
    "# plt.imshow(sample_cluster_fluorescence[sample_cluster_sort][:,:10],aspect='auto')\n",
    "# plt.yticks(np.arange(23),np.arange(23)[sample_cluster_sort])\n",
    "# plt.xticks(np.arange(10),fluorescence_features[:10])\n",
    "# plt.colorbar()\n",
    "# plt.show()\n",
    "\n",
    "plt.figure(figsize=(20,20))\n",
    "plt.imshow(sample_cluster_fluorescence[sample_cluster_sort][:,10:],aspect='auto')\n",
    "plt.yticks(np.arange(len(forest.sample_clusters)),np.arange(len(forest.sample_clusters))[sample_cluster_sort])\n",
    "plt.xticks(np.arange(10),fluorescence_features[10:])\n",
    "plt.ylim(-.5,len(sample_cluster_fluorescence)-.5)\n",
    "plt.colorbar()\n",
    "plt.show()\n"
   ]
  },
  {
   "cell_type": "code",
   "execution_count": null,
   "metadata": {},
   "outputs": [],
   "source": []
  },
  {
   "cell_type": "markdown",
   "metadata": {},
   "source": [
    "### RANDOM DEVELOPMENT BULLSHIT, MOVE OUT"
   ]
  },
  {
   "cell_type": "code",
   "execution_count": null,
   "metadata": {},
   "outputs": [],
   "source": [
    "forest.likely_tree"
   ]
  },
  {
   "cell_type": "code",
   "execution_count": null,
   "metadata": {},
   "outputs": [],
   "source": [
    "def flatten_tree(tree):\n",
    "    flat = []\n",
    "    for child in tree[1]:\n",
    "        flat.extend(flatten_tree(child))\n",
    "    flat.append([tree[0],[c[0] for c in tree[1]]])\n",
    "    return flat\n",
    "\n",
    "def levels(tree,level=0):\n",
    "    l = []\n",
    "    for child in tree[1]:\n",
    "        l.extend(levels(child,level=level+1))\n",
    "    l.append(level)\n",
    "    return l\n",
    "\n",
    "flat = flatten_tree(forest.likely_tree)\n",
    "\n",
    "flat_label = [f[0] for f in flat]"
   ]
  },
  {
   "cell_type": "code",
   "execution_count": null,
   "metadata": {},
   "outputs": [],
   "source": [
    "print(flat)\n",
    "print(flat_label)\n",
    "print(np.arange(25)[flat_label])"
   ]
  },
  {
   "cell_type": "code",
   "execution_count": null,
   "metadata": {},
   "outputs": [],
   "source": [
    "split_cluster_fluorescence = forest.split_cluster_feature_matrix(fluorescence_features)\n",
    "split_cluster_fluorescence.shape"
   ]
  },
  {
   "cell_type": "code",
   "execution_count": null,
   "metadata": {},
   "outputs": [],
   "source": [
    "# plt.figure(figsize=(20,20))\n",
    "# plt.imshow(split_cluster_fluorescence[:,10:],aspect='auto')\n",
    "# plt.yticks(np.arange(21),np.arange(21))\n",
    "# plt.xticks(np.arange(10),fluorescence_features[:10])\n",
    "# plt.colorbar()\n",
    "# plt.show()\n",
    "\n",
    "plt.figure(figsize=(20,20))\n",
    "plt.imshow(split_cluster_fluorescence[flat_label][:,10:],aspect='auto')\n",
    "plt.yticks(np.arange(21),flat_label)\n",
    "plt.xticks(np.arange(10),fluorescence_features[10:])\n",
    "plt.colorbar()\n",
    "plt.show()"
   ]
  },
  {
   "cell_type": "code",
   "execution_count": null,
   "metadata": {},
   "outputs": [],
   "source": [
    "def flat_linkage(tree):\n",
    "    flat_tree = flatten_tree(tree)\n",
    "    print(flat_tree)\n",
    "    node_translation = {n[0]:i for i,n in enumerate(flat_tree)}\n",
    "    print(node_translation)\n",
    "    node_levels = levels(tree)\n",
    "    \n",
    "    coordinates = np.zeros((len(flat_tree),2))\n",
    "    \n",
    "    coordinates[:,1] = np.arange(len(flat_tree),0,-1)\n",
    "    coordinates[:,0] = node_levels\n",
    "    \n",
    "    coordinates[:,1] /= np.max(coordinates[:,1])\n",
    "    coordinates[:,0] /= np.max(coordinates[:,0])\n",
    "    \n",
    "    links = []\n",
    "    \n",
    "    for node in flat_tree:\n",
    "        node_index = node_translation[node[0]]\n",
    "        for child in (node[1]):\n",
    "            child_index = node_translation[child]\n",
    "            links.append(([node[0],child],[coordinates[node_index,0],coordinates[child_index,0]],[coordinates[node_index,1],coordinates[child_index,1]]))\n",
    "    return links"
   ]
  },
  {
   "cell_type": "code",
   "execution_count": null,
   "metadata": {},
   "outputs": [],
   "source": [
    "\n"
   ]
  },
  {
   "cell_type": "code",
   "execution_count": null,
   "metadata": {},
   "outputs": [],
   "source": [
    "flat_linkage(forest.likely_tree)"
   ]
  },
  {
   "cell_type": "code",
   "execution_count": null,
   "metadata": {},
   "outputs": [],
   "source": [
    "fig = plt.figure(figsize=(20,20))\n",
    "ax1 = fig.add_subplot(121)\n",
    "links = flat_linkage(forest.likely_tree)\n",
    "for i,link in enumerate(links):\n",
    "#     ax1.scatter(link[2][0],link[2][1])\n",
    "    print(link[1][0],link[1][1],link[0][0],link[0][1])\n",
    "    ax1.text(link[1][1] + .1 ,link[2][1],s=link[0][1],verticalalignment='center',horizontalalignment='center')\n",
    "for i,link in enumerate(links):\n",
    "    ax1.plot(link[1],link[2])\n",
    "ax1.set_axis_off()\n",
    "ax2 = fig.add_subplot(122)\n",
    "ax2.imshow(split_cluster_fluorescence[flat_label][:,10:],aspect='auto')\n",
    "ax2.set_yticks(np.arange(21))\n",
    "ax2.set_yticklabels(flat_label)\n",
    "ax2.set_xticks(np.arange(10))\n",
    "ax2.set_xticklabels(fluorescence_features[10:],rotation=45,verticalalignment='top',horizontalalignment='right')\n",
    "fig.show()\n"
   ]
  },
  {
   "cell_type": "code",
   "execution_count": null,
   "metadata": {
    "scrolled": false
   },
   "outputs": [],
   "source": [
    "ff = [fluorescence_features[10],] + fluorescence_features[14:]\n",
    "# ff\n",
    "forest.plot_tree_summary(figsize=(20,5),type='features',features=ff,cmap='bwr')"
   ]
  },
  {
   "cell_type": "code",
   "execution_count": null,
   "metadata": {},
   "outputs": [],
   "source": [
    "forest.plot_tree_summary(type='id')"
   ]
  },
  {
   "cell_type": "code",
   "execution_count": null,
   "metadata": {},
   "outputs": [],
   "source": [
    "forest.plot_tree_summary()"
   ]
  },
  {
   "cell_type": "code",
   "execution_count": null,
   "metadata": {
    "scrolled": false
   },
   "outputs": [],
   "source": [
    "forest.plot_manifold()"
   ]
  },
  {
   "cell_type": "code",
   "execution_count": null,
   "metadata": {},
   "outputs": [],
   "source": [
    "forest.plot_split_clusters()"
   ]
  },
  {
   "cell_type": "code",
   "execution_count": null,
   "metadata": {},
   "outputs": [],
   "source": [
    "forest.coordinates(type='tsne',override=True)"
   ]
  },
  {
   "cell_type": "code",
   "execution_count": null,
   "metadata": {},
   "outputs": [],
   "source": [
    "print(len(forest.sample_clusters))"
   ]
  },
  {
   "cell_type": "code",
   "execution_count": null,
   "metadata": {},
   "outputs": [],
   "source": [
    "forest.likely_tree"
   ]
  },
  {
   "cell_type": "code",
   "execution_count": null,
   "metadata": {},
   "outputs": [],
   "source": [
    "pd = forest.partial_dependence()\n",
    "# direction = forest.directional_matrix()\n",
    "\n",
    "plt.figure(figsize=(20,20))\n",
    "plt.imshow(pd)\n",
    "plt.show()\n",
    "\n",
    "# plt.figure(figsize=(20,20))\n",
    "# plt.imshow(direction)\n",
    "# plt.show()"
   ]
  },
  {
   "cell_type": "code",
   "execution_count": null,
   "metadata": {},
   "outputs": [],
   "source": [
    "np.argmin(pd,axis=1)"
   ]
  },
  {
   "cell_type": "code",
   "execution_count": null,
   "metadata": {},
   "outputs": [],
   "source": [
    "forest.likely_tree"
   ]
  },
  {
   "cell_type": "code",
   "execution_count": null,
   "metadata": {},
   "outputs": [],
   "source": [
    "forest.added_features = 43"
   ]
  },
  {
   "cell_type": "code",
   "execution_count": null,
   "metadata": {},
   "outputs": [],
   "source": [
    "forest.reset_output_featuers()"
   ]
  },
  {
   "cell_type": "code",
   "execution_count": null,
   "metadata": {},
   "outputs": [],
   "source": [
    "forest.output.shape"
   ]
  },
  {
   "cell_type": "code",
   "execution_count": null,
   "metadata": {},
   "outputs": [],
   "source": [
    "forest.added_features"
   ]
  },
  {
   "cell_type": "code",
   "execution_count": null,
   "metadata": {},
   "outputs": [],
   "source": [
    "forest.output.shape"
   ]
  },
  {
   "cell_type": "code",
   "execution_count": null,
   "metadata": {},
   "outputs": [],
   "source": [
    "forest.reset_output_featuers()"
   ]
  },
  {
   "cell_type": "code",
   "execution_count": null,
   "metadata": {},
   "outputs": [],
   "source": [
    "forest.reset_output_featuers()"
   ]
  },
  {
   "cell_type": "code",
   "execution_count": null,
   "metadata": {},
   "outputs": [],
   "source": [
    "fig = plt.figure()\n",
    "ax = fig.add_axes([0,0,1,1])\n",
    "forest.split_clusters[4].feature_panel(ax,fluorescence_features)"
   ]
  },
  {
   "cell_type": "code",
   "execution_count": null,
   "metadata": {},
   "outputs": [],
   "source": []
  },
  {
   "cell_type": "code",
   "execution_count": null,
   "metadata": {},
   "outputs": [],
   "source": []
  },
  {
   "cell_type": "code",
   "execution_count": null,
   "metadata": {},
   "outputs": [],
   "source": []
  },
  {
   "cell_type": "code",
   "execution_count": null,
   "metadata": {},
   "outputs": [],
   "source": []
  },
  {
   "cell_type": "code",
   "execution_count": null,
   "metadata": {},
   "outputs": [],
   "source": []
  },
  {
   "cell_type": "code",
   "execution_count": null,
   "metadata": {},
   "outputs": [],
   "source": [
    "features = [\"Hsp90\",\"Klu\"]\n",
    "values = [1,.5]\n",
    "vr = mpl.cm.get_cmap('viridis')\n",
    "norm = mpl.colors.DivergingNorm(0)"
   ]
  },
  {
   "cell_type": "code",
   "execution_count": null,
   "metadata": {},
   "outputs": [],
   "source": [
    "print(generate_node_feature_html(features,values,cmap=vr,normalization=norm))"
   ]
  },
  {
   "cell_type": "code",
   "execution_count": null,
   "metadata": {},
   "outputs": [],
   "source": []
  },
  {
   "cell_type": "code",
   "execution_count": null,
   "metadata": {},
   "outputs": [],
   "source": [
    "from tree_braider_parent import IHMM "
   ]
  },
  {
   "cell_type": "code",
   "execution_count": null,
   "metadata": {},
   "outputs": [],
   "source": [
    "model = IHMM(forest,live_nodes=forest.nodes(depth=3,root=False),pca=10,start_states=20)"
   ]
  },
  {
   "cell_type": "code",
   "execution_count": null,
   "metadata": {},
   "outputs": [],
   "source": [
    "for i in range(100):\n",
    "    model.sweep()"
   ]
  },
  {
   "cell_type": "code",
   "execution_count": null,
   "metadata": {},
   "outputs": [],
   "source": [
    "for component in model.components:\n",
    "    print(component.nodes)"
   ]
  },
  {
   "cell_type": "code",
   "execution_count": null,
   "metadata": {},
   "outputs": [],
   "source": [
    "np.sum(model.node_states == 1)"
   ]
  },
  {
   "cell_type": "code",
   "execution_count": null,
   "metadata": {},
   "outputs": [],
   "source": [
    "model.components[5].nodes"
   ]
  },
  {
   "cell_type": "code",
   "execution_count": null,
   "metadata": {},
   "outputs": [],
   "source": [
    "np.arange(model.node_states.shape[0])[model.node_states == 5]"
   ]
  },
  {
   "cell_type": "code",
   "execution_count": null,
   "metadata": {},
   "outputs": [],
   "source": [
    "model.node_features[2865]"
   ]
  },
  {
   "cell_type": "code",
   "execution_count": null,
   "metadata": {},
   "outputs": [],
   "source": [
    "model.state_log_odds_given_features.T[2865]"
   ]
  },
  {
   "cell_type": "code",
   "execution_count": null,
   "metadata": {},
   "outputs": [],
   "source": [
    "np.arange(len(model.nodes))[model.live_mask]"
   ]
  },
  {
   "cell_type": "code",
   "execution_count": null,
   "metadata": {},
   "outputs": [],
   "source": [
    "model.state_log_odds_given_features.T[12]"
   ]
  },
  {
   "cell_type": "code",
   "execution_count": null,
   "metadata": {},
   "outputs": [],
   "source": [
    "model.state_log_odds_given_parent.T[12]"
   ]
  },
  {
   "cell_type": "code",
   "execution_count": null,
   "metadata": {},
   "outputs": [],
   "source": [
    "for component in model.components:\n",
    "    print(component.nodes)\n",
    "    print(component.means)"
   ]
  },
  {
   "cell_type": "code",
   "execution_count": null,
   "metadata": {},
   "outputs": [],
   "source": [
    "from sklearn.decomposition import PCA"
   ]
  },
  {
   "cell_type": "code",
   "execution_count": null,
   "metadata": {},
   "outputs": [],
   "source": [
    "model = PCA(n_components=30).fit(forest.output)"
   ]
  },
  {
   "cell_type": "code",
   "execution_count": null,
   "metadata": {},
   "outputs": [],
   "source": [
    "trans = model.transform(forest.output)"
   ]
  },
  {
   "cell_type": "code",
   "execution_count": null,
   "metadata": {},
   "outputs": [],
   "source": [
    "trans.shape"
   ]
  },
  {
   "cell_type": "code",
   "execution_count": null,
   "metadata": {},
   "outputs": [],
   "source": [
    "import numpy as np\n",
    "\n",
    "np.diag(np.cov(trans.T))\n"
   ]
  },
  {
   "cell_type": "code",
   "execution_count": null,
   "metadata": {},
   "outputs": [],
   "source": [
    "model.singular_values_"
   ]
  },
  {
   "cell_type": "code",
   "execution_count": null,
   "metadata": {},
   "outputs": [],
   "source": [
    "from tree_braider_svd_full import IHMM"
   ]
  },
  {
   "cell_type": "code",
   "execution_count": null,
   "metadata": {},
   "outputs": [],
   "source": [
    "model = IHMM(forest,live_nodes=forest.nodes(depth=3,root=False),start_states=20,pca=5,beta_e=200)"
   ]
  },
  {
   "cell_type": "code",
   "execution_count": null,
   "metadata": {
    "scrolled": true
   },
   "outputs": [],
   "source": [
    "coordinates = forest.tsne(no_plot=True)\n",
    "for i in range(200):\n",
    "    model.sweep()\n",
    "    if model.beta_e > 50:\n",
    "        model.beta_e -= 1"
   ]
  },
  {
   "cell_type": "code",
   "execution_count": null,
   "metadata": {},
   "outputs": [],
   "source": [
    "np.diag([[1,2,3],[4,5,6],[7,8,9]])"
   ]
  },
  {
   "cell_type": "code",
   "execution_count": null,
   "metadata": {},
   "outputs": [],
   "source": [
    "print(model.sweep())\n",
    "print([np.sum(model.sample_state==i) for i,c in enumerate(model.components)])\n",
    "print(model.sample_state_likelihood[:10])\n",
    "print(model.sample_state)"
   ]
  },
  {
   "cell_type": "code",
   "execution_count": null,
   "metadata": {},
   "outputs": [],
   "source": [
    "plt.figure()\n",
    "plt.scatter(coordinates[:,0],coordinates[:,1],c=model.sample_state,cmap='rainbow')\n",
    "plt.show()"
   ]
  },
  {
   "cell_type": "code",
   "execution_count": null,
   "metadata": {},
   "outputs": [],
   "source": [
    "model.sample_state[:10]"
   ]
  },
  {
   "cell_type": "code",
   "execution_count": null,
   "metadata": {},
   "outputs": [],
   "source": [
    "model.sweep()"
   ]
  },
  {
   "cell_type": "code",
   "execution_count": null,
   "metadata": {},
   "outputs": [],
   "source": [
    "for c in model.components:\n",
    "    print(c.log_det)"
   ]
  },
  {
   "cell_type": "code",
   "execution_count": null,
   "metadata": {},
   "outputs": [],
   "source": [
    "model.subsample"
   ]
  },
  {
   "cell_type": "code",
   "execution_count": null,
   "metadata": {},
   "outputs": [],
   "source": [
    "forest.reset_split_clusters()"
   ]
  },
  {
   "cell_type": "code",
   "execution_count": null,
   "metadata": {},
   "outputs": [],
   "source": [
    "forest.external_split_labels(forest.nodes(),model.external_states())"
   ]
  },
  {
   "cell_type": "code",
   "execution_count": null,
   "metadata": {},
   "outputs": [],
   "source": [
    "forest.most_likely_tree(depth=3)"
   ]
  },
  {
   "cell_type": "code",
   "execution_count": null,
   "metadata": {
    "scrolled": false
   },
   "outputs": [],
   "source": [
    "forest.html_tree_summary()"
   ]
  },
  {
   "cell_type": "code",
   "execution_count": null,
   "metadata": {},
   "outputs": [],
   "source": [
    "model.beta_e"
   ]
  },
  {
   "cell_type": "code",
   "execution_count": null,
   "metadata": {},
   "outputs": [],
   "source": [
    "representation = forest.node_representation(forest.nodes(root=False),mode='additive')"
   ]
  },
  {
   "cell_type": "code",
   "execution_count": null,
   "metadata": {},
   "outputs": [],
   "source": [
    "len(gene_header)"
   ]
  },
  {
   "cell_type": "code",
   "execution_count": null,
   "metadata": {},
   "outputs": [],
   "source": [
    "gene = \"HUMAN_NCR3\"\n",
    "\n",
    "print(list(gene_header).index(gene))\n",
    "print(list(header).index(gene))"
   ]
  },
  {
   "cell_type": "code",
   "execution_count": null,
   "metadata": {},
   "outputs": [],
   "source": [
    "umi_counts.shape"
   ]
  },
  {
   "cell_type": "code",
   "execution_count": null,
   "metadata": {},
   "outputs": [],
   "source": [
    "np.mean(umis[cd8_t],axis=0)[354]"
   ]
  },
  {
   "cell_type": "code",
   "execution_count": null,
   "metadata": {},
   "outputs": [],
   "source": [
    "umi_sums = np.sum(umi_counts,axis=1)\n",
    "umi_total = np.sum(umi_sums)\n",
    "sum_sort = np.argsort(umi_sums)\n",
    "cumsum = np.cumsum(umi_sums[sum_sort])\n",
    "\n",
    "plt.figure()\n",
    "plt.plot(np.arange(29929),cumsum/umi_total)\n",
    "plt.show()"
   ]
  },
  {
   "cell_type": "code",
   "execution_count": null,
   "metadata": {},
   "outputs": [],
   "source": [
    "umi_sums[sum_sort]"
   ]
  },
  {
   "cell_type": "code",
   "execution_count": null,
   "metadata": {},
   "outputs": [],
   "source": [
    "cd8_t_naive.shape"
   ]
  },
  {
   "cell_type": "code",
   "execution_count": null,
   "metadata": {},
   "outputs": [],
   "source": [
    "cd8_t_memory.shape"
   ]
  },
  {
   "cell_type": "code",
   "execution_count": null,
   "metadata": {},
   "outputs": [],
   "source": [
    "naive_means = np.mean(counts[cd8_t_naive],axis=0)\n",
    "memory_means = np.mean(counts[cd8_t_memory],axis=0)"
   ]
  },
  {
   "cell_type": "code",
   "execution_count": null,
   "metadata": {},
   "outputs": [],
   "source": [
    "plt.figure()\n",
    "plt.scatter(naive_means,memory_means)\n",
    "plt.plot([-.5,2],[-.5,2],color='red')\n",
    "plt.show()"
   ]
  },
  {
   "cell_type": "code",
   "execution_count": null,
   "metadata": {},
   "outputs": [],
   "source": []
  }
 ],
 "metadata": {
  "kernelspec": {
   "display_name": "Python 3",
   "language": "python",
   "name": "python3"
  },
  "language_info": {
   "codemirror_mode": {
    "name": "ipython",
    "version": 3
   },
   "file_extension": ".py",
   "mimetype": "text/x-python",
   "name": "python",
   "nbconvert_exporter": "python",
   "pygments_lexer": "ipython3",
   "version": "3.7.4"
  }
 },
 "nbformat": 4,
 "nbformat_minor": 2
}
