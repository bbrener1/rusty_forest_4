{
 "cells": [
  {
   "cell_type": "code",
   "execution_count": null,
   "metadata": {},
   "outputs": [],
   "source": [
    "import numpy as np\n",
    "import matplotlib.pyplot as plt\n",
    "import scanpy as sc\n"
   ]
  },
  {
   "cell_type": "code",
   "execution_count": null,
   "metadata": {},
   "outputs": [],
   "source": [
    "# !ls /project/johnston_retina/human/2_single_cell/HumanOrgData/Cellranger\\ output/Control1\n",
    "# !cp -r /project/johnston_retina/human/2_single_cell/HumanOrgData/Cellranger\\ output/* ./renamed/"
   ]
  },
  {
   "cell_type": "code",
   "execution_count": null,
   "metadata": {},
   "outputs": [],
   "source": [
    "sample_paths = [\n",
    "    \"/project/johnston_retina/human/2_single_cell/HumanOrgData/renamed/Control1/outs/filtered_feature_bc_matrix/\",\n",
    "    \"/project/johnston_retina/human/2_single_cell/HumanOrgData/renamed/Control2/outs/filtered_feature_bc_matrix/\",\n",
    "#     \"/project/johnston_retina/human/2_single_cell/HumanOrgData/renamed/T3treat10day1/outs/filtered_feature_bc_matrix/\",\n",
    "#     \"/project/johnston_retina/human/2_single_cell/HumanOrgData/renamed/T3treat10day2/outs/filtered_feature_bc_matrix/\",\n",
    "#     \"/project/johnston_retina/human/2_single_cell/HumanOrgData/renamed/T3treat200day1/outs/filtered_feature_bc_matrix/\",\n",
    "#     \"/project/johnston_retina/human/2_single_cell/HumanOrgData/renamed/T3treat200day2/outs/filtered_feature_bc_matrix/\",\n",
    "#     \"/project/johnston_retina/human/2_single_cell/HumanOrgData/renamed/T3treat200day3/outs/filtered_feature_bc_matrix/\",\n",
    "#     \"/project/johnston_retina/human/2_single_cell/HumanOrgData/renamed/HROrg_Con_10d_200d_T3aggr083019/outs/filtered_feature_bc_matrix/\",\n",
    "#     \"/project/johnston_retina/human/2_single_cell/HumanOrgData/renamed/HROrg_Con_10d_200d_T3aggrnorm083019/outs/filtered_feature_bc_matrix/\",\n",
    "]"
   ]
  },
  {
   "cell_type": "code",
   "execution_count": null,
   "metadata": {},
   "outputs": [],
   "source": [
    "!ls ./renamed/Control1/outs/filtered_feature_bc_matrix/\n",
    "# !unpigz ./renamed/Control1/outs/filtered_feature_bc_matrix/barcodes.tsv.gz\n",
    "# !wc -l ./renamed/Control1/outs/filtered_feature_bc_matrix/g"
   ]
  },
  {
   "cell_type": "code",
   "execution_count": null,
   "metadata": {},
   "outputs": [],
   "source": [
    "# Strategies for integrating across different samples will depend on the lane setup. Hopefully they were smart enough\n",
    "# to run different samples in each lane. For the initial pass it's probably best to avoid anything particularly fancy."
   ]
  },
  {
   "cell_type": "code",
   "execution_count": null,
   "metadata": {},
   "outputs": [],
   "source": [
    "objects = []\n",
    "headers = []\n",
    "\n",
    "# for sample_path in sample_paths:\n",
    "#     !unpigz {sample_path}/*.tsv.gz\n",
    "\n",
    "for sample_path in sample_paths:\n",
    "    \n",
    "    scp_object = sc.read(sample_path + \"matrix.mtx.gz\")\n",
    "    scp_object = scp_object.transpose()\n",
    "    header = np.loadtxt(sample_path+\"features.tsv\",dtype=str)\n",
    "    scp_object.var_names = header[:,0]\n",
    "    objects.append(scp_object)\n",
    "    headers.append(header)"
   ]
  },
  {
   "cell_type": "code",
   "execution_count": null,
   "metadata": {},
   "outputs": [],
   "source": [
    "master1 = objects[0].copy()\n",
    "master2 = objects[1].copy()\n",
    "bias1 = objects[0].copy()\n",
    "bias2 = objects[1].copy()\n",
    "sc.pp.downsample_counts(master1,counts_per_cell=1200)\n",
    "sc.pp.downsample_counts(master2,counts_per_cell=1200)\n",
    "master1.X = master1.X.astype(dtype=float)\n",
    "master2.X = master2.X.astype(dtype=float)\n"
   ]
  },
  {
   "cell_type": "code",
   "execution_count": null,
   "metadata": {},
   "outputs": [],
   "source": [
    "master1.shape"
   ]
  },
  {
   "cell_type": "code",
   "execution_count": null,
   "metadata": {},
   "outputs": [],
   "source": [
    "# sc.pp.filter_genes(master1,min_counts=100)\n",
    "# sc.pp.filter_genes(master2,min_counts=100)\n",
    "# sc.pp.filter_genes(bias1,min_counts=100)\n",
    "# sc.pp.filter_genes(bias2,min_counts=100)\n",
    "\n",
    "# We may altnernatively want a uniform filter across all samples:\n",
    "min_gene_mask = np.array(np.sum(master1.X,axis=0) > 100).ravel()\n",
    "\n",
    "master1 = master1[:,min_gene_mask]\n",
    "master2 = master2[:,min_gene_mask]\n",
    "bias1 = bias1[:,min_gene_mask]\n",
    "bias2 = bias2[:,min_gene_mask]"
   ]
  },
  {
   "cell_type": "code",
   "execution_count": null,
   "metadata": {},
   "outputs": [],
   "source": []
  },
  {
   "cell_type": "code",
   "execution_count": null,
   "metadata": {},
   "outputs": [],
   "source": [
    "filter1 = master1.copy()\n",
    "filter2 = master2.copy()\n",
    "filter_bias1=bias1.copy()\n",
    "filter_bias2=bias2.copy()\n",
    "\n",
    "sc.pp.normalize_per_cell(filter1)\n",
    "sc.pp.normalize_per_cell(filter2)\n",
    "sc.pp.normalize_per_cell(filter_bias1)\n",
    "sc.pp.normalize_per_cell(filter_bias2)\n",
    "\n",
    "# selecting variable genes\n",
    "filter_result1 = sc.pp.filter_genes_dispersion(  \n",
    "    filter1.X, flavor='cell_ranger', n_top_genes=4000, log=False\n",
    ")\n",
    "filter_result2 = sc.pp.filter_genes_dispersion(  \n",
    "    filter2.X, flavor='cell_ranger', n_top_genes=4000, log=False\n",
    ")\n",
    "filter_bias_result1 = sc.pp.filter_genes_dispersion(  \n",
    "    filter_bias1.X, flavor='cell_ranger', n_top_genes=4000, log=False\n",
    ")\n",
    "filter_bias_result2 = sc.pp.filter_genes_dispersion(  \n",
    "    filter_bias2.X, flavor='cell_ranger', n_top_genes=4000, log=False\n",
    ")\n",
    "\n",
    "# Unfortunately here we need a unified set of features if we plan to do prediction later, so let's subset to the \n",
    "# genes in control 1\n",
    "\n",
    "# subsetting the genes\n",
    "umi1 = master1[:, filter_result1.gene_subset].copy()     \n",
    "umi2 = master2[:, filter_result1.gene_subset].copy()    \n",
    "log1 = master1[:, filter_result1.gene_subset].copy()\n",
    "log2 = master2[:, filter_result1.gene_subset].copy()\n",
    "umi_bias1 = bias1[:, filter_result1.gene_subset].copy()\n",
    "umi_bias2 = bias2[:, filter_result1.gene_subset].copy()\n",
    "log_bias1 = bias1[:, filter_result1.gene_subset].copy()\n",
    "log_bias2 = bias2[:, filter_result1.gene_subset].copy()\n",
    "\n",
    "\n",
    "sc.pp.normalize_per_cell(log1)\n",
    "sc.pp.log1p(log1)\n",
    "sc.pp.scale(log1)\n",
    "\n",
    "sc.pp.normalize_per_cell(log2)\n",
    "sc.pp.log1p(log2)\n",
    "sc.pp.scale(log2)\n",
    "\n",
    "sc.pp.normalize_per_cell(log_bias1)\n",
    "sc.pp.log1p(log_bias1)\n",
    "sc.pp.scale(log_bias1)\n",
    "\n",
    "sc.pp.normalize_per_cell(log_bias2)\n",
    "sc.pp.log1p(log_bias2)\n",
    "sc.pp.scale(log_bias2)"
   ]
  },
  {
   "cell_type": "code",
   "execution_count": null,
   "metadata": {},
   "outputs": [],
   "source": []
  },
  {
   "cell_type": "code",
   "execution_count": null,
   "metadata": {
    "scrolled": false
   },
   "outputs": [],
   "source": [
    "# Here we sanity-check the counts of the two controls pre-normalization. They were run in mixed lanes so there \n",
    "# shouldn't be anything drastic going on.  \n",
    "\n",
    "plt.figure()\n",
    "plt.title(\"Control 1, Cell UMI Count Frequency\")\n",
    "plt.hist(np.sum(umi_bias1.X,axis=1),bins=np.arange(0,4000,200))\n",
    "plt.xlabel(\"Total UMIs\")\n",
    "plt.ylabel(\"Frequency\")\n",
    "plt.show()\n",
    "\n",
    "plt.figure()\n",
    "plt.title(\"Control 2, Cell UMI Count Frequency\")\n",
    "plt.hist(np.sum(umi_bias2.X,axis=1),bins=np.arange(0,4000,200))\n",
    "plt.xlabel(\"Total UMIs (Cell)\")\n",
    "plt.ylabel(\"Frequency\")\n",
    "plt.show()\n",
    "\n",
    "plt.figure()\n",
    "plt.title(\"Control 2, Total Gene Expression Frequency\")\n",
    "plt.hist(np.sum(umi_bias2.X.T,axis=1),bins=np.arange(0,2000,100))\n",
    "plt.xlabel(\"Total UMIs (Gene)\")\n",
    "plt.ylabel(\"Frequency\")\n",
    "plt.show()\n",
    "\n",
    "# And yet here we are. Nearly 2 fold change in mode expression"
   ]
  },
  {
   "cell_type": "code",
   "execution_count": null,
   "metadata": {},
   "outputs": [],
   "source": [
    "757/11"
   ]
  },
  {
   "cell_type": "code",
   "execution_count": null,
   "metadata": {},
   "outputs": [],
   "source": [
    "umi1_array = umi1.X.todense()\n",
    "log1_array = log1.X\n",
    "\n",
    "umi2_array = umi2.X.todense()\n",
    "log2_array = log2.X\n",
    "\n",
    "umi_bias1_array = umi_bias1.X.todense()\n",
    "log_bias1_array = log_bias1.X\n",
    "\n",
    "umi_bias2_array = umi_bias2.X.todense()\n",
    "log_bias2_array = log_bias2.X\n",
    "\n",
    "# The headers were unified for ease of use later\n",
    "\n",
    "gene_dictionary = {gene_entry[0]:gene_entry[1] for gene_entry in headers[0]}\n",
    "umi_header = [gene_dictionary[ens] for ens in umi1.var_names]\n",
    "log_header = [gene_dictionary[ens] for ens in log1.var_names]\n",
    "print(umi_header)\n",
    "print(log_header)"
   ]
  },
  {
   "cell_type": "code",
   "execution_count": null,
   "metadata": {},
   "outputs": [],
   "source": [
    "sc.pp.neighbors(umi1)\n",
    "sc.pp.pca(umi1)\n",
    "sc.tl.umap(umi1)\n",
    "sc.tl.tsne(umi1)\n",
    "\n",
    "\n",
    "sc.pp.neighbors(log1)\n",
    "sc.pp.pca(log1)\n",
    "sc.tl.umap(log1)\n",
    "sc.tl.tsne(log1)\n",
    "\n",
    "import warnings\n",
    "with warnings.catch_warnings():\n",
    "    warnings.simplefilter(\"ignore\")\n",
    "    sc.tl.louvain(umi1,resolution=1)\n",
    "    sc.tl.louvain(log1,resolution=1)\n",
    "    \n",
    "sc.pl.umap(umi1,color='louvain')\n",
    "sc.pl.tsne(umi1,color='louvain')\n",
    "\n",
    "sc.pl.umap(log1,color='louvain')\n",
    "sc.pl.tsne(log1,color='louvain')"
   ]
  },
  {
   "cell_type": "code",
   "execution_count": null,
   "metadata": {},
   "outputs": [],
   "source": [
    "sc.pp.neighbors(umi2)\n",
    "sc.pp.pca(umi2)\n",
    "sc.tl.umap(umi2)\n",
    "sc.tl.tsne(umi2)\n",
    "\n",
    "\n",
    "sc.pp.neighbors(log2)\n",
    "sc.pp.pca(log2)\n",
    "sc.tl.umap(log2)\n",
    "sc.tl.tsne(log2)\n",
    "\n",
    "import warnings\n",
    "with warnings.catch_warnings():\n",
    "    warnings.simplefilter(\"ignore\")\n",
    "    sc.tl.louvain(umi2,resolution=1)\n",
    "    sc.tl.louvain(log2,resolution=1)\n",
    "    \n",
    "sc.pl.umap(umi2,color='louvain')\n",
    "sc.pl.tsne(umi2,color='louvain')\n",
    "\n",
    "sc.pl.umap(log2,color='louvain')\n",
    "sc.pl.tsne(log2,color='louvain')"
   ]
  },
  {
   "cell_type": "code",
   "execution_count": null,
   "metadata": {
    "scrolled": false
   },
   "outputs": [],
   "source": [
    "sc.pp.neighbors(umi_bias1)\n",
    "sc.pp.pca(umi_bias1)\n",
    "sc.tl.umap(umi_bias1)\n",
    "sc.tl.tsne(umi_bias1)\n",
    "\n",
    "\n",
    "sc.pp.neighbors(log_bias1)\n",
    "sc.pp.pca(log_bias1)\n",
    "sc.tl.umap(log_bias1)\n",
    "sc.tl.tsne(log_bias1)\n",
    "\n",
    "import warnings\n",
    "with warnings.catch_warnings():\n",
    "    warnings.simplefilter(\"ignore\")\n",
    "    sc.tl.louvain(umi_bias1,resolution=1)\n",
    "    sc.tl.louvain(log_bias1,resolution=1)\n",
    "    \n",
    "sc.pl.umap(umi_bias1,color='louvain')\n",
    "sc.pl.tsne(umi_bias1,color='louvain')\n",
    "\n",
    "sc.pl.umap(log_bias1,color='louvain')\n",
    "sc.pl.tsne(log_bias1,color='louvain')"
   ]
  },
  {
   "cell_type": "code",
   "execution_count": null,
   "metadata": {},
   "outputs": [],
   "source": [
    "sc.pp.neighbors(umi_bias2)\n",
    "sc.pp.pca(umi_bias2)\n",
    "sc.tl.umap(umi_bias2)\n",
    "sc.tl.tsne(umi_bias2)\n",
    "\n",
    "\n",
    "sc.pp.neighbors(log_bias2)\n",
    "sc.pp.pca(log_bias2)\n",
    "sc.tl.umap(log_bias2)\n",
    "sc.tl.tsne(log_bias2)\n",
    "\n",
    "import warnings\n",
    "with warnings.catch_warnings():\n",
    "    warnings.simplefilter(\"ignore\")\n",
    "    sc.tl.louvain(umi_bias2,resolution=1)\n",
    "    sc.tl.louvain(log_bias2,resolution=1)\n",
    "    \n",
    "sc.pl.umap(umi_bias2,color='louvain')\n",
    "sc.pl.tsne(umi_bias2,color='louvain')\n",
    "\n",
    "sc.pl.umap(log_bias2,color='louvain')\n",
    "sc.pl.tsne(log_bias2,color='louvain')"
   ]
  },
  {
   "cell_type": "code",
   "execution_count": null,
   "metadata": {},
   "outputs": [],
   "source": [
    "size_factor1 = np.array(np.sum(umi_bias1.X,axis=1)).ravel()\n",
    "scatter1 = log1.obsm['X_umap']\n",
    "scatter_bias1 = log_bias1.obsm['X_umap']\n",
    "# size_factor1\n",
    "\n",
    "plt.figure()\n",
    "plt.scatter(*scatter1.T,s=2,c=np.log(size_factor1))\n",
    "plt.colorbar(label=\"Log Size Factor (Total UMIs)\")\n",
    "plt.show()\n",
    "\n",
    "plt.figure()\n",
    "plt.scatter(*scatter_bias1.T,s=2,c=np.log(size_factor1))\n",
    "plt.colorbar(label=\"Log Size Factor (Total UMIs)\")\n",
    "plt.show()"
   ]
  },
  {
   "cell_type": "code",
   "execution_count": null,
   "metadata": {},
   "outputs": [],
   "source": [
    "size_factor2 = np.array(np.sum(umi_bias2.X,axis=1)).ravel()\n",
    "scatter2 = log2.obsm['X_umap']\n",
    "scatter_bias2 = log_bias2.obsm['X_umap']\n",
    "# size_factor1\n",
    "\n",
    "plt.figure()\n",
    "plt.scatter(*scatter2.T,s=2,c=np.log(size_factor2))\n",
    "plt.colorbar(label=\"Log Size Factor (Total UMIs)\")\n",
    "plt.show()\n",
    "\n",
    "plt.figure()\n",
    "plt.scatter(*scatter_bias2.T,s=2,c=np.log(size_factor2))\n",
    "plt.colorbar(label=\"Log Size Factor (Total UMIs)\")\n",
    "plt.show()"
   ]
  },
  {
   "cell_type": "markdown",
   "metadata": {},
   "source": [
    "# Forest Analysis"
   ]
  },
  {
   "cell_type": "code",
   "execution_count": null,
   "metadata": {},
   "outputs": [],
   "source": [
    "import sys\n",
    "sys.path.append('/project/johnston_retina/human/2_single_cell/HumanOrgData/rusty_forest_v3/src')\n",
    "# sys.path.append('../src')\n",
    "import tree_reader as tr \n",
    "import lumberjack"
   ]
  },
  {
   "cell_type": "code",
   "execution_count": null,
   "metadata": {},
   "outputs": [],
   "source": [
    "# forest1 = lumberjack.fit(\n",
    "#         log1_array,\n",
    "#         header=log_header,\n",
    "#         trees=100,\n",
    "#         braids=3,\n",
    "#         ifs=1000,\n",
    "#         ofs=1000,\n",
    "#         ss=200,\n",
    "#         depth=8,\n",
    "#         leaves=100,\n",
    "#         sfr=.5,\n",
    "#         norm=\"l2\"\n",
    "#     )\n",
    "\n",
    "forest1.set_cache(True)\n",
    "forest1.backup('control1_forest')"
   ]
  },
  {
   "cell_type": "code",
   "execution_count": null,
   "metadata": {},
   "outputs": [],
   "source": [
    "# forest2 = lumberjack.fit(\n",
    "#         log2_array,\n",
    "#         header=log_header,\n",
    "#         trees=100,\n",
    "#         braids=3,\n",
    "#         ifs=1000,\n",
    "#         ofs=1000,\n",
    "#         ss=200,\n",
    "#         depth=8,\n",
    "#         leaves=100,\n",
    "#         sfr=.5,\n",
    "#         norm=\"l2\"\n",
    "#     )\n",
    "\n",
    "forest2.set_cache(True)\n",
    "forest2.backup('control2_forest')"
   ]
  },
  {
   "cell_type": "code",
   "execution_count": null,
   "metadata": {},
   "outputs": [],
   "source": [
    "import sys\n",
    "sys.path.append('/project/johnston_retina/human/2_single_cell/HumanOrgData/rusty_forest_v3/src')\n",
    "# sys.path.append('../src')\n",
    "import tree_reader as tr \n",
    "import lumberjack\n",
    "\n",
    "forest1 = tr.Forest.reconstitute('control1_forest')\n",
    "forest2 = tr.Forest.reconstitute('control2_forest')"
   ]
  },
  {
   "cell_type": "code",
   "execution_count": null,
   "metadata": {},
   "outputs": [],
   "source": [
    "np.mean(forest.mean_matrix(forest.leaves()),axis=0).shape"
   ]
  },
  {
   "cell_type": "code",
   "execution_count": null,
   "metadata": {
    "scrolled": false
   },
   "outputs": [],
   "source": [
    "# forest1.reset_sample_clusters()\n",
    "forest2.reset_sample_clusters()\n",
    "\n",
    "# forest2.reset_leaf_clusters()\n",
    "# forest2.cluster_leaves_samples(metric='cos',pca=100,sub=.5,k=20)\n",
    "# forest.cluster_leaves_predictions(metric='cos',pca=100,sub=.5,k=20)\n",
    "# forest2.cluster_samples_leaf_cluster()\n",
    "\n",
    "# forest1.cluster_samples_encoding(metric='cosine',pca=100,sub=.5,k=20,depth=8)\n",
    "forest2.cluster_samples_encoding(metric='cosine',pca=100,sub=.5,k=20,depth=8)\n",
    "\n",
    "# forest.cluster_samples_simple(metric='cos',pca=100,sub=.5,k=20)"
   ]
  },
  {
   "cell_type": "code",
   "execution_count": null,
   "metadata": {
    "scrolled": false
   },
   "outputs": [],
   "source": [
    "# forest.tsne_coordinates=log_filtered.obsm['X_umap']\n",
    "forest1.tsne(pca=100)\n",
    "forest1.plot_sample_clusters()\n",
    "\n",
    "forest2.tsne(pca=100)\n",
    "forest2.plot_sample_clusters()"
   ]
  },
  {
   "cell_type": "code",
   "execution_count": null,
   "metadata": {},
   "outputs": [],
   "source": [
    "forest1.reset_split_clusters()\n",
    "forest1.interpret_splits(mode='additive_mean',relatives=True,depth=6,sub=.8,k=20,pca=100,metric='cos')\n",
    "\n",
    "forest2.reset_split_clusters()\n",
    "forest2.interpret_splits(mode='additive_mean',relatives=True,depth=6,sub=.8,k=20,pca=100,metric='cos')"
   ]
  },
  {
   "cell_type": "markdown",
   "metadata": {},
   "source": [
    "## Forest Representation Summaries\n",
    "\n"
   ]
  },
  {
   "cell_type": "code",
   "execution_count": null,
   "metadata": {
    "scrolled": true
   },
   "outputs": [],
   "source": [
    "f2_node_sample = forest2.node_sample_encoding(forest2.nodes(depth=5))\n",
    "f2_node_feature = forest2.node_representation(forest2.nodes(depth=5),mode='additive_mean')\n",
    "\n",
    "print(f2_node_sample.shape)\n",
    "print(f2_node_feature.shape)"
   ]
  },
  {
   "cell_type": "code",
   "execution_count": null,
   "metadata": {
    "scrolled": true
   },
   "outputs": [],
   "source": [
    "from sklearn.decomposition import PCA\n",
    "\n",
    "f2_ns_pca = PCA(n_components=100).fit_transform(f2_node_sample)\n",
    "f2_nf_pca = PCA(n_components=100).fit_transform(f2_node_feature)\n",
    "\n",
    "f2_ns_pca_t = PCA(n_components=100).fit_transform(f2_node_sample.T)\n",
    "f2_nf_pca_t = PCA(n_components=100).fit_transform(f2_node_feature.T)\n",
    "\n"
   ]
  },
  {
   "cell_type": "code",
   "execution_count": null,
   "metadata": {},
   "outputs": [],
   "source": [
    "from scipy.cluster.hierarchy import dendrogram,linkage\n",
    "\n",
    "node_sample_sort = dendrogram(linkage(f2_ns_pca_t,metric='cos',method='average'),no_plot=True)['leaves']\n",
    "node_feature_sort = dendrogram(linkage(f2_nf_pca,metric='cos',method='average'),no_plot=True)['leaves']\n",
    "\n",
    "print(\"Nodes Sorted\")\n",
    "\n",
    "sample_sort_node = dendrogram(linkage(f2_ns_pca,metric='cos',method='average'),no_plot=True)['leaves']\n",
    "feature_sort_node = dendrogram(linkage(f2_nf_pca_t,metric='cos',method='average'),no_plot=True)['leaves']"
   ]
  },
  {
   "cell_type": "code",
   "execution_count": null,
   "metadata": {
    "scrolled": false
   },
   "outputs": [],
   "source": [
    "plt.figure()\n",
    "plt.title(\"Membership of Samples in Nodes\")\n",
    "plt.xlabel(\"Nodes\")\n",
    "plt.ylabel(\"Samples\")\n",
    "plt.imshow(f2_node_sample[sample_sort_node].T[node_sample_sort].T,aspect='auto',cmap='binary')\n",
    "plt.colorbar(label=\"Sample in Node?\")\n",
    "plt.show()\n",
    "\n",
    "plt.figure()\n",
    "plt.title(\"Change in Feature Mean For Node\")\n",
    "plt.xlabel(\"Nodes\")\n",
    "plt.ylabel(\"Features\")\n",
    "plt.imshow(f2_node_feature[node_feature_sort].T[feature_sort_node],aspect='auto',cmap='seismic',vmin=-5,vmax=5)\n",
    "plt.colorbar(label=\"Change in Mean vs Parent\")\n",
    "plt.show()\n"
   ]
  },
  {
   "cell_type": "code",
   "execution_count": null,
   "metadata": {},
   "outputs": [],
   "source": [
    "# f2_leaf_sample = forest2.node_sample_encoding(forest2.leaves())\n",
    "# f2_ls_pca_t = PCA(n_components=100).fit_transform(f2_leaf_sample.T)\n",
    "\n",
    "# leaf_sort = dendrogram(linkage(f2_ls_pca_t,metric='cos',method='average'),no_plot=True)['leaves']\n",
    "# sample_sort = np.argsort(forest2.sample_labels)\n",
    "\n",
    "plt.figure()\n",
    "plt.axes([0,0,.7,1])\n",
    "plt.title(\"Sample Leaf Membership\")\n",
    "plt.imshow(f2_leaf_sample[sample_sort].T[leaf_sort].T,cmap='binary',interpolation='none',aspect='auto')\n",
    "plt.axes([.9,0,.1,1])\n",
    "plt.title(\"Cluster\")\n",
    "plt.imshow(np.array([forest2.sample_labels[sample_sort],]).T,cmap='rainbow',aspect='auto')\n",
    "plt.show()\n"
   ]
  },
  {
   "cell_type": "code",
   "execution_count": null,
   "metadata": {},
   "outputs": [],
   "source": [
    "\n"
   ]
  },
  {
   "cell_type": "markdown",
   "metadata": {},
   "source": [
    "# Calinski Evaluation"
   ]
  },
  {
   "cell_type": "code",
   "execution_count": null,
   "metadata": {
    "scrolled": false
   },
   "outputs": [],
   "source": [
    "from sklearn.metrics import calinski_harabasz_score,silhouette_score,silhouette_samples\n",
    "\n",
    "# print(calinski_harabasz_score(log_array,log_filtered.obs['louvain']))\n",
    "# print(calinski_harabasz_score(log_array,forest.sample_labels))\n",
    "\n",
    "# print(silhouette_score(log_array,log_filtered.obs['louvain'],metric='cosine'))\n",
    "# print(silhouette_score(log_array,forest.sample_labels,metric='cosine'))\n",
    "\n",
    "# louvain_silhouettes = silhouette_samples(log_array,log_filtered.obs['louvain'],metric='cosine')\n",
    "# forest_silhouettes = silhouette_samples(log_array,forest.sample_labels,metric='cosine')\n",
    "\n",
    "# plt.figure()\n",
    "# plt.scatter(*log_filtered.obsm['X_umap'].T,c=louvain_silhouettes,cmap='seismic',vmin=-.2,vmax=.2)\n",
    "# plt.colorbar()\n",
    "# plt.show\n",
    "\n",
    "# plt.figure()\n",
    "# plt.scatter(*log_filtered.obsm['X_umap'].T,c=forest_silhouettes,cmap='seismic',vmin=-.2,vmax=.2)\n",
    "# plt.colorbar()\n",
    "# plt.show\n",
    "\n",
    "# plt.figure()\n",
    "# plt.scatter(*log_filtered.obsm['X_umap'].T,c=prerequisite_factor,s=1)\n",
    "# plt.colorbar()\n",
    "# plt.show\n",
    "\n",
    "\n",
    "# plt.figure()\n",
    "# plt.scatter(*log_filtered.obsm['X_umap'].T,c=forest.split_clusters[2].sister_scores()>.05,s=1)\n",
    "# plt.colorbar()\n",
    "# plt.show\n",
    "\n",
    "# plt.figure()\n",
    "# plt.scatter(*forest1.tsne(pca=100).T,c=forest1.sample_labels,s=1,cmap='rainbow')\n",
    "# plt.colorbar()\n",
    "# plt.show()\n",
    "\n",
    "# plt.figure()\n",
    "# plt.scatter(*forest1.tsne(pca=100).T,c=f1_self_predictions,s=1,cmap='rainbow')\n",
    "# plt.colorbar()\n",
    "# plt.show()\n",
    "\n",
    "# plt.figure()\n",
    "# plt.scatter(*forest1.tsne(pca=100).T,c=f2_predictions,s=1,cmap='rainbow')\n",
    "# plt.colorbar()\n",
    "# plt.show()\n",
    "\n",
    "\n",
    "# plt.figure()\n",
    "# plt.scatter(*forest2.tsne(pca=100).T,c=forest2.sample_labels,s=1,cmap='rainbow')\n",
    "# plt.colorbar()\n",
    "# plt.show()\n",
    "\n",
    "# plt.figure()\n",
    "# plt.scatter(*forest2.tsne(pca=100).T,c=f2_self_predictions,s=1,cmap='rainbow')\n",
    "# plt.colorbar()\n",
    "# plt.show()\n",
    "\n",
    "# plt.figure()\n",
    "# plt.scatter(*forest2.tsne(pca=100).T,c=f1_predictions,s=1,cmap='rainbow')\n",
    "# plt.colorbar()\n",
    "# plt.show()\n",
    "\n",
    "\n",
    "# plt.figure()\n",
    "# plt.scatter(*forest1.tsne(pca=100).T,c=f2_predictions==7,s=1,cmap='rainbow')\n",
    "# plt.colorbar()\n",
    "# plt.show()\n",
    "\n",
    "\n",
    "\n",
    "# plt.figure()\n",
    "# plt.scatter(*forest2.tsne(pca=100).T,c=forest2.sample_labels == 5,s=1,cmap='rainbow')\n",
    "# plt.colorbar()\n",
    "# plt.show()\n",
    "\n",
    "\n",
    "\n"
   ]
  },
  {
   "cell_type": "code",
   "execution_count": null,
   "metadata": {},
   "outputs": [],
   "source": [
    "print(silhouette_score(forest2.output,f2_self_predictions,metric='cosine'))\n",
    "print(silhouette_score(forest2.output,forest2.sample_labels,metric='cosine'))\n",
    "print(silhouette_score(forest2.output,f1_predictions,metric='cosine'))\n",
    "print(silhouette_score(forest2.output,np.random.randint(0,15,forest2.output.shape[0]),metric='cosine'))\n",
    "print(silhouette_score(forest2.output,log2.obs['louvain'],metric='cosine'))"
   ]
  },
  {
   "cell_type": "code",
   "execution_count": null,
   "metadata": {
    "scrolled": true
   },
   "outputs": [],
   "source": [
    "print(silhouette_score(forest1.output,f1_self_predictions,metric='cosine'))\n",
    "print(silhouette_score(forest1.output,forest1.sample_labels,metric='cosine'))\n",
    "print(silhouette_score(forest1.output,f2_predictions,metric='cosine'))\n",
    "print(silhouette_score(forest1.output,np.random.randint(0,15,forest1.output.shape[0]),metric='cosine'))\n",
    "print(silhouette_score(forest1.output,log1.obs['louvain'],metric='cosine'))"
   ]
  },
  {
   "cell_type": "code",
   "execution_count": null,
   "metadata": {},
   "outputs": [],
   "source": [
    "c1_predictions = np.array([log1.obs['louvain'],forest1.sample_labels,f1_self_predictions,f2_predictions,np.random.randint(0,15,forest1.output.shape[0])])\n",
    "\n",
    "c1_labels =  [\"\",\"Louv\",\"Encd\",\"Self-Pred\",\"Other-Pred\",\"Rand\"]"
   ]
  },
  {
   "cell_type": "code",
   "execution_count": null,
   "metadata": {},
   "outputs": [],
   "source": [
    "\n",
    "c2_predictions = np.array([log2.obs['louvain'],forest2.sample_labels,f2_self_predictions,f1_predictions,np.random.randint(0,15,forest2.output.shape[0])])\n",
    "\n",
    "c2_labels = [\"\",\"Louv\",\"Encd\",\"Self-Pred\",\"Other-Pred\",\"Rand\"]"
   ]
  },
  {
   "cell_type": "code",
   "execution_count": null,
   "metadata": {
    "scrolled": false
   },
   "outputs": [],
   "source": [
    "# # len(f2_predictions)\n",
    "# from scipy.cluster.hierarchy import dendrogram,linkage\n",
    "\n",
    "f1_mask = np.logical_or(f2_predictions == 5, f2_predictions == 7)\n",
    "f1_sort = np.argsort(f2_predictions[f1_mask])\n",
    "f2_mask = np.logical_or(f2_self_predictions == 5, f2_self_predictions == 7)\n",
    "f2_sort = np.argsort(f2_self_predictions[f2_mask])\n",
    "\n",
    "# feature_sort = dendrogram(linkage(forest1.output.T[:4000],metric='cos',method='average'),no_plot=True)['leaves']\n",
    "\n",
    "f1_sub_selection = forest1.output[f1_mask][f1_sort]\n",
    "\n",
    "f2_sub_selection = forest2.output[f2_mask][f2_sort]\n",
    "\n",
    "plt.figure()\n",
    "plt.title(\"Control 1, Clusters 5/7\")\n",
    "plt.imshow(f1_sub_selection.T[feature_sort].T,aspect='auto',vmin=-1,vmax=3)\n",
    "plt.colorbar(label=\"Truncated Log Expression\")\n",
    "plt.show()\n",
    "\n",
    "plt.figure()\n",
    "plt.title(\"Control 1, Clusters 5/7, Resorted\")\n",
    "plt.imshow(forest1.output[f1_mask][f1_sample_agglomeration].T[feature_sort].T,aspect='auto',vmin=-1,vmax=3)\n",
    "plt.colorbar(label=\"Truncated Log Expression\")\n",
    "plt.show()\n",
    "\n",
    "plt.figure()\n",
    "plt.title(\"Control 2, Clusters 5/7\")\n",
    "plt.imshow(f2_sub_selection.T[feature_sort].T,aspect='auto',vmin=-1,vmax=3)\n",
    "plt.colorbar(label=\"Truncated Log Expression\")\n",
    "plt.show()\n",
    "\n"
   ]
  },
  {
   "cell_type": "code",
   "execution_count": null,
   "metadata": {
    "scrolled": false
   },
   "outputs": [],
   "source": [
    "# feature_sort = dendrogram(linkage(umi1.X.todense().T,metric='cos',method='average'),no_plot=True)['leaves']\n",
    "\n",
    "plt.figure()\n",
    "plt.title(\"Control 1, Own Clustering\")\n",
    "plt.imshow(forest1.output[np.argsort(forest1.sample_labels)].T[feature_sort].T,vmin=-1,vmax=3,aspect='auto')\n",
    "plt.colorbar(label=\"Truncated Log Expression\")\n",
    "plt.show()\n",
    "\n",
    "plt.figure()\n",
    "plt.title(\"Control 1, Cross Clustering\")\n",
    "plt.imshow(forest1.output[np.argsort(f2_predictions)].T[feature_sort].T,vmin=-1,vmax=3,aspect='auto')\n",
    "plt.colorbar(label=\"Truncated Log Expression\")\n",
    "plt.show()\n",
    "\n",
    "plt.figure()\n",
    "plt.title(\"Control 2, Own Clustering\")\n",
    "plt.imshow(forest2.output[np.argsort(forest2.sample_labels)].T[feature_sort].T,vmin=-1,vmax=3,aspect='auto')\n",
    "plt.colorbar(label=\"Truncated Log Expression\")\n",
    "plt.show()\n",
    "\n",
    "plt.figure()\n",
    "plt.title(\"Control 2, Cross Clustering\")\n",
    "plt.imshow(forest2.output[np.argsort(f1_predictions)].T[feature_sort].T,vmin=-1,vmax=3,aspect='auto')\n",
    "plt.colorbar(label=\"Truncated Log Expression\")\n",
    "plt.show()\n",
    "\n"
   ]
  },
  {
   "cell_type": "code",
   "execution_count": null,
   "metadata": {},
   "outputs": [],
   "source": [
    "mutual_information_matrix = np.zeros((5,5))\n",
    "\n",
    "for i,p1 in enumerate(c1_predictions):\n",
    "    for j,p2 in enumerate(c1_predictions):\n",
    "        mutual_information_matrix[i,j] = adjusted_mutual_info_score(p1,p2)\n",
    "\n",
    "plt.figure()\n",
    "plt.title(\"Adjusted Partition Mutual Information\")\n",
    "plt.imshow(mutual_information_matrix)\n",
    "ax1 = plt.gca()\n",
    "for (j,i),label in np.ndenumerate(np.round(mutual_information_matrix,3)):\n",
    "    ax1.text(i,j,label,ha='center',va='center')\n",
    "    ax1.text(i,j,label,ha='center',va='center')\n",
    "ax1.set_yticklabels(c1_labels)\n",
    "plt.colorbar()"
   ]
  },
  {
   "cell_type": "code",
   "execution_count": null,
   "metadata": {},
   "outputs": [],
   "source": [
    "mutual_information_matrix = np.zeros((5,5))\n",
    "\n",
    "for i,p1 in enumerate(c2_predictions):\n",
    "    for j,p2 in enumerate(c2_predictions):\n",
    "        mutual_information_matrix[i,j] = adjusted_mutual_info_score(p1,p2)\n",
    "\n",
    "plt.figure()\n",
    "plt.title(\"Adjusted Partition Mutual Information\")\n",
    "plt.imshow(mutual_information_matrix)\n",
    "ax1 = plt.gca()\n",
    "for (j,i),label in np.ndenumerate(np.round(mutual_information_matrix,3)):\n",
    "    ax1.text(i,j,label,ha='center',va='center')\n",
    "    ax1.text(i,j,label,ha='center',va='center')\n",
    "ax1.set_yticklabels(c2_labels)\n",
    "plt.colorbar()"
   ]
  },
  {
   "cell_type": "code",
   "execution_count": null,
   "metadata": {},
   "outputs": [],
   "source": []
  },
  {
   "cell_type": "code",
   "execution_count": null,
   "metadata": {},
   "outputs": [],
   "source": []
  },
  {
   "cell_type": "code",
   "execution_count": null,
   "metadata": {},
   "outputs": [],
   "source": []
  },
  {
   "cell_type": "code",
   "execution_count": null,
   "metadata": {},
   "outputs": [],
   "source": []
  },
  {
   "cell_type": "code",
   "execution_count": null,
   "metadata": {},
   "outputs": [],
   "source": []
  },
  {
   "cell_type": "code",
   "execution_count": null,
   "metadata": {},
   "outputs": [],
   "source": []
  },
  {
   "cell_type": "code",
   "execution_count": null,
   "metadata": {},
   "outputs": [],
   "source": [
    "# shuffled = tr.Forest.agglomerate_representation(weighted_adjacency)\n",
    "\n",
    "plt.figure()\n",
    "plt.imshow(shuffled)\n",
    "plt.show()"
   ]
  },
  {
   "cell_type": "code",
   "execution_count": null,
   "metadata": {},
   "outputs": [],
   "source": [
    "# leaf_shuffled = tr.Forest.agglomerate_representation(representation)\n",
    "sample_sort = dendrogram(linkage(representation,metric='cos',method='average'),no_plot=True)['leaves']\n",
    "leaf_sort = dendrogram(linkage(representation.T,metric='cos',method='average'),no_plot=True)['leaves']\n",
    "\n",
    "\n",
    "plt.figure()\n",
    "plt.imshow(representation[sample_sort].T[leaf_sort].T)\n",
    "plt.show()"
   ]
  },
  {
   "cell_type": "code",
   "execution_count": null,
   "metadata": {},
   "outputs": [],
   "source": [
    "from scipy.cluster.hierarchy import dendrogram,linkage\n",
    "\n",
    "plt.figure()\n",
    "plt.imshow(representation[np.argsort(forest.sample_labels)].T[leaf_sort].T)\n",
    "plt.show()\n",
    "\n",
    "plt.figure()\n",
    "plt.imshow(representation[np.argsort(log_filtered.obs['louvain'])].T[leaf_sort].T)\n",
    "plt.show()"
   ]
  },
  {
   "cell_type": "code",
   "execution_count": null,
   "metadata": {},
   "outputs": [],
   "source": [
    "from sklearn.neighbors import kneighbors_graph\n",
    "neighbors = kneighbors_graph(representation,10,metric='cosine')"
   ]
  },
  {
   "cell_type": "code",
   "execution_count": null,
   "metadata": {},
   "outputs": [],
   "source": []
  },
  {
   "cell_type": "code",
   "execution_count": null,
   "metadata": {},
   "outputs": [],
   "source": [
    "len(set(groups))"
   ]
  },
  {
   "cell_type": "code",
   "execution_count": null,
   "metadata": {},
   "outputs": [],
   "source": []
  },
  {
   "cell_type": "code",
   "execution_count": null,
   "metadata": {},
   "outputs": [],
   "source": []
  },
  {
   "cell_type": "code",
   "execution_count": null,
   "metadata": {},
   "outputs": [],
   "source": [
    "plt.figure()\n",
    "plt.scatter(forest.output[:,1004],forest.output[:,2510])\n",
    "plt.show()"
   ]
  },
  {
   "cell_type": "code",
   "execution_count": null,
   "metadata": {},
   "outputs": [],
   "source": []
  },
  {
   "cell_type": "code",
   "execution_count": null,
   "metadata": {},
   "outputs": [],
   "source": [
    "forest.split_clusters[2].changed_absolute_sister()"
   ]
  },
  {
   "cell_type": "code",
   "execution_count": null,
   "metadata": {
    "scrolled": false
   },
   "outputs": [],
   "source": [
    "plt.figure(figsize=(10,10))\n",
    "for i,gene1 in enumerate(candidate_genes): \n",
    "    for j,gene2 in enumerate(candidate_genes):\n",
    "        ii = log_header.index(gene1)\n",
    "        ji = log_header.index(gene2)\n",
    "        \n",
    "        plt.subplot(7,7,(i*7)+(j+1))\n",
    "        plt.scatter(forest.output[:,ii],forest.output[:,ji],s=1)\n",
    "plt.show()\n",
    "    "
   ]
  },
  {
   "cell_type": "code",
   "execution_count": null,
   "metadata": {
    "scrolled": false
   },
   "outputs": [],
   "source": []
  },
  {
   "cell_type": "code",
   "execution_count": null,
   "metadata": {},
   "outputs": [],
   "source": [
    "subselection1 = forest.output.T[candidate_indices].T\n",
    "np.corrcoef(subselection1.T)"
   ]
  },
  {
   "cell_type": "code",
   "execution_count": null,
   "metadata": {},
   "outputs": [],
   "source": [
    "subselection2 = forest.output[forest.split_clusters[2].sister_scores() > 0.05].T[candidate_indices].T\n",
    "subselection2.shape\n",
    "np.corrcoef(subselection2.T)"
   ]
  },
  {
   "cell_type": "code",
   "execution_count": null,
   "metadata": {},
   "outputs": [],
   "source": [
    "plt.figure()\n",
    "plt.imshow(np.corrcoef(subselection1.T) - np.corrcoef(subselection2.T),cmap='bwr')\n",
    "plt.colorbar()\n",
    "plt.show()"
   ]
  },
  {
   "cell_type": "code",
   "execution_count": null,
   "metadata": {},
   "outputs": [],
   "source": [
    "forest.split_clusters[2].html_cluster_summary()"
   ]
  },
  {
   "cell_type": "code",
   "execution_count": null,
   "metadata": {},
   "outputs": [],
   "source": [
    "plt.figure(figsize=(10,10))\n",
    "for i,gene1 in enumerate(candidate_genes): \n",
    "    for j,gene2 in enumerate(candidate_genes):\n",
    "        ii = log_header.index(gene1)\n",
    "        ji = log_header.index(gene2)\n",
    "        \n",
    "        plt.subplot(7,7,(i*7)+(j+1))\n",
    "        plt.scatter(forest.output[:,ii][forest.split_clusters[2].sister_scores() > 0.05],forest.output[:,ji][forest.split_clusters[2].sister_scores() > 0.05],s=1)\n",
    "plt.show()\n",
    "    "
   ]
  },
  {
   "cell_type": "code",
   "execution_count": null,
   "metadata": {},
   "outputs": [],
   "source": [
    "len(log_header)"
   ]
  },
  {
   "cell_type": "code",
   "execution_count": null,
   "metadata": {},
   "outputs": [],
   "source": [
    "forest.output_features"
   ]
  },
  {
   "cell_type": "code",
   "execution_count": null,
   "metadata": {},
   "outputs": [],
   "source": [
    "difference = np.mean(forest.mean_matrix(forest.split_clusters[2].nodes),axis=0) - np.mean(forest.mean_matrix([n.sister() for n in forest.split_clusters[2].nodes]),axis=0)\n",
    "ratio = np.log(np.mean(forest.mean_matrix(forest.split_clusters[2].nodes),axis=0) / np.mean(forest.mean_matrix([n.sister() for n in forest.split_clusters[2].nodes]),axis=0))\n"
   ]
  },
  {
   "cell_type": "code",
   "execution_count": null,
   "metadata": {},
   "outputs": [],
   "source": [
    "# np.sum(np.isfinite(ratio))\n",
    "# mask = np.isfinite(ratio)\n",
    "# forest.output_features[mask]\n",
    "# ratio[mask]\n",
    "# difference_sort = np.argsort(difference)\n",
    "# ratio_sort = np.argsort(ratio[mask])\n",
    "forest.output_features[mask][ratio_sort]\n",
    "# ratio[mask][ratio_sort]"
   ]
  },
  {
   "cell_type": "code",
   "execution_count": null,
   "metadata": {},
   "outputs": [],
   "source": [
    "forest.output_features[difference_sort][-10:]"
   ]
  },
  {
   "cell_type": "code",
   "execution_count": null,
   "metadata": {},
   "outputs": [],
   "source": [
    "list(forest.output_features).index(\"CALR\")"
   ]
  },
  {
   "cell_type": "code",
   "execution_count": null,
   "metadata": {},
   "outputs": [],
   "source": [
    "forest.split_clusters[2].changed_absolute_sister()"
   ]
  },
  {
   "cell_type": "code",
   "execution_count": null,
   "metadata": {},
   "outputs": [],
   "source": [
    "feature_clusters = forest.cluster_features(sub=.8,k=20,depth=6,pca=100)"
   ]
  },
  {
   "cell_type": "code",
   "execution_count": null,
   "metadata": {},
   "outputs": [],
   "source": [
    "plt.figure()\n",
    "plt.imshow(forest.output[np.argsort(forest.sample_labels)].T[np.argsort(feature_clusters)].T,aspect='auto')\n",
    "plt.colorbar()\n",
    "plt.show()"
   ]
  },
  {
   "cell_type": "code",
   "execution_count": null,
   "metadata": {},
   "outputs": [],
   "source": [
    "forest.output.shape"
   ]
  },
  {
   "cell_type": "code",
   "execution_count": null,
   "metadata": {},
   "outputs": [],
   "source": [
    "feature_clusters.shape"
   ]
  },
  {
   "cell_type": "markdown",
   "metadata": {},
   "source": [
    "## Sample Cross Training"
   ]
  },
  {
   "cell_type": "code",
   "execution_count": null,
   "metadata": {},
   "outputs": [],
   "source": [
    "f1_self_predictions = forest1.predict_matrix_clusters(forest1.input)"
   ]
  },
  {
   "cell_type": "code",
   "execution_count": null,
   "metadata": {},
   "outputs": [],
   "source": [
    "f2_self_predictions = forest2.predict_matrix_clusters(forest2.input)"
   ]
  },
  {
   "cell_type": "code",
   "execution_count": null,
   "metadata": {},
   "outputs": [],
   "source": [
    "f1_predictions = forest1.predict_matrix_clusters(forest2.input)\n",
    "f2_predictions = forest2.predict_matrix_clusters(forest1.input)"
   ]
  },
  {
   "cell_type": "code",
   "execution_count": null,
   "metadata": {},
   "outputs": [],
   "source": [
    "print(len(f2_predictions))\n",
    "print(len(forest1.samples))"
   ]
  },
  {
   "cell_type": "code",
   "execution_count": null,
   "metadata": {},
   "outputs": [],
   "source": [
    "from sklearn.metrics import adjusted_mutual_info_score\n",
    "\n",
    "# print(adjusted_mutual_info_score(forest1.sample_labels,f1_self_predictions))\n",
    "# print(adjusted_mutual_info_score(forest2.sample_labels,f2_self_predictions))\n",
    "\n",
    "print(adjusted_mutual_info_score(forest2.sample_labels,f1_predictions))\n",
    "print(adjusted_mutual_info_score(forest1.sample_labels,f2_predictions))"
   ]
  },
  {
   "cell_type": "code",
   "execution_count": null,
   "metadata": {
    "scrolled": false
   },
   "outputs": [],
   "source": [
    "# tsne = forest1.tsne(pca=100)\n",
    "# plt.figure()\n",
    "# plt.scatter(*tsne.T,c=f1_predictions,s=1,cmap='rainbow')\n",
    "# plt.show()\n",
    "# plt.figure()\n",
    "# plt.scatter(*tsne.T,c=forest1.sample_labels,s=1,cmap='rainbow')\n",
    "# plt.show()\n",
    "\n",
    "tsne = forest2.tsne(pca=100)\n",
    "plt.figure()\n",
    "plt.scatter(*tsne.T,c=f2_predictions,s=1,cmap='rainbow')\n",
    "plt.show()\n",
    "plt.figure()\n",
    "plt.scatter(*tsne.T,c=forest2.sample_labels,s=1,cmap='rainbow')\n",
    "plt.show()"
   ]
  },
  {
   "cell_type": "code",
   "execution_count": null,
   "metadata": {},
   "outputs": [],
   "source": [
    "encoding = forest1.node_sample_encoding(forest1.leaves())\n",
    "for i,sample in enumerate(forest1.input):\n",
    "    predicted = forest1.predict_node_sample_encoding(np.array([sample,]))\n",
    "    print(predicted.shape)\n",
    "#     print(np.corrcoef(encoding[i],predicted[0]))[0,1]\n",
    "    "
   ]
  },
  {
   "cell_type": "code",
   "execution_count": null,
   "metadata": {},
   "outputs": [],
   "source": [
    "np.corrcoef(forest1.sample_labels,f1_predictions)"
   ]
  },
  {
   "cell_type": "code",
   "execution_count": null,
   "metadata": {},
   "outputs": [],
   "source": [
    "forest1.test_self_predictions()"
   ]
  },
  {
   "cell_type": "code",
   "execution_count": null,
   "metadata": {},
   "outputs": [],
   "source": [
    "list(f1_predictions)"
   ]
  },
  {
   "cell_type": "code",
   "execution_count": null,
   "metadata": {},
   "outputs": [],
   "source": [
    "list(forest1.sample_labels)"
   ]
  },
  {
   "cell_type": "markdown",
   "metadata": {},
   "source": [
    "## Factor Cross-Training"
   ]
  },
  {
   "cell_type": "code",
   "execution_count": null,
   "metadata": {},
   "outputs": [],
   "source": [
    "f1_factors = forest1.factor_matrix()\n",
    "f2_factors = forest2.factor_matrix()\n",
    "\n",
    "print(f1_factors.shape)\n",
    "print(f2_factors.shape)"
   ]
  },
  {
   "cell_type": "code",
   "execution_count": null,
   "metadata": {
    "scrolled": false
   },
   "outputs": [],
   "source": [
    "from scipy.cluster.hierarchy import dendrogram,linkage\n",
    "\n",
    "f1_f_sort = dendrogram(linkage(f1_factors.T,metric='cos',method='average'),no_plot=True)['leaves']\n",
    "f2_f_sort = dendrogram(linkage(f2_factors.T,metric='cos',method='average'),no_plot=True)['leaves']\n",
    "\n",
    "# plt.figure()\n",
    "# plt.imshow(np.corrcoef(f1_factors[f1_f_sort].T[f1_f_sort]))\n",
    "# plt.show()\n",
    "\n",
    "# plt.figure()\n",
    "# plt.imshow(np.corrcoef(f2_factors[f2_f_sort].T[f2_f_sort]))\n",
    "# plt.show()\n",
    "\n"
   ]
  },
  {
   "cell_type": "code",
   "execution_count": null,
   "metadata": {},
   "outputs": [],
   "source": [
    "print(f1_factors.shape)\n",
    "print(f1_factor_prediction.shape)"
   ]
  },
  {
   "cell_type": "code",
   "execution_count": null,
   "metadata": {},
   "outputs": [],
   "source": [
    "f1_factor_prediction = forest2.predict_factor_matrix(forest1.input)\n",
    "f1_factor_prediction.shape\n",
    "\n",
    "# f2_factor_self_prediction = forest2.predict_factor_matrix(forest2.input)\n",
    "# f2_factor_self_prediction.shape"
   ]
  },
  {
   "cell_type": "code",
   "execution_count": null,
   "metadata": {},
   "outputs": [],
   "source": [
    "from matplotlib.colors import DivergingNorm\n",
    "\n",
    "from scipy.spatial.distance import cdist,squareform\n",
    "\n",
    "correlations = cdist(f1_factors.T,f1_factor_prediction.T,metric='correlation') - 1\n",
    "\n",
    "plt.figure()\n",
    "plt.title(\"Correlations of Factor Predictions For Control 1\")\n",
    "plt.imshow(correlations[f1_f_sort].T[f2_f_sort].T,cmap='bwr',interpolation='none')\n",
    "plt.xlabel(\"Control 2 Factors\")\n",
    "plt.ylabel(\"Own Factors\")\n",
    "plt.colorbar(label=\"Correlation\")\n",
    "plt.show()\n"
   ]
  },
  {
   "cell_type": "code",
   "execution_count": null,
   "metadata": {},
   "outputs": [],
   "source": [
    "from matplotlib.colors import DivergingNorm\n",
    "\n",
    "f1_sort = np.argsort(forest1.sample_labels)\n",
    "\n",
    "plt.figure()\n",
    "plt.title(\"Factors Learned From Control 1\")\n",
    "plt.imshow(f1_factors[f1_sort].T[f1_f_sort].T,aspect='auto',cmap='bwr',norm=DivergingNorm(0),interpolation='none')\n",
    "plt.colorbar(label=\"Factor Value (-1 to 1, arbitrary)\")\n",
    "plt.xlabel(\"Factors\")\n",
    "plt.ylabel(\"Cells\")\n",
    "plt.show()\n",
    "\n",
    "plt.figure()\n",
    "plt.title(\"Factors Learned From Control 2, Projected onto Control 1\")\n",
    "plt.imshow(f1_factor_prediction[f1_sort].T[f2_f_sort].T,aspect='auto',cmap='bwr',norm=DivergingNorm(0),interpolation='none')\n",
    "plt.colorbar(label=\"Factor Value (-1 to 1, arbitrary)\")\n",
    "plt.xlabel(\"Factors\")\n",
    "plt.ylabel(\"Cells\")\n",
    "plt.show()\n"
   ]
  },
  {
   "cell_type": "code",
   "execution_count": null,
   "metadata": {
    "scrolled": false
   },
   "outputs": [],
   "source": [
    "from matplotlib.colors import DivergingNorm\n",
    "\n",
    "for factor in f1_factor_prediction.T:\n",
    "    plt.figure()\n",
    "    plt.scatter(*forest1.coordinates(no_plot=True).T,c=factor,cmap='bwr',norm=DivergingNorm(0))\n",
    "    plt.colorbar()\n",
    "    plt.show()"
   ]
  },
  {
   "cell_type": "markdown",
   "metadata": {},
   "source": [
    "## FACTOR EXTRACTION"
   ]
  },
  {
   "cell_type": "code",
   "execution_count": null,
   "metadata": {},
   "outputs": [],
   "source": [
    "from scipy.cluster.hierarchy import dendrogram,linkage\n",
    "\n",
    "# feature_sort = dendrogram(linkage(forest2.output.T,metric='correlation',method='average'),no_plot=True)['leaves']\n",
    "# sample_sort = dendrogram(linkage(forest2.output,metric='cos',method='average'),no_plot=True)['leaves']\n",
    "\n",
    "plt.figure()\n",
    "plt.imshow(forest2.output[sample_sort].T[feature_sort].T,aspect='auto',interpolation='none',vmin=-1,vmax=3)\n",
    "plt.colorbar()\n",
    "plt.show()"
   ]
  },
  {
   "cell_type": "code",
   "execution_count": null,
   "metadata": {
    "scrolled": true
   },
   "outputs": [],
   "source": [
    "correlations = np.corrcoef(forest2.output.T)\n",
    "correlations = correlations[feature_sort].T[feature_sort]\n",
    "\n",
    "\n",
    "\n",
    "plt.figure()\n",
    "plt.title(\"Correlations of Features In Johnston Controls\")\n",
    "plt.imshow(correlations,cmap='seismic',vmin=-1,vmax=1,interpolation='none')\n",
    "plt.colorbar()\n",
    "plt.show()\n"
   ]
  },
  {
   "cell_type": "code",
   "execution_count": null,
   "metadata": {
    "scrolled": false
   },
   "outputs": [],
   "source": [
    "for cluster in forest2.split_clusters[15:17]:\n",
    "    factor = cluster.sister_scores()\n",
    "    factor_correlations = np.corrcoef(forest2.output.T,factor)[-1,:-1]\n",
    "    plt.figure()\n",
    "    plt.axes([0,0,.7,1])\n",
    "    plt.title(\"Global Correlations\")\n",
    "    plt.imshow(correlations,cmap='seismic',aspect='auto',vmin=-1,vmax=1)\n",
    "    plt.axes([.9,0,.1,1])\n",
    "    plt.title(f\"Cluster {cluster.id}\")\n",
    "    plt.ylabel(\"Correlations of Cluster Sister Scores to Features\")\n",
    "    plt.imshow(np.array([factor_correlations[feature_sort],]).T,cmap='seismic',aspect='auto',vmin=-1,vmax=1)\n",
    "    plt.show()"
   ]
  },
  {
   "cell_type": "code",
   "execution_count": null,
   "metadata": {},
   "outputs": [],
   "source": [
    "from sklearn.decomposition import PCA\n",
    "\n",
    "pcs = PCA(n_components=10).fit_transform(forest2.output)\n",
    "factor_16 = forest2.split_clusters[16].sister_scores()\n",
    "\n",
    "pc_16_correlations = np.corrcoef(pcs.T,factor_16)\n",
    "\n",
    "print(pc_16_correlations[10])\n",
    "\n",
    "# plt.figure()\n",
    "# plt.scatter(pcs[:,0],factor_16,s=2)\n",
    "# plt.xlabel(\"PC1\")\n",
    "# plt.ylabel(\"Factor 16\")\n",
    "# plt.plot()\n",
    "# plt.show()\n",
    "\n",
    "# from sklearn.linear_model import LinearRegression\n",
    "# regr = LinearRegression()\n",
    "# regr.fit(pcs[:,0].reshape(-1, 1), factor_16)\n",
    "\n",
    "# pred = regr.predict(pcs[:,0].reshape(-1, 1))\n",
    "\n",
    "# print('Coefficients: \\n', regr.coef_)\n",
    "# # print('Coefficient of determination: %.2f'\n",
    "# #       % r2_score(diabetes_y_test, diabetes_y_pred))\n",
    "\n",
    "# plt.figure()\n",
    "# plt.title(\"PC1 vs Factor 16\")\n",
    "# plt.scatter(pcs[:,0],factor_16,s=2)\n",
    "# plt.plot(pcs[:,0],pred,color='r',label=\"Linear Fit\")\n",
    "# plt.legend()\n",
    "# plt.xlabel(\"PC1\")\n",
    "# plt.ylabel(\"Factor 16\")\n",
    "# plt.plot()\n",
    "# plt.show()"
   ]
  },
  {
   "cell_type": "code",
   "execution_count": null,
   "metadata": {
    "scrolled": false
   },
   "outputs": [],
   "source": [
    "from sklearn.decomposition import PCA\n",
    "\n",
    "pcs = PCA(n_components=10).fit_transform(forest2.output)\n",
    "factor_20 = forest2.split_clusters[20].sister_scores()\n",
    "\n",
    "pc_20_correlations = np.corrcoef(pcs.T,factor_20)\n",
    "pc_20_correlations.shape\n",
    "\n",
    "# print(pc_20_correlations[8:])\n",
    "\n",
    "plt.figure()\n",
    "plt.title(\"Corrrelations of Factor 20 to PCs\")\n",
    "plt.bar(np.arange(10),pc_20_correlations[10,:10])\n",
    "plt.xlabel(\"PCs\")\n",
    "plt.ylabel(\"Correlation to Factor 20\")\n",
    "plt.gca().set_xticks(np.arange(11))\n",
    "plt.gca().set_xticklabels(np.arange(1,10))\n",
    "plt.plot()\n",
    "plt.show()\n",
    "\n",
    "from sklearn.linear_model import LinearRegression\n",
    "regr = LinearRegression()\n",
    "regr.fit(pcs[:,3].reshape(-1, 1), factor_20)\n",
    "\n",
    "pred = regr.predict(pcs[:,3].reshape(-1, 1))\n",
    "\n",
    "print('Coefficients: \\n', regr.coef_)\n",
    "# print('Coefficient of determination: %.2f'\n",
    "#       % r2_score(diabetes_y_test, diabetes_y_pred))\n",
    "\n",
    "plt.figure()\n",
    "plt.title(\"PC4 vs Factor 20\")\n",
    "plt.scatter(pcs[:,3],factor_16,s=2)\n",
    "plt.plot(pcs[:,3],pred,color='r',label=\"Linear Fit\")\n",
    "plt.legend()\n",
    "plt.xlabel(\"PC4\")\n",
    "plt.ylabel(\"Factor 20\")\n",
    "plt.plot()\n",
    "plt.show()"
   ]
  },
  {
   "cell_type": "code",
   "execution_count": null,
   "metadata": {
    "scrolled": true
   },
   "outputs": [],
   "source": [
    "# sister_correlation_matrix = np.zeros((len(forest2.split_clusters),len(forest2.output_features)))\n",
    "\n",
    "# for i,cluster in enumerate(forest2.split_clusters):\n",
    "#     factor = cluster.sister_scores()\n",
    "#     factor_correlations = np.corrcoef(forest2.output.T,factor)[-1,:-1]\n",
    "#     sister_correlation_matrix[i] = factor_correlations\n",
    "    \n",
    "plt.figure(figsize=(6,4))\n",
    "plt.axes([0,0,.7,1])\n",
    "plt.title(\"Johnston Control 2, Feature Correlations\")\n",
    "plt.imshow(correlations,cmap='seismic',aspect='auto',vmin=-1,vmax=1)\n",
    "plt.axes([.8,0,.2,1])\n",
    "plt.title(\"Extracted Factors\")\n",
    "plt.imshow(sister_correlation_matrix.T[feature_sort],interpolation='none',cmap='seismic',aspect='auto',vmin=-1,vmax=1)\n",
    "plt.show()"
   ]
  },
  {
   "cell_type": "code",
   "execution_count": null,
   "metadata": {},
   "outputs": [],
   "source": [
    "factor_matrix = np.zeros((forest2.output.shape[0],len(forest2.split_clusters)))\n",
    "\n",
    "for i,cluster in enumerate(forest2.split_clusters):\n",
    "    factor_matrix[:,i] = cluster.sister_scores()"
   ]
  },
  {
   "cell_type": "code",
   "execution_count": null,
   "metadata": {},
   "outputs": [],
   "source": [
    "plt.figure()\n",
    "plt.imshow(factor_matrix[sample_sort],cmap='seismic',vmin=-1,vmax=1,interpolation='none',aspect='auto')\n",
    "plt.show()"
   ]
  },
  {
   "cell_type": "code",
   "execution_count": null,
   "metadata": {},
   "outputs": [],
   "source": [
    "plt.figure()\n",
    "plt.imshow(factor_matrix[np.argsort(forest2.sample_labels)],cmap='seismic',vmin=-1,vmax=1,interpolation='none',aspect='auto')\n",
    "plt.show()"
   ]
  },
  {
   "cell_type": "code",
   "execution_count": null,
   "metadata": {},
   "outputs": [],
   "source": [
    "plt.figure()\n",
    "plt.imshow(factor_matrix[np.argsort(f2_self_predictions)],cmap='seismic',vmin=-1,vmax=1,interpolation='none',aspect='auto')\n",
    "plt.show()"
   ]
  },
  {
   "cell_type": "code",
   "execution_count": null,
   "metadata": {},
   "outputs": [],
   "source": [
    "factor_sort = dendrogram(linkage(factor_matrix.T,metric='cos',method='average'),no_plot=True)['leaves']"
   ]
  },
  {
   "cell_type": "code",
   "execution_count": null,
   "metadata": {},
   "outputs": [],
   "source": [
    "plt.figure()\n",
    "plt.title(\"Johnston Control 2, Factor Values\")\n",
    "plt.imshow(factor_matrix[np.argsort(f2_self_predictions)].T[factor_sort].T,cmap='seismic',vmin=-1,vmax=1,interpolation='none',aspect='auto')\n",
    "plt.gca().set_xticks(np.arange(36))\n",
    "plt.gca().set_xticklabels(np.arange(36)[factor_sort],rotation=90)\n",
    "plt.xlabel(\"Factors\")\n",
    "plt.ylabel(\"Cells\")\n",
    "plt.show()"
   ]
  },
  {
   "cell_type": "code",
   "execution_count": null,
   "metadata": {},
   "outputs": [],
   "source": []
  },
  {
   "cell_type": "code",
   "execution_count": null,
   "metadata": {},
   "outputs": [],
   "source": [
    "print(f\"ARR3:{list(forest2.output_features).index('ARR3')}\")\n",
    "print(f\"DDIT3:{list(forest2.output_features).index('DDIT3')}\")\n",
    "print(f\"PIK3R1:{}\")\n",
    "print(f\"CKB:{list(forest2.output_features).index('CKB')}\")\n"
   ]
  },
  {
   "cell_type": "code",
   "execution_count": null,
   "metadata": {
    "scrolled": false
   },
   "outputs": [],
   "source": [
    "mask = forest2.split_clusters[16].sister_scores() > 0\n",
    "indices = [1711,2546,1112,2882]\n",
    "genes = [\"ARR3\",\"DDIT3\",\"PIK3R1\",\"CKB\"]\n",
    "\n",
    "selection = forest2.output[:,indices]\n",
    "subselection = forest2.output[mask][:,indices]\n",
    "\n",
    "print(np.corrcoef(selection.T))\n",
    "print(np.corrcoef(subselection.T))\n",
    "\n",
    "plt.figure(figsize=(3,3))\n",
    "plt.title(\"Feature Correlations Globally\")\n",
    "plt.imshow(np.corrcoef(selection.T),cmap='bwr',vmin=-.5,vmax=.5)\n",
    "for (j,i),label in np.ndenumerate(np.round(np.corrcoef(selection.T),3)):\n",
    "    plt.gca().text(i,j,label,ha='center',va='center')\n",
    "    plt.gca().text(i,j,label,ha='center',va='center')\n",
    "plt.gca().set_yticks(np.arange(4))\n",
    "plt.gca().set_yticklabels(genes)\n",
    "plt.gca().set_xticks(np.arange(4))\n",
    "plt.gca().set_xticklabels(genes)\n",
    "plt.show()\n",
    "\n",
    "plt.figure(figsize=(3,3))\n",
    "plt.title(\"Feature Correlations Locally\")\n",
    "plt.imshow(np.corrcoef(subselection.T),cmap='bwr',vmin=-.5,vmax=.5)\n",
    "for (j,i),label in np.ndenumerate(np.round(np.corrcoef(subselection.T),3)):\n",
    "    plt.gca().text(i,j,label,ha='center',va='center')\n",
    "    plt.gca().text(i,j,label,ha='center',va='center')\n",
    "plt.gca().set_yticks(np.arange(4))\n",
    "plt.gca().set_yticklabels(genes)\n",
    "plt.gca().set_xticks(np.arange(4))\n",
    "plt.gca().set_xticklabels(genes)\n",
    "plt.show()\n"
   ]
  },
  {
   "cell_type": "code",
   "execution_count": null,
   "metadata": {},
   "outputs": [],
   "source": [
    "# fuzz = np.random.random(size=(forest2.output.shape[0]))\n",
    "\n",
    "# plt.figure()\n",
    "# plt.scatter(forest2.output[:,1711]+fuzz,forest2.output[:,1112]+fuzz,s=2,alpha=.5)\n",
    "# plt.show()\n",
    "\n",
    "# plt.figure()\n",
    "# plt.scatter((forest2.output[:,1711]+fuzz)[mask],(forest2.output[:,1112] + fuzz)[mask],s=2,alpha=.5)\n",
    "# plt.show()"
   ]
  },
  {
   "cell_type": "code",
   "execution_count": null,
   "metadata": {
    "scrolled": false
   },
   "outputs": [],
   "source": [
    "mask = forest2.split_clusters[16].sister_scores() > 0\n",
    "genes = [\"ARR3\",\"MYL4\",\"GNGT1\",\"NRL\"]\n",
    "indices = [list(forest2.output_features).index(gene) for gene in genes]\n",
    "\n",
    "selection = forest2.output[:,indices]\n",
    "subselection = forest2.output[mask][:,indices]\n",
    "\n",
    "print(np.corrcoef(selection.T))\n",
    "print(np.corrcoef(subselection.T))\n",
    "\n",
    "plt.figure(figsize=(3,3))\n",
    "plt.title(\"Feature Correlations Globally\")\n",
    "plt.imshow(np.corrcoef(selection.T),cmap='bwr',vmin=-1,vmax=1)\n",
    "for (j,i),label in np.ndenumerate(np.round(np.corrcoef(selection.T),3)):\n",
    "    plt.gca().text(i,j,label,ha='center',va='center')\n",
    "    plt.gca().text(i,j,label,ha='center',va='center')\n",
    "plt.gca().set_yticks(np.arange(4))\n",
    "plt.gca().set_yticklabels(genes)\n",
    "plt.gca().set_xticks(np.arange(4))\n",
    "plt.gca().set_xticklabels(genes)\n",
    "plt.show()\n",
    "\n",
    "plt.figure(figsize=(3,3))\n",
    "plt.title(\"Feature Correlations Locally\")\n",
    "plt.imshow(np.corrcoef(subselection.T),cmap='bwr',vmin=-1,vmax=1)\n",
    "for (j,i),label in np.ndenumerate(np.round(np.corrcoef(subselection.T),3)):\n",
    "    plt.gca().text(i,j,label,ha='center',va='center')\n",
    "    plt.gca().text(i,j,label,ha='center',va='center')\n",
    "plt.gca().set_yticks(np.arange(4))\n",
    "plt.gca().set_yticklabels(genes)\n",
    "plt.gca().set_xticks(np.arange(4))\n",
    "plt.gca().set_xticklabels(genes)\n",
    "plt.show()"
   ]
  },
  {
   "cell_type": "code",
   "execution_count": null,
   "metadata": {},
   "outputs": [],
   "source": [
    "print(np.corrcoef(pcs.T,forest2.output[:,1711])[10])\n",
    "print(np.corrcoef(factor_20,forest2.output[:,1711]))"
   ]
  },
  {
   "cell_type": "code",
   "execution_count": null,
   "metadata": {},
   "outputs": [],
   "source": [
    "# representation = forest2.node_representation(forest2.nodes(),mode='additive_mean')\n",
    "\n",
    "# in_factor_correlations = np.corrcoef(representation.T)\n",
    "# in_factor_sort = dendrogram(linkage(in_factor_correlations,metric='cos',method='average'),no_plot=True)['leaves']\n",
    "\n",
    "unsorted_correlations = np.corrcoef(forest2.output.T)\n",
    "unsorted_correlations.shape\n",
    "\n",
    "correlation_difference = in_factor_correlations - unsorted_correlations\n"
   ]
  },
  {
   "cell_type": "code",
   "execution_count": null,
   "metadata": {},
   "outputs": [],
   "source": []
  },
  {
   "cell_type": "code",
   "execution_count": null,
   "metadata": {
    "scrolled": true
   },
   "outputs": [],
   "source": [
    "plt.figure()\n",
    "plt.title(\"Correlations of Feature Gains Per Node\")\n",
    "plt.imshow(in_factor_correlations[feature_sort].T[feature_sort],cmap='seismic',vmin=-1,vmax=1)\n",
    "plt.show()\n",
    "\n",
    "plt.figure()\n",
    "plt.title(\"Correlations of Feature Gains Per Node\")\n",
    "plt.imshow(in_factor_correlations[in_factor_sort].T[in_factor_sort],cmap='seismic',vmin=-1,vmax=1)\n",
    "plt.show()"
   ]
  },
  {
   "cell_type": "code",
   "execution_count": null,
   "metadata": {},
   "outputs": [],
   "source": [
    "\n",
    "# plt.figure()\n",
    "# plt.imshow(correlation_difference[feature_sort].T[feature_sort],cmap='seismic',vmin=-1,vmax=1)\n",
    "# plt.colorbar()\n",
    "# plt.show()\n",
    "\n",
    "plt.figure()\n",
    "plt.title(\"Feature Locality (Node Correlation - Global Correlation)\")\n",
    "plt.imshow(correlation_difference[in_factor_sort].T[in_factor_sort],cmap='seismic',vmin=-1,vmax=1)\n",
    "plt.show()\n"
   ]
  },
  {
   "cell_type": "code",
   "execution_count": null,
   "metadata": {},
   "outputs": [],
   "source": [
    "paths = forest2.sample_split_class_dependence()"
   ]
  },
  {
   "cell_type": "code",
   "execution_count": null,
   "metadata": {},
   "outputs": [],
   "source": [
    "plt.figure()\n",
    "plt.title(\"Conditional Probability of Factor X Given Factor Y\")\n",
    "plt.imshow((paths/np.array([paths[0],]).T)[1:])\n",
    "plt.colorbar()\n",
    "plt.show()"
   ]
  },
  {
   "cell_type": "code",
   "execution_count": null,
   "metadata": {},
   "outputs": [],
   "source": []
  }
 ],
 "metadata": {
  "kernelspec": {
   "display_name": "Python 3",
   "language": "python",
   "name": "python3"
  },
  "language_info": {
   "codemirror_mode": {
    "name": "ipython",
    "version": 3
   },
   "file_extension": ".py",
   "mimetype": "text/x-python",
   "name": "python",
   "nbconvert_exporter": "python",
   "pygments_lexer": "ipython3",
   "version": "3.7.4"
  }
 },
 "nbformat": 4,
 "nbformat_minor": 4
}
