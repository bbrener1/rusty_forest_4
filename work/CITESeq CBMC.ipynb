{
 "cells": [
  {
   "cell_type": "code",
   "execution_count": null,
   "metadata": {},
   "outputs": [],
   "source": [
    "import dill\n",
    "# dill.dump_session(\"citeseq_session.db\")\n",
    "dill.load_session(\"citeseq_session.db\")"
   ]
  },
  {
   "cell_type": "code",
   "execution_count": null,
   "metadata": {},
   "outputs": [],
   "source": [
    "import matplotlib as mpl\n",
    "import numpy as np\n",
    "import matplotlib.pyplot as plt\n",
    "from scipy.cluster.hierarchy import dendrogram,linkage\n",
    "from scipy.spatial.distance import pdist,squareform\n",
    "\n",
    "raw_data_location = \"/Users/bbrener1/taylor/raw_data/citeseq/\""
   ]
  },
  {
   "cell_type": "code",
   "execution_count": null,
   "metadata": {},
   "outputs": [],
   "source": [
    "counts = np.loadtxt('citeseq_cbmc_counts.tsv')\n",
    "fluorescence_counts = np.loadtxt('citeseq_cbmc_adt.tsv')\n",
    "header = np.loadtxt('citeseq_cbmc_header.txt',dtype=str)\n",
    "fluorescence_header = np.loadtxt('citeseq_cbmc_fluorescence_header.tsv',dtype=str)\n",
    "# t_markers = np.loadtxt('cbmc_cell_markers.tsv')\n",
    "# t_marker_header = np.loadtxt('cbmc_cell_marker_header.txt',dtype=str)\n",
    "# fluorescence_coordinates = np.loadtxt('cbmc_fluorescence_coordiantes.tsv')\n",
    "# gene_coordinates = np.loadtxt('cbmc_gene_coordinates.tsv')\n",
    "umis = np.loadtxt('citeseq_cbmc_umis.tsv')\n",
    "# fluorescence_umis = np.loadtxt('citeseq_cbmc_fluorescence_umis.tsv')"
   ]
  },
  {
   "cell_type": "markdown",
   "metadata": {},
   "source": [
    "# Reprocessing CITESeq"
   ]
  },
  {
   "cell_type": "markdown",
   "metadata": {},
   "source": [
    "## Table of Contents\n",
    "\n",
    "* [Importing Data](#importing_data)\n",
    "* [Paring Down Data To Relevant Elements](#feature_selection)\n",
    "* [Processing Data](#data_processing)\n",
    "* [Forest Analysis](#forest_analysis)"
   ]
  },
  {
   "cell_type": "markdown",
   "metadata": {},
   "source": [
    "## Importing Data <a class=\"anchor\" id=\"importing_data\"></a>"
   ]
  },
  {
   "cell_type": "code",
   "execution_count": null,
   "metadata": {},
   "outputs": [],
   "source": [
    "# Source paper:\n",
    "# https://www.nature.com/articles/nmeth.4380.pdf?origin=ppub\n",
    "\n",
    "# Data is available on GEO, at GSE100866\n",
    "# https://www.ncbi.nlm.nih.gov/geo/query/acc.cgi?acc=GSE100866"
   ]
  },
  {
   "cell_type": "code",
   "execution_count": null,
   "metadata": {},
   "outputs": [],
   "source": [
    "# %cd ~/taylor/raw_data\n",
    "# !wget ftp://ftp.ncbi.nlm.nih.gov/geo/series/GSE100nnn/GSE100866/suppl/GSE100866%5FCBMC%5F8K%5F13AB%5F10X%2DADT%5Fumi%2Ecsv%2Egz\n",
    "# !wget ftp://ftp.ncbi.nlm.nih.gov/geo/series/GSE100nnn/GSE100866/suppl/GSE100866%5FCBMC%5F8K%5F13AB%5F10X%2DRNA%5Fumi%2Ecsv%2Egz\n",
    "# !wget ftp://ftp.ncbi.nlm.nih.gov/geo/series/GSE100nnn/GSE100866/suppl/GSE100866%5FPBMC%5Fvs%5Fflow%5F10X%2DADT%5Fumi%2Ecsv%2Egz\n",
    "# !wget ftp://ftp.ncbi.nlm.nih.gov/geo/series/GSE100nnn/GSE100866/suppl/GSE100866%5FPBMC%5Fvs%5Fflow%5F10X%2DRNA%5Fumi%2Ecsv%2Egz "
   ]
  },
  {
   "cell_type": "code",
   "execution_count": null,
   "metadata": {},
   "outputs": [],
   "source": [
    "# %cd ~/taylor/raw_data\n",
    "# %pwd\n",
    "# !gunzip *.gz\n",
    "# !ls -lh\n",
    "# %cd ~/taylor/rusty_lumberjack/work"
   ]
  },
  {
   "cell_type": "code",
   "execution_count": null,
   "metadata": {},
   "outputs": [],
   "source": [
    "raw_data_location = \"/Users/bbrener1/taylor/raw_data/citeseq/\""
   ]
  },
  {
   "cell_type": "code",
   "execution_count": null,
   "metadata": {},
   "outputs": [],
   "source": [
    "# Loading \n",
    "\n",
    "# Numpy facilities for loading csvs are kind of dumb, so we count the number of columns in the target\n",
    "\n",
    "columns = !head -n 1 {raw_data_location}/GSE100866_CBMC_8K_13AB_10X-RNA_umi.csv | grep -o ',' | wc -l\n",
    "columns = int(columns[0]) \n",
    "\n",
    "rows = !wc -l {raw_data_location}/GSE100866_CBMC_8K_13AB_10X-RNA_umi.csv \n",
    "rows = int(rows[0].split()[0]) - 1\n",
    "\n",
    "\n",
    "print(f\"Rows: {rows}, Columns: {columns}\")\n"
   ]
  },
  {
   "cell_type": "code",
   "execution_count": null,
   "metadata": {},
   "outputs": [],
   "source": []
  },
  {
   "cell_type": "code",
   "execution_count": null,
   "metadata": {},
   "outputs": [],
   "source": [
    "umi_counts = np.zeros((rows,columns),dtype=int)\n"
   ]
  },
  {
   "cell_type": "code",
   "execution_count": null,
   "metadata": {},
   "outputs": [],
   "source": [
    "with open(raw_data_location+'GSE100866_CBMC_8K_13AB_10X-RNA_umi.csv') as file:\n",
    "    file.seek(0)\n",
    "    lines = []\n",
    "    while True:\n",
    "        try:\n",
    "            line = file.readline()\n",
    "            if len(line) < 1:\n",
    "                break\n",
    "            lines.append(line)\n",
    "#             print(len(lines))\n",
    "        except:\n",
    "            break\n",
    "\n",
    "            \n"
   ]
  },
  {
   "cell_type": "code",
   "execution_count": null,
   "metadata": {},
   "outputs": [],
   "source": [
    "for i,line in enumerate(lines[1:]):\n",
    "#     print(i)\n",
    "    split = [int(x) for x in line.split(',')[1:]]\n",
    "    umi_counts[i] = np.array(split)"
   ]
  },
  {
   "cell_type": "code",
   "execution_count": null,
   "metadata": {},
   "outputs": [],
   "source": [
    "gene_header = []\n",
    "\n",
    "for i,line in enumerate(lines[1:]):\n",
    "#     print(i)\n",
    "    gene_header.append(line.split(',')[0].strip(\"\\\"\"))\n",
    "    \n",
    "gene_header = np.array(gene_header)"
   ]
  },
  {
   "cell_type": "code",
   "execution_count": null,
   "metadata": {
    "scrolled": true
   },
   "outputs": [],
   "source": [
    "rna_cell_header = [id.strip(\"\\\"\\n\") for id in lines[0].split(',')[1:]]\n",
    "rna_cell_header"
   ]
  },
  {
   "cell_type": "code",
   "execution_count": null,
   "metadata": {},
   "outputs": [],
   "source": [
    "# Saving the separated files in a numpy-friendly format\n",
    "\n",
    "np.savetxt(raw_data_location+'/GSE100866_CBMC_umi_counts.tsv',umi_counts,fmt='%i')\n",
    "np.savetxt(raw_data_location+'/GSE100866_CBMC_gene_header.tsv',gene_header,fmt='%s')\n"
   ]
  },
  {
   "cell_type": "code",
   "execution_count": null,
   "metadata": {},
   "outputs": [],
   "source": [
    "with open(raw_data_location+'/GSE100866_CBMC_8K_13AB_10X-ADT_umi.csv') as file:\n",
    "    file.seek(0)\n",
    "    lines = []\n",
    "    while True:\n",
    "        try:\n",
    "            line = file.readline()\n",
    "            if len(line) < 1:\n",
    "                break\n",
    "            lines.append(line)\n",
    "#             print(len(lines))\n",
    "        except:\n",
    "            break\n"
   ]
  },
  {
   "cell_type": "code",
   "execution_count": null,
   "metadata": {
    "scrolled": true
   },
   "outputs": [],
   "source": [
    "fluorescence_cell_header = [id.strip(\"\\\"\\n\") for id in lines[0].split(',')[1:]]\n",
    "fluorescence_cell_header"
   ]
  },
  {
   "cell_type": "code",
   "execution_count": null,
   "metadata": {},
   "outputs": [],
   "source": [
    "fluorescence_umis = np.zeros((len(lines)-1,columns))\n",
    "\n",
    "for i,line in enumerate(lines[1:]):\n",
    "#     print(i)\n",
    "    split = [int(x) for x in line.split(',')[1:]]\n",
    "    fluorescence_umis[i] = np.array(split)"
   ]
  },
  {
   "cell_type": "code",
   "execution_count": null,
   "metadata": {},
   "outputs": [],
   "source": [
    "fluorescence_header = []\n",
    "\n",
    "for i,line in enumerate(lines[1:]):\n",
    "#     print(i)\n",
    "    fluorescence_header.append(line.split(',')[0].strip(\"\\\"\"))\n",
    "    \n",
    "fluorescence_header = np.array(fluorescence_header)"
   ]
  },
  {
   "cell_type": "code",
   "execution_count": null,
   "metadata": {},
   "outputs": [],
   "source": [
    "fluorescence_header"
   ]
  },
  {
   "cell_type": "code",
   "execution_count": null,
   "metadata": {},
   "outputs": [],
   "source": [
    "np.savetxt(raw_data_location+'/GSE100866_CBMC_fluorescence_umis.tsv',fluorescence_umis,fmt='%i')\n",
    "np.savetxt(raw_data_location+'/GSE100866_CBMC_fluorescence_header.tsv',fluorescence_header,fmt='%s')\n"
   ]
  },
  {
   "cell_type": "code",
   "execution_count": null,
   "metadata": {},
   "outputs": [],
   "source": [
    "## Here we check just in case that rna and fluorescence cell headers are identical. All good.\n",
    "\n",
    "fluorescence_cell_header == rna_cell_header"
   ]
  },
  {
   "cell_type": "code",
   "execution_count": null,
   "metadata": {},
   "outputs": [],
   "source": [
    "np.savetxt(raw_data_location+'/GSE100866_CBMC_cell_header.tsv',rna_cell_header,fmt='%s')"
   ]
  },
  {
   "cell_type": "code",
   "execution_count": null,
   "metadata": {},
   "outputs": [],
   "source": [
    "### Only applicable to CBMC\n",
    "\n",
    "# Finally CCR7 is not actually present (all values 0), so let's truncate \n",
    "\n",
    "fluorescence_umis = fluorescence_umis[:13]\n",
    "fluorescence_header = fluorescence_header[:13]"
   ]
  },
  {
   "cell_type": "code",
   "execution_count": null,
   "metadata": {},
   "outputs": [],
   "source": [
    "## In case we need to reload, after clearing the string objects from memory:\n",
    "\n",
    "umi_counts = np.loadtxt(raw_data_location+'/GSE100866_CBMC_umi_counts.tsv')\n",
    "fluorescence_umis = np.loadtxt(raw_data_location+'/GSE100866_CBMC_fluorescence_umis.tsv')\n",
    "\n",
    "gene_header = np.loadtxt(raw_data_location+'/GSE100866_CBMC_gene_header.tsv',dtype=str)\n",
    "fluorescence_header = np.loadtxt(raw_data_location+'/GSE100866_CBMC_fluorescence_header.tsv',dtype=str)\n",
    "\n",
    "fluorescence_umis.shape"
   ]
  },
  {
   "cell_type": "markdown",
   "metadata": {},
   "source": [
    "## Paring Down Data To Relevant Elements <a class=\"anchor\" id=\"feature_selection\"></a>"
   ]
  },
  {
   "cell_type": "code",
   "execution_count": null,
   "metadata": {},
   "outputs": [],
   "source": [
    "# First we will need to interpret umi counts as normalized expression values. Many approaches are used here\n",
    "\n",
    "# The source paper performed extremely basic normalization without deconvolution or distribution compensation\n",
    "# This is fine for a preliminary analysis, I don't feel like importing stuff so let's keep it basic:\n",
    "\n",
    "umi_sums = np.sum(umi_counts,axis=0)\n",
    "\n",
    "log_size_normalized = np.log10(umi_counts*10000 / np.tile(umi_sums,(umi_counts.shape[0],1)))\n",
    "log_size_normalized[umi_counts == 0] = 0"
   ]
  },
  {
   "cell_type": "code",
   "execution_count": null,
   "metadata": {},
   "outputs": [],
   "source": [
    "# We want to check how many genes are meaningfully expressed in the data set,\n",
    "# and how variant they are:\n",
    "\n",
    "\n",
    "means = np.mean(log_size_normalized,axis=1)\n",
    "variance = np.var(log_size_normalized,axis=1)\n",
    "\n",
    "mean_ranking = np.argsort(means)\n",
    "variance_ranking = np.argsort(variance)\n",
    "\n",
    "plt.figure()\n",
    "plt.title(\"Means Vs Variance For All Genes\")\n",
    "plt.scatter(means,variance,s=1)\n",
    "plt.xlabel(\"Means\")\n",
    "plt.ylabel(\"Variances\")\n",
    "plt.show()\n",
    "\n",
    "plt.figure()\n",
    "plt.title(\"Mean-ranked Variance\")\n",
    "plt.scatter(np.arange(5000),variance[mean_ranking[-5000:]],s=1,c=means[mean_ranking[-5000:]],cmap='binary')\n",
    "plt.colorbar()\n",
    "plt.show()\n",
    "\n",
    "plt.figure()\n",
    "plt.title(\"Sparsity\")\n",
    "plt.scatter(np.arange(20000),(np.sum(umi_counts > 0,axis=1)/umi_counts.shape[1])[mean_ranking[-20000:]],s=1)\n",
    "plt.show()"
   ]
  },
  {
   "cell_type": "markdown",
   "metadata": {},
   "source": [
    "Here we notice that there are two distinct apparent populations of genes. We recall that the source paper spiked in mouse genetic material, and we would like to eliminate the mouse genes from further analysis:"
   ]
  },
  {
   "cell_type": "code",
   "execution_count": null,
   "metadata": {},
   "outputs": [],
   "source": [
    "### CBMC:\n",
    "# Mouse genes appear after position 20401 in the gene header.\n",
    "print(list(gene_header[:20401]))"
   ]
  },
  {
   "cell_type": "code",
   "execution_count": null,
   "metadata": {},
   "outputs": [],
   "source": [
    "human_normalized = log_size_normalized[:20401]\n",
    "human_gene_header = gene_header[:20401]\n",
    "human_gene_umis = umi_counts[:20401]"
   ]
  },
  {
   "cell_type": "code",
   "execution_count": null,
   "metadata": {},
   "outputs": [],
   "source": [
    "# We also want to eliminate mouse cells from the analysis (we can examine them later if needed)\n",
    "# The source paper uses a criterion that more than 90% of UMIs in a cell must be aligned to human genes for a cell to be \n",
    "# considered human, so let's stick with that. \n",
    "\n",
    "umi_sums = np.sum(umi_counts,axis=0)\n",
    "umi_sums.shape\n",
    "\n",
    "umi_human_gene_sums = np.sum(umi_counts[:20401],axis=0)\n",
    "\n",
    "human_fraction = umi_human_gene_sums/umi_sums\n",
    "\n",
    "human_mask = human_fraction > .9\n",
    "\n",
    "print(np.sum(human_mask))\n",
    "\n",
    "plt.figure()\n",
    "plt.hist(umi_human_gene_sums,bins=50)\n",
    "plt.show()\n",
    "\n",
    "plt.figure()\n",
    "plt.hist(umi_sums,bins=50)\n",
    "plt.show()\n",
    "\n",
    "plt.figure()\n",
    "plt.hist(human_fraction,bins=50)\n",
    "plt.show()\n"
   ]
  },
  {
   "cell_type": "code",
   "execution_count": null,
   "metadata": {},
   "outputs": [],
   "source": [
    "human_normalized = human_normalized.T[human_mask].T\n",
    "fluorescence_umis = fluorescence_umis.T[human_mask].T\n",
    "human_umi_counts = human_gene_umis.T[human_mask].T"
   ]
  },
  {
   "cell_type": "code",
   "execution_count": null,
   "metadata": {},
   "outputs": [],
   "source": [
    "# Rerunning earlier analysis\n",
    "\n",
    "\n",
    "means = np.mean(human_normalized,axis=1)\n",
    "variance = np.var(human_normalized,axis=1)\n",
    "\n",
    "mean_ranking = np.argsort(means)\n",
    "variance_ranking = np.argsort(variance)\n",
    "\n",
    "plt.figure()\n",
    "plt.title(\"Means Vs Variance For All Genes\")\n",
    "plt.scatter(means,variance,s=1)\n",
    "plt.xlabel(\"Means\")\n",
    "plt.ylabel(\"Variances\")\n",
    "plt.show()\n",
    "\n",
    "plt.figure()\n",
    "plt.title(\"Mean-ranked Variance\")\n",
    "plt.scatter(np.arange(5000),variance[mean_ranking[-5000:]],s=1,c=means[mean_ranking[-5000:]],cmap='binary')\n",
    "plt.colorbar()\n",
    "plt.show()\n",
    "\n",
    "plt.figure()\n",
    "plt.title(\"Variance-ranked Variance\")\n",
    "plt.scatter(np.arange(5000),variance[variance_ranking[-5000:]],s=1,c=means[variance_ranking[-5000:]],cmap='binary')\n",
    "plt.colorbar()\n",
    "plt.show()\n",
    "\n",
    "plt.figure()\n",
    "plt.title(\"Sparsity\")\n",
    "plt.scatter(np.arange(5000),(np.sum(umi_counts[:20401] > 0,axis=1)/umi_counts[:20401].shape[1])[mean_ranking[-5000:]],s=1)\n",
    "plt.show()"
   ]
  },
  {
   "cell_type": "code",
   "execution_count": null,
   "metadata": {},
   "outputs": [],
   "source": [
    "## We also want to examine the coefficient of variance to look at genes that may meaningfully contribute to differentiation \n",
    "\n",
    "cov = means[variance_ranking[-5000:]] / variance[variance_ranking[-5000:]]\n",
    "\n",
    "plt.figure()\n",
    "plt.title(\"CoV for top genes\")\n",
    "plt.scatter(np.arange(5000),cov,s=1)\n",
    "plt.show()"
   ]
  },
  {
   "cell_type": "markdown",
   "metadata": {},
   "source": [
    "In all likelihood we are safe in paring down the output to only the top 2000 most variant genes. This will probably leave out transcription factors and the like, but... vOv"
   ]
  },
  {
   "cell_type": "code",
   "execution_count": null,
   "metadata": {},
   "outputs": [],
   "source": [
    "truncated_counts = human_normalized[variance_ranking[-2000:]].T\n",
    "umis = human_umi_counts[variance_ranking[-2000:]].T\n",
    "header = human_gene_header[variance_ranking[-2000:]]\n",
    "\n",
    "# truncated_counts = human_normalized[mean_ranking[-7000:]].T\n",
    "# header = human_gene_header[mean_ranking[-7000:]]\n",
    "\n",
    "from sklearn.preprocessing import scale\n",
    "\n",
    "counts = scale(truncated_counts)\n",
    "\n",
    "print(counts.shape)\n",
    "print(umis.shape)\n",
    "print(fluorescence_umis.shape)\n",
    "print(header.shape)"
   ]
  },
  {
   "cell_type": "code",
   "execution_count": null,
   "metadata": {},
   "outputs": [],
   "source": [
    "# Let's normalize the antibody derived tags as well\n",
    "# Source paper calls for normalization via Centered Log Ratio\n",
    "\n",
    "from scipy.stats.mstats import gmean\n",
    "\n",
    "f_gmeans = gmean(fluorescence_umis+1,axis=0)\n",
    "# f_gmeans\n",
    "fluorescence_counts = np.log((fluorescence_umis + 1) / np.tile(f_gmeans,(fluorescence_umis.shape[0],1)))\n",
    "\n"
   ]
  },
  {
   "cell_type": "code",
   "execution_count": null,
   "metadata": {},
   "outputs": [],
   "source": [
    "np.savetxt(\"citeseq_cbmc_counts.tsv\",counts)\n",
    "np.savetxt(\"citeseq_cbmc_adt.tsv\",fluorescence_counts)\n",
    "np.savetxt(\"citeseq_cbmc_header.txt\",header,fmt='%s')\n",
    "np.savetxt(\"citeseq_cbmc_umis.tsv\",umis)\n",
    "np.savetxt(\"citeseq_cbmc_fluorescence_umis.tsv\",fluorescence_umis)\n",
    "np.savetxt(\"citeseq_cbmc_fluorescence_header.tsv\",fluorescence_header,fmt='%s')"
   ]
  },
  {
   "cell_type": "code",
   "execution_count": null,
   "metadata": {},
   "outputs": [],
   "source": [
    "import numpy as np\n",
    "import matplotlib.pyplot as plt\n",
    "\n",
    "\n",
    "counts = np.loadtxt('citeseq_cbmc_counts.tsv')\n",
    "fluorescence_counts = np.loadtxt('citeseq_cbmc_adt.tsv')\n",
    "header = np.loadtxt('citeseq_cbmc_header.txt',dtype=str)\n",
    "fluorescence_header = np.loadtxt('citeseq_cbmc_fluorescence_header.tsv',dtype=str)\n",
    "umis = np.loadtxt('citeseq_cbmc_umis.tsv')\n",
    "fluorescence_umis = np.loadtxt('citeseq_cbmc_fluorescence_umis.tsv')"
   ]
  },
  {
   "cell_type": "markdown",
   "metadata": {},
   "source": [
    "## Processing Data <a class=\"anchor\" id=\"data_processing\"></a>"
   ]
  },
  {
   "cell_type": "code",
   "execution_count": null,
   "metadata": {},
   "outputs": [],
   "source": [
    "# First let's take a quick look at the fluorescence and genetic expression data"
   ]
  },
  {
   "cell_type": "code",
   "execution_count": null,
   "metadata": {},
   "outputs": [],
   "source": [
    "from sklearn.manifold import TSNE\n",
    "from sklearn.decomposition import PCA"
   ]
  },
  {
   "cell_type": "code",
   "execution_count": null,
   "metadata": {},
   "outputs": [],
   "source": [
    "fluorescence_coordinates = TSNE().fit_transform(fluorescence_counts.T)\n",
    "\n",
    "plt.figure()\n",
    "plt.title(\"TSNE Manifold Mapping of Fluorescence Values for Blood Cells\")\n",
    "plt.scatter(fluorescence_coordinates.T[0],fluorescence_coordinates.T[1],s=1)\n",
    "plt.show()"
   ]
  },
  {
   "cell_type": "code",
   "execution_count": null,
   "metadata": {},
   "outputs": [],
   "source": [
    "gene_coordinates = TSNE().fit_transform(PCA(n_components=20).fit_transform(counts))\n",
    "# gene_coordinates = TSNE(metric='cosine').fit_transform(counts)\n",
    "\n",
    "plt.figure()\n",
    "plt.title(\"TSNE Manifold Mapping of PCA Decomposed Gene Expression Values, Blood Cells \")\n",
    "plt.scatter(gene_coordinates.T[0],gene_coordinates.T[1],s=1)\n",
    "plt.show()"
   ]
  },
  {
   "cell_type": "code",
   "execution_count": null,
   "metadata": {
    "scrolled": true
   },
   "outputs": [],
   "source": [
    "# Now we need to recreate the canonical labels based on antibody surface markers. We have markers as follows:\n",
    "print(fluorescence_header)"
   ]
  },
  {
   "cell_type": "code",
   "execution_count": null,
   "metadata": {
    "scrolled": false
   },
   "outputs": [],
   "source": [
    "# Agglomerative clustering is also going to be a helpful way of looking at the data:\n",
    "\n",
    "from scipy.cluster.hierarchy import dendrogram,linkage\n",
    "\n",
    "feature_sort = dendrogram(linkage(counts.T,metric='cosine',method='average'),no_plot=True)['leaves']\n",
    "sample_sort = dendrogram(linkage(counts,metric='cosine',method='average'),no_plot=True)['leaves']\n",
    "fluorescence_sort = dendrogram(linkage(fluorescence_counts,method='average'),no_plot=True)['leaves']\n",
    "\n",
    "plt.figure(figsize=(20,20))\n",
    "plt.imshow(counts[sample_sort].T[feature_sort].T,cmap='bwr',aspect='auto')\n",
    "plt.show()\n",
    "\n",
    "plt.figure(figsize=(20,20))\n",
    "plt.imshow(np.log10(1 + fluorescence_counts.T[sample_sort]),aspect='auto')\n",
    "plt.colorbar()\n",
    "plt.show()"
   ]
  },
  {
   "cell_type": "code",
   "execution_count": null,
   "metadata": {},
   "outputs": [],
   "source": [
    "\n",
    "# We can map cell surface markers to cell identities using refernce literature like the BD cell surface marker handbook:\n",
    "# https://www.bdbiosciences.com/documents/cd_marker_handbook.pdf\n",
    "\n",
    "# A basic mapping would be:\n",
    "\n",
    "# CD3   + ::: T Cells\n",
    "# CD2   + ::: T/B/NK (Adhesion)\n",
    "# CD4   + ::: Granular cells (T, Macro, Granulo, early phase)\n",
    "\n",
    "# CD8   + ::: T/NK (unclear since handbook lists 2 variants)\n",
    "# CD45  + ::: T/B cell differentiation (not erythrocyte)\n",
    "\n",
    "# CD56  + ::: T and NK (adhesion)\n",
    "# CD57  + ::: T and NK (adhesion)\n",
    "# CD16  + ::: T, Dendritic, NK, Macro, Granulo (IgG binding)\n",
    "# CD10  + ::: NK, Endothelial \n",
    "\n",
    "# CD11c + ::: General marker (inflammatory response?)\n",
    "# CD14  + ::: LPS response, Macrophage, Granulocyte\n",
    "\n",
    "\n",
    "# CD19  + ::: B Cell, Dendritic, Stem marker\n",
    "# CD34  + ::: Stem Cells, Endothelial \n",
    "# CCR5  + ::: Migration (T, Macro, Gran)\n",
    "# CCR7  + ::: T/B/Dend\n"
   ]
  },
  {
   "cell_type": "code",
   "execution_count": null,
   "metadata": {},
   "outputs": [],
   "source": [
    "# We would like to cluster the cells, then examine the fluorescence value of each marker in each cluster\n",
    "\n",
    "print(fluorescence_header)"
   ]
  },
  {
   "cell_type": "code",
   "execution_count": null,
   "metadata": {},
   "outputs": [],
   "source": [
    "plt.figure()\n",
    "plt.title(\"All Cells\")\n",
    "plt.scatter(fluorescence_counts[9],fluorescence_counts[0],s=1)\n",
    "plt.xlabel(\"CD19 (TPM)\")\n",
    "plt.ylabel(\"CD3 (TPM)\")\n",
    "plt.show()"
   ]
  },
  {
   "cell_type": "code",
   "execution_count": null,
   "metadata": {},
   "outputs": [],
   "source": [
    "cd3_p_mask = fluorescence_counts[0] > 1.2\n",
    "cd19_p_mask = fluorescence_counts[9] > 1\n",
    "\n",
    "t_mask = np.logical_and(cd3_p_mask,np.logical_not(cd19_p_mask))\n",
    "b_mask = np.logical_and(cd19_p_mask,np.logical_not(cd3_p_mask))"
   ]
  },
  {
   "cell_type": "code",
   "execution_count": null,
   "metadata": {},
   "outputs": [],
   "source": [
    "plt.figure()\n",
    "plt.title(\"All Cells\")\n",
    "plt.scatter(fluorescence_counts[9],fluorescence_counts[0],s=1,c=b_mask)\n",
    "plt.xlabel(\"CD19\")\n",
    "plt.ylabel(\"CD3\")\n",
    "plt.show()"
   ]
  },
  {
   "cell_type": "code",
   "execution_count": null,
   "metadata": {},
   "outputs": [],
   "source": [
    "# Now we'd like to differentiate between CD4 and CD8 T cells:\n",
    "\n",
    "plt.figure()\n",
    "plt.title(\"T Cells only (CD3+,CD19-)\")\n",
    "plt.scatter(fluorescence_counts[2][t_mask],fluorescence_counts[1][t_mask],s=1)\n",
    "plt.xlabel(\"CD8A\")\n",
    "plt.ylabel(\"CD4\")\n",
    "plt.show()\n",
    "\n",
    "cd4_t = np.logical_and(t_mask,np.logical_and(fluorescence_counts[1] > 0,fluorescence_counts[2] < 1.5))\n",
    "cd8_t = np.logical_and(t_mask,np.logical_and(fluorescence_counts[1] < 0,fluorescence_counts[2] > 3))\n",
    "\n",
    "plt.figure()\n",
    "plt.title(\"T Cells only (CD3+,CD19-)\")\n",
    "plt.scatter(fluorescence_counts[2][t_mask],fluorescence_counts[1][t_mask],c=cd4_t[t_mask],s=1)\n",
    "plt.xlabel(\"CD8A\")\n",
    "plt.ylabel(\"CD4\")\n",
    "plt.show()\n",
    "\n",
    "plt.figure()\n",
    "plt.title(\"T Cells only (CD3+,CD19-)\")\n",
    "plt.scatter(fluorescence_counts[2][t_mask],fluorescence_counts[1][t_mask],c=cd8_t[t_mask],s=1)\n",
    "plt.xlabel(\"CD8A\")\n",
    "plt.ylabel(\"CD4\")\n",
    "plt.show()\n"
   ]
  },
  {
   "cell_type": "code",
   "execution_count": null,
   "metadata": {},
   "outputs": [],
   "source": [
    "## Now let's examine how these are distributed in the TSNE:\n",
    "\n",
    "plt.figure()\n",
    "plt.title(\"TSNE Manifold Mapping of PCA Decomposed Gene Expression Values, CD4+ T Cells Colored, Blood Cells \")\n",
    "plt.scatter(gene_coordinates.T[0],gene_coordinates.T[1],c=cd4_t,s=1)\n",
    "plt.show()"
   ]
  },
  {
   "cell_type": "code",
   "execution_count": null,
   "metadata": {},
   "outputs": [],
   "source": [
    "plt.figure()\n",
    "plt.title(\"TSNE Manifold Mapping of PCA Decomposed Gene Expression Values, CD8+ T Cells Colored, Blood Cells \")\n",
    "plt.scatter(gene_coordinates.T[0],gene_coordinates.T[1],c=cd8_t,s=1)\n",
    "plt.show()"
   ]
  },
  {
   "cell_type": "code",
   "execution_count": null,
   "metadata": {},
   "outputs": [],
   "source": [
    "## Finally let's try to map out naive, memory, and effector cells\n",
    "\n",
    "plt.figure()\n",
    "plt.title(\"CD4 T Cells\")\n",
    "plt.scatter(fluorescence_counts[3][cd4_t],fluorescence_counts[5][cd4_t],s=1)\n",
    "plt.xlabel(\"CD2\")\n",
    "plt.ylabel(\"CD57\")\n",
    "plt.show()\n",
    "\n",
    "plt.figure()\n",
    "plt.title(\"CD8 T Cells\")\n",
    "plt.scatter(fluorescence_counts[3][cd8_t],fluorescence_counts[5][cd8_t],s=1)\n",
    "plt.xlabel(\"CD2\")\n",
    "plt.ylabel(\"CD57\")\n",
    "plt.show()\n",
    "\n",
    "cd4_t_naive = np.logical_and(cd4_t,np.logical_and(fluorescence_counts[3] < 2.5,fluorescence_counts[5] < 1))\n",
    "cd4_t_57_effector = np.logical_and(cd4_t,fluorescence_counts[5] > 1)\n",
    "cd4_t_memory = np.logical_and(cd4_t,np.logical_and(fluorescence_counts[3] > 2.5,fluorescence_counts[5] < 1))\n",
    "\n",
    "cd8_t_naive = np.logical_and(cd8_t,np.logical_and(fluorescence_counts[3] < 2.5,fluorescence_counts[5] < 1))\n",
    "cd8_t_57_effector = np.logical_and(cd8_t,fluorescence_counts[5] > 1)\n",
    "cd8_t_memory = np.logical_and(cd8_t,np.logical_and(fluorescence_counts[3] > 2.5,fluorescence_counts[5] < 1))\n"
   ]
  },
  {
   "cell_type": "code",
   "execution_count": null,
   "metadata": {},
   "outputs": [],
   "source": [
    "plt.figure()\n",
    "plt.title(\"CD4 T Cells\")\n",
    "plt.scatter(fluorescence_counts[3][cd4_t],fluorescence_counts[5][cd4_t],c=cd4_t_57_effector[cd4_t],s=1)\n",
    "plt.xlabel(\"CD2\")\n",
    "plt.ylabel(\"CD57\")\n",
    "plt.show()\n",
    "\n",
    "plt.figure()\n",
    "plt.title(\"CD8 T Cells\")\n",
    "plt.scatter(fluorescence_counts[3][cd8_t],fluorescence_counts[5][cd8_t],c=cd8_t_57_effector[cd8_t],s=1)\n",
    "plt.xlabel(\"CD2\")\n",
    "plt.ylabel(\"CD57\")\n",
    "plt.show()\n"
   ]
  },
  {
   "cell_type": "code",
   "execution_count": null,
   "metadata": {},
   "outputs": [],
   "source": [
    "t_markers = np.array([\n",
    "    b_mask,\n",
    "    t_mask,\n",
    "    cd4_t,\n",
    "    cd8_t,\n",
    "    cd4_t_naive,\n",
    "    cd4_t_memory,\n",
    "    cd4_t_57_effector,\n",
    "    cd8_t_naive,\n",
    "    cd8_t_memory,\n",
    "    cd8_t_57_effector])\n",
    "\n",
    "t_marker_header = [\n",
    "    \"b_cell\",\n",
    "    \"t_cell\",\n",
    "    \"cd4_t_cell\",\n",
    "    \"cd8_t_cell\",\n",
    "    \"cd4_t_naive\",\n",
    "    \"cd4_t_memory\",\n",
    "    \"cd4_t_effector\",\n",
    "    \"cd8_t_naive\",\n",
    "    \"cd8_t_memory\",\n",
    "    \"cd8_t_effector\",\n",
    "]\n",
    "\n",
    "# t_markers.shape"
   ]
  },
  {
   "cell_type": "code",
   "execution_count": null,
   "metadata": {},
   "outputs": [],
   "source": []
  },
  {
   "cell_type": "code",
   "execution_count": null,
   "metadata": {},
   "outputs": [],
   "source": [
    "np.savetxt('cell_markers.tsv',t_markers)\n",
    "np.savetxt('cell_marker_header.txt',t_marker_header,fmt=\"%s\")\n",
    "np.savetxt('fluorescence_coordiantes.tsv',fluorescence_coordinates)\n",
    "np.savetxt('gene_coordinates.tsv', gene_coordinates)"
   ]
  },
  {
   "cell_type": "code",
   "execution_count": null,
   "metadata": {},
   "outputs": [],
   "source": [
    "import numpy as np\n",
    "import matplotlib.pyplot as plt\n",
    "\n",
    "t_markers = np.loadtxt('cell_markers.tsv')\n",
    "t_marker_header = np.loadtxt('cell_marker_header.txt',dtype=str)\n",
    "fluorescence_coordinates = np.loadtxt('fluorescence_coordiantes.tsv')\n",
    "gene_coordinates = np.loadtxt('gene_coordinates.tsv')"
   ]
  },
  {
   "cell_type": "markdown",
   "metadata": {},
   "source": [
    "## Forest Analysis <a class=\"anchor\" id=\"forest_analysis\"></a>"
   ]
  },
  {
   "cell_type": "code",
   "execution_count": null,
   "metadata": {},
   "outputs": [],
   "source": [
    "## Here we begin the analysis of this data using random forest regression.\n",
    "\n",
    "# First boilerplate imports of RFR\n",
    " \n",
    "import sys\n",
    "sys.path.append(\"../src/\")\n",
    "import lumberjack\n",
    "import tree_reader as tr"
   ]
  },
  {
   "cell_type": "code",
   "execution_count": null,
   "metadata": {},
   "outputs": [],
   "source": [
    "# import dill\n",
    "# # dill.dump_session(\"citeseq_session.db\")\n",
    "# dill.load_session(\"citeseq_session.db\")"
   ]
  },
  {
   "cell_type": "code",
   "execution_count": null,
   "metadata": {
    "scrolled": true
   },
   "outputs": [],
   "source": [
    "## Here we create a random forest using the rust software.\n",
    "\n",
    "# forest = lumberjack.fit(\n",
    "#     input_counts=umis,\n",
    "#     output_counts=umis,\n",
    "#     header=header,\n",
    "#     ifs=500,\n",
    "#     ofs=500,\n",
    "#     ss=500,\n",
    "#     trees=100,\n",
    "#     depth=7,\n",
    "#     leaves=100,\n",
    "#     sfr=.5,\n",
    "#     braids=3\n",
    "# )\n",
    "\n",
    "forest = lumberjack.fit(\n",
    "    input_counts=counts,\n",
    "    output_counts=counts,\n",
    "    header=header,\n",
    "    ifs=700,\n",
    "    ofs=700,\n",
    "    ss=500,\n",
    "    trees=100,\n",
    "    depth=9,\n",
    "    leaves=100,\n",
    "    sfr=.5,\n",
    "    norm='l1',\n",
    "    braids=3,\n",
    "    reduce_inputs=\"\",\n",
    "    reduce_outputs=\"\",\n",
    ")\n",
    "\n",
    "forest.set_cache(True)"
   ]
  },
  {
   "cell_type": "code",
   "execution_count": null,
   "metadata": {},
   "outputs": [],
   "source": [
    "# Creating a random forest is a computationally expensive procedure, so we'll back up our results and generally won't \n",
    "# rerun them unless necessary\n",
    "\n",
    "# forest.backup('citeseq_cbmc_l2_plain')\n",
    "forest.backup('citeseq_cbmc_l1_double_experimental')\n",
    "# forest.backup('citeseq_cmbc_forest_l1_umi_cache')\n",
    "\n",
    "!ls -lh"
   ]
  },
  {
   "cell_type": "code",
   "execution_count": null,
   "metadata": {},
   "outputs": [],
   "source": [
    "# Here we can reconstitute previously backed up forests we have created. \n",
    "\n",
    "import sys\n",
    "sys.path.append(\"../src/\")\n",
    "import lumberjack\n",
    "import tree_reader as tr\n",
    "\n",
    "forest = tr.Forest.reconstitute('citeseq_cbmc_l1_double_experimental')\n",
    "forest.arguments"
   ]
  },
  {
   "cell_type": "code",
   "execution_count": null,
   "metadata": {},
   "outputs": [],
   "source": []
  },
  {
   "cell_type": "code",
   "execution_count": null,
   "metadata": {},
   "outputs": [],
   "source": [
    "\n",
    "rep = forest.node_representation(forest.nodes(depth=8), mode='additive_mean',pca=100)\n",
    "rep.shape"
   ]
  },
  {
   "cell_type": "code",
   "execution_count": null,
   "metadata": {},
   "outputs": [],
   "source": []
  },
  {
   "cell_type": "code",
   "execution_count": null,
   "metadata": {},
   "outputs": [],
   "source": []
  },
  {
   "cell_type": "code",
   "execution_count": null,
   "metadata": {},
   "outputs": [],
   "source": [
    "# ts = forest.tsne(pca=100)\n",
    "\n",
    "# left = forest.trees[1].root.children[0].children[0].children[0].samples\n",
    "# right = forest.trees[1].root.children[0].children[0].children[1].samples\n",
    "\n",
    "# left_mask = np.zeros(len(forest.samples),dtype=bool)\n",
    "# left_mask[left] = True\n",
    "# # left_mask = forest.trees[1].root.children[0].children[0].encoding()\n",
    "\n",
    "# right_mask = np.zeros(len(forest.samples),dtype=bool)\n",
    "# right_mask[right] = True\n",
    "\n",
    "# plt.figure()\n",
    "# plt.scatter(*ts.T,s=1,c=left_mask)\n",
    "# plt.show()\n",
    "\n"
   ]
  },
  {
   "cell_type": "code",
   "execution_count": null,
   "metadata": {},
   "outputs": [],
   "source": [
    "# filter_reduction = forest.trees[1].root.children[1].children[0].filter\n",
    "# # filter_reduction['reduction']['features']\n",
    "\n",
    "\n",
    "# selected = forest.input.T[filter_reduction['reduction']['features']].T\n",
    "# subtracted = selected.copy()\n",
    "# for row in subtracted:\n",
    "#     row -= filter_reduction['reduction']['means']\n",
    "# # reduced = np.dot(subtracted,filter_reduction['reduction']['scores'])\n",
    "# reduced /= np.sum(subtracted,axis=1)\n",
    "\n",
    "# plt.figure()\n",
    "# plt.scatter(*ts.T,s=1,c=reduced)\n",
    "# plt.show()\n",
    "\n",
    "# plt.hist(reduced,bins=20,log=True)"
   ]
  },
  {
   "cell_type": "code",
   "execution_count": null,
   "metadata": {},
   "outputs": [],
   "source": []
  },
  {
   "cell_type": "code",
   "execution_count": null,
   "metadata": {},
   "outputs": [],
   "source": []
  },
  {
   "cell_type": "code",
   "execution_count": null,
   "metadata": {},
   "outputs": [],
   "source": []
  },
  {
   "cell_type": "code",
   "execution_count": null,
   "metadata": {},
   "outputs": [],
   "source": []
  },
  {
   "cell_type": "code",
   "execution_count": null,
   "metadata": {},
   "outputs": [],
   "source": [
    "# Here we would like to produce a figure demonstrating the possibility of grouping nodes\n",
    "\n",
    "from scipy.spatial.distance import squareform,pdist\n",
    "representation = forest.node_representation(forest.nodes(depth=4,root=False),mode='additive')\n",
    "# distance = pdist(representation,metric='cosine')\n",
    "# np.isnan(distance).any()\n",
    "\n",
    "node_sort = dendrogram(linkage(representation,metric='jaccard',method='average'),no_plot=True)['leaves']\n",
    "\n",
    "# np.sum(representation,axis=1).shape\n",
    "\n",
    "# plt.figure()\n",
    "# plt.hist(np.sum(representation,axis=1),log=True,bins=100)\n",
    "# plt.show()"
   ]
  },
  {
   "cell_type": "code",
   "execution_count": null,
   "metadata": {
    "scrolled": true
   },
   "outputs": [],
   "source": [
    "## Now we must find common marginal effects of splits in the random forest.\n",
    "# We can do this by clustering vectors representing the marginal effect of each split\n",
    "\n",
    "forest.reset_split_clusters()\n",
    "forest.interpret_splits(mode='additive_mean',relatives=True,pca=100,metric=\"cosine\",depth=5,k=100,override=False,no_plot=True)\n",
    "\n"
   ]
  },
  {
   "cell_type": "code",
   "execution_count": null,
   "metadata": {
    "scrolled": false
   },
   "outputs": [],
   "source": [
    "# forest.split_clusters[]"
   ]
  },
  {
   "cell_type": "code",
   "execution_count": null,
   "metadata": {
    "scrolled": true
   },
   "outputs": [],
   "source": [
    "# forest.most_likely_tree(depth=5)\n",
    "forest.maximum_spanning_tree(mode=\"samples\",depth=5)\n"
   ]
  },
  {
   "cell_type": "code",
   "execution_count": null,
   "metadata": {},
   "outputs": [],
   "source": [
    "forest.tsne(override=True,pca=100)"
   ]
  },
  {
   "cell_type": "code",
   "execution_count": null,
   "metadata": {
    "scrolled": true
   },
   "outputs": [],
   "source": [
    "## We want to examine the common splits in two ways: \n",
    "\n",
    "# Cell populations they affect anPd effects Pof each split\n",
    "forest.html_tree_summary(n=10)"
   ]
  },
  {
   "cell_type": "code",
   "execution_count": null,
   "metadata": {
    "scrolled": false
   },
   "outputs": [],
   "source": [
    "forest.split_clusters[8].set_name(\"HLA+,S100-\")\n",
    "forest.split_clusters[]"
   ]
  },
  {
   "cell_type": "code",
   "execution_count": null,
   "metadata": {},
   "outputs": [],
   "source": [
    "forest.split_clusters[8].error_ratio()"
   ]
  },
  {
   "cell_type": "code",
   "execution_count": null,
   "metadata": {},
   "outputs": [],
   "source": [
    "# forest.cluster_samples_simple(sub=.5,k=20,pca=20,metric='cosine',override=True)\n",
    "forest.reset_sample_clusters()\n",
    "\n",
    "forest.cluster_samples_encoding(metric='euclidean',depth=8,k=50,override=True,pca=100)\n",
    "# forest.cluster_samples_simple(sub=.5,metric='cosine',k=30,pca=20,override=True,no_plot=False)\n",
    "# len(forest.sample_clusters)"
   ]
  },
  {
   "cell_type": "code",
   "execution_count": null,
   "metadata": {},
   "outputs": [],
   "source": [
    "forest.output_features[2000:]"
   ]
  },
  {
   "cell_type": "code",
   "execution_count": null,
   "metadata": {
    "scrolled": false
   },
   "outputs": [],
   "source": [
    "forest.tsne(pca=100)\n",
    "# forest.tsne_coordinates = fluorescence_coordinates\n",
    "forest.plot_sample_clusters()"
   ]
  },
  {
   "cell_type": "code",
   "execution_count": null,
   "metadata": {},
   "outputs": [],
   "source": [
    "plt.figure()\n",
    "plt.title(\"TSNE Manifold Mapping of Sample Clusters onto Fluorescence Coordinates\")\n",
    "plt.scatter(fluorescence_coordinates.T[0],fluorescence_coordinates.T[1],s=1,c=forest.sample_labels,cmap='rainbow')\n",
    "\n",
    "plt.show()"
   ]
  },
  {
   "cell_type": "code",
   "execution_count": null,
   "metadata": {},
   "outputs": [],
   "source": [
    "forest.reset_leaf_clusters()\n",
    "forest.cluster_leaves_samples(sub=.5,k=20,metric=\"jaccard\",override=True)\n"
   ]
  },
  {
   "cell_type": "code",
   "execution_count": null,
   "metadata": {},
   "outputs": [],
   "source": [
    "# forest.tsne(pca=100,override=True)\n",
    "forest.tsne_coordinates = fluorescence_coordinates"
   ]
  },
  {
   "cell_type": "code",
   "execution_count": null,
   "metadata": {
    "scrolled": true
   },
   "outputs": [],
   "source": [
    "for cluster in forest.leaf_clusters:\n",
    "    cluster.plot_sample_counts()"
   ]
  },
  {
   "cell_type": "code",
   "execution_count": null,
   "metadata": {},
   "outputs": [],
   "source": [
    "forest.reset_sample_clusters()\n",
    "forest.cluster_samples_leaf_cluster()"
   ]
  },
  {
   "cell_type": "code",
   "execution_count": null,
   "metadata": {},
   "outputs": [],
   "source": []
  },
  {
   "cell_type": "code",
   "execution_count": null,
   "metadata": {},
   "outputs": [],
   "source": [
    "###########################################################################\n",
    "###########################################################################\n",
    "###########################################################################\n",
    "###########################################################################\n",
    "###########################################################################\n",
    "###########################################################################\n",
    "###########################################################################\n",
    "###########################################################################\n",
    "###########################################################################\n",
    "###########################################################################"
   ]
  },
  {
   "cell_type": "code",
   "execution_count": null,
   "metadata": {},
   "outputs": [],
   "source": []
  },
  {
   "cell_type": "code",
   "execution_count": null,
   "metadata": {},
   "outputs": [],
   "source": [
    "plt.figure()\n",
    "plt.title(\"TSNE Manifold Mapping of Sample Clusters onto Fluorescence Coordinates\")\n",
    "plt.scatter(fluorescence_coordinates.T[0],fluorescence_coordinates.T[1],s=1,c=forest.sample_labels,cmap='rainbow')\n",
    "for cluster in set(forest.sample_labels):\n",
    "    mask = np.array(forest.sample_labels) == cluster\n",
    "    mean_coordinates = np.mean(fluorescence_coordinates[mask],axis=0)\n",
    "    plt.scatter([mean_coordinates[0],],[mean_coordinates[1],],s=100)\n",
    "plt.show()"
   ]
  },
  {
   "cell_type": "code",
   "execution_count": null,
   "metadata": {},
   "outputs": [],
   "source": [
    "plt.figure()\n",
    "plt.title(\"TSNE Manifold Mapping of Sample Clusters onto Fluorescence Coordinates\")\n",
    "plt.scatter(fluorescence_coordinates.T[0],fluorescence_coordinates.T[1],s=1,c=fluorescence_counts[9])\n",
    "plt.show()"
   ]
  },
  {
   "cell_type": "code",
   "execution_count": null,
   "metadata": {},
   "outputs": [],
   "source": [
    "plt.figure()\n",
    "plt.title(\"TSNE Manifold Mapping of Sample Clusters onto Fluorescence Coordinates\")\n",
    "plt.scatter(forest.coordinates(no_plot=True).T[0],forest.coordinates(no_plot=True).T[1],s=1,c=fluorescence_counts[2])\n",
    "plt.show()"
   ]
  },
  {
   "cell_type": "code",
   "execution_count": null,
   "metadata": {},
   "outputs": [],
   "source": [
    "fluorescence_header"
   ]
  },
  {
   "cell_type": "code",
   "execution_count": null,
   "metadata": {
    "scrolled": false
   },
   "outputs": [],
   "source": [
    "# from scipy.cluster.hierarchy import dendrogram,linkage\n",
    "\n",
    "# feature_sort = dendrogram(linkage(counts.T,metric='cosine',method='average'),no_plot=True)['leaves']\n",
    "# sample_sort = np.argsort(forest.sample_labels)\n",
    "\n",
    "plt.figure(figsize=(20,20))\n",
    "plt.imshow(counts[sample_sort].T[feature_sort].T,cmap='bwr',aspect='auto',interpolation='none')\n",
    "plt.show()\n",
    "\n",
    "plt.figure(figsize=(20,20))\n",
    "plt.imshow(fluorescence_counts.T[sample_sort],aspect='auto',interpolation='none')\n",
    "plt.xticks(np.arange(13),fluorescence_header)\n",
    "plt.show()\n"
   ]
  },
  {
   "cell_type": "code",
   "execution_count": null,
   "metadata": {},
   "outputs": [],
   "source": [
    "forest.sample_cluster_feature_matrix()"
   ]
  },
  {
   "cell_type": "code",
   "execution_count": null,
   "metadata": {},
   "outputs": [],
   "source": [
    "# sample_cluster_features = forest.sample_cluster_feature_matrix()\n",
    "# sample_cluster_sort = dendrogram(linkage(sample_cluster_features,metric='cosine',method='average'),no_plot=True)['leaves']\n",
    "# sample_cluster_feature_sort = dendrogram(linkage(sample_cluster_features.T,metric='cosine',method='average'),no_plot=True)['leaves']\n",
    "\n",
    "plt.figure(figsize=(20,20))\n",
    "# plt.imshow(np.log10(sample_cluster_features[sample_cluster_sort].T[feature_sort].T),cmap='bwr',aspect='auto')\n",
    "plt.imshow(sample_cluster_features[sample_cluster_sort].T[feature_sort].T,cmap='bwr',aspect='auto',interpolation='none')\n",
    "plt.yticks(np.arange(len(forest.sample_clusters)),np.arange(len(forest.sample_clusters))[sample_cluster_sort])\n",
    "plt.colorbar()\n",
    "plt.show()\n",
    "\n"
   ]
  },
  {
   "cell_type": "code",
   "execution_count": null,
   "metadata": {},
   "outputs": [],
   "source": [
    "# focused = sample_cluster_features[sample_cluster_sort].T[feature_sort].T[-4:]\n",
    "# feature_resort = dendrogram(linkage(focused.T,metric='cosine',method='average'),no_plot=True)['leaves']\n",
    "\n",
    "# plt.figure(figsize=(20,5))\n",
    "# plt.imshow(focused,cmap='bwr',aspect='auto')\n",
    "# plt.show()\n",
    "\n",
    "# plt.figure(figsize=(5,30))\n",
    "# plt.imshow(focused.T[feature_resort],cmap='bwr',aspect='auto')\n",
    "# plt.show()\n"
   ]
  },
  {
   "cell_type": "code",
   "execution_count": null,
   "metadata": {},
   "outputs": [],
   "source": [
    "plt.figure(figsize=(5,5))\n",
    "plt.title(\"Mouse Blood Surface Markers (Checker Pattern by Unsupervised Cluster)\")\n",
    "plt.imshow(fluorescence_counts.T[sample_sort],aspect='auto',interpolation='none')\n",
    "plt.xticks(np.arange(len(fluorescence_header)),fluorescence_header,rotation=45)\n",
    "plt.show()\n"
   ]
  },
  {
   "cell_type": "code",
   "execution_count": null,
   "metadata": {},
   "outputs": [],
   "source": [
    "## We would now like to see what kind of distribution there is between forest splits and sample clusters\n",
    "# for the fluorescence features\n",
    "\n",
    "fluorescence_features = list(fluorescence_header) \n",
    "fluorescence_feature_values = np.array([f for f in fluorescence_counts[:]])\n",
    "                                       \n",
    "print(fluorescence_features)\n",
    "print(len(fluorescence_features))\n",
    "print(fluorescence_feature_values.shape)\n",
    "\n",
    "for feature,feature_values in zip(fluorescence_features,fluorescence_feature_values):\n",
    "    forest.add_output_feature(feature_values,feature)"
   ]
  },
  {
   "cell_type": "code",
   "execution_count": null,
   "metadata": {},
   "outputs": [],
   "source": [
    "forest.output_features[2000:]"
   ]
  },
  {
   "cell_type": "code",
   "execution_count": null,
   "metadata": {
    "scrolled": false
   },
   "outputs": [],
   "source": [
    "# sample_cluster_fluorescence = forest.sample_cluster_feature_matrix(fluorescence_features)\n",
    "# print(sample_cluster_fluorescence.shape)\n",
    "\n",
    "# plt.figure(figsize=(20,20))\n",
    "# plt.imshow(sample_cluster_fluorescence,aspect='auto')\n",
    "# plt.yticks(np.arange(len(forest.sample_clusters)),np.arange(len(forest.sample_clusters)))\n",
    "# plt.xticks(np.arange(13),fluorescence_features)\n",
    "# plt.ylim(-.5,len(sample_cluster_fluorescence)-.5)\n",
    "# plt.xlabel(\"Surface markers\")\n",
    "# plt.ylabel(\"Cluster (Unannotated)\")\n",
    "# cb = plt.colorbar()\n",
    "# cb.set_label(\"Expression (Log10 TPM)\")\n",
    "# plt.show()\n",
    "\n",
    "# plt.figure(figsize=(20,20))\n",
    "# plt.imshow(sample_cluster_fluorescence[sample_cluster_sort],aspect='auto')\n",
    "# plt.yticks(np.arange(23),np.arange(23)[sample_cluster_sort])\n",
    "# plt.xticks(np.arange(20),fluorescence_features)\n",
    "# plt.colorbar()\n",
    "# plt.show()\n",
    "\n",
    "# plt.figure(figsize=(20,20))\n",
    "# plt.imshow(sample_cluster_fluorescence[sample_cluster_sort][:,:10],aspect='auto')\n",
    "# plt.yticks(np.arange(23),np.arange(23)[sample_cluster_sort])\n",
    "# plt.xticks(np.arange(10),fluorescence_features[:10])\n",
    "# plt.colorbar()\n",
    "# plt.show()\n",
    "\n",
    "# plt.figure(figsize=(10,10))\n",
    "# plt.imshow(sample_cluster_fluorescence[sample_cluster_sort],aspect='auto')\n",
    "# plt.yticks(np.arange(len(forest.sample_clusters)),np.arange(len(forest.sample_clusters))[sample_cluster_sort])\n",
    "# plt.xticks(np.arange(13),fluorescence_features,rotation=45)\n",
    "# plt.ylim(-.5,len(sample_cluster_fluorescence)-.5)\n",
    "# plt.xlabel(\"Surface markers\")\n",
    "# plt.ylabel(\"Cluster (Unannotated)\")\n",
    "# cb = plt.colorbar()\n",
    "# cb.set_label(\"Expression (Log10 TPM)\")\n",
    "# plt.show()\n"
   ]
  },
  {
   "cell_type": "code",
   "execution_count": null,
   "metadata": {},
   "outputs": [],
   "source": [
    "## We want to compare distances of the samples in tree space vs other distance metrics\n",
    "\n",
    "\n",
    "from scipy.spatial.distance import squareform,pdist\n",
    "\n",
    "cosine_distance = squareform(pdist(forest.output[:,:2000],metric='cosine'))\n",
    "euclidean_distance = squareform(pdist(forest.output[:,:2000],metric='euclidean'))\n",
    "\n",
    "tree_jaccard_distance = squareform(pdist(forest.node_sample_encoding(forest.leaves()),metric='jaccard'))"
   ]
  },
  {
   "cell_type": "code",
   "execution_count": null,
   "metadata": {},
   "outputs": [],
   "source": [
    "c_agg_sort = dendrogram(linkage(cosine_distance,method='average'),no_plot=True)['leaves']\n",
    "e_agg_sort = dendrogram(linkage(euclidean_distance,method='average'),no_plot=True)['leaves']\n",
    "j_agg_sort = dendrogram(linkage(tree_jaccard_distance,method='average'),no_plot=True)['leaves']"
   ]
  },
  {
   "cell_type": "code",
   "execution_count": null,
   "metadata": {
    "scrolled": false
   },
   "outputs": [],
   "source": [
    "plt.figure()\n",
    "plt.imshow(cosine_distance[c_agg_sort].T[c_agg_sort])\n",
    "plt.show()\n",
    "\n",
    "plt.figure()\n",
    "plt.imshow(euclidean_distance[e_agg_sort].T[e_agg_sort])\n",
    "plt.show()\n",
    "\n",
    "plt.figure()\n",
    "plt.imshow(tree_jaccard_distance[j_agg_sort].T[j_agg_sort])\n",
    "plt.show()"
   ]
  },
  {
   "cell_type": "code",
   "execution_count": null,
   "metadata": {},
   "outputs": [],
   "source": [
    "# Annotations: \n",
    "\n",
    "# Based on Figure 3, see paper\n",
    "\n",
    "# 13 & 2: Natural Killers, CD16+ & CD56+ & CD45++\n",
    "# 8: CD 16 MONO CD16+ & CD14 & CD11\n",
    "# 14: Precursors, bright CD34\n",
    "# 11: B cells CD- & CD19+ & CD45+ & CD16-\n",
    "# 16&17 Star Doublets?\n",
    "# 3,10,4,9,0,: CD4 T? \n",
    "# 6: CD8 T?\n",
    "# 5 & 1 CD14 Mono DC? \n",
    "# 15&7 CD14 Mono Plain (CD3+,CD8+)"
   ]
  },
  {
   "cell_type": "code",
   "execution_count": null,
   "metadata": {},
   "outputs": [],
   "source": [
    "forest.nodes()[0].encoding()"
   ]
  },
  {
   "cell_type": "code",
   "execution_count": null,
   "metadata": {
    "scrolled": false
   },
   "outputs": [],
   "source": [
    "# We want to see how factors compare to various surface markers\n",
    "\n",
    "factor_matrix = forest.factor_matrix()\n",
    "factor_matrix.shape"
   ]
  },
  {
   "cell_type": "code",
   "execution_count": null,
   "metadata": {},
   "outputs": [],
   "source": [
    "# sample_agg = dendrogram(linkage(factor_matrix,metric='cosine',method='average'),no_plot=True)['leaves']\n",
    "# factor_agg = dendrogram(linkage(factor_matrix.T,metric='cosine',method='average'),no_plot=True)['leaves']\n",
    "\n",
    "# plt.figure()\n",
    "# plt.subplot()\n",
    "# plt.imshow(factor_matrix[sample_agg].T[factor_agg].T,aspect='auto',cmap='bwr',interpolation='none',vmin=-1,vmax=1)\n",
    "# plt.show()\n",
    "\n",
    "plt.figure()\n",
    "plt.title(\"Mouse Blood Cells, Extracted Factors\")\n",
    "plt.imshow(factor_matrix[sample_agg],aspect='auto',cmap='bwr',interpolation='none',vmin=-1,vmax=1)\n",
    "plt.xlabel(\"Factors\")\n",
    "plt.ylabel(\"Cells\")\n",
    "plt.colorbar()\n",
    "plt.show()"
   ]
  },
  {
   "cell_type": "code",
   "execution_count": null,
   "metadata": {},
   "outputs": [],
   "source": [
    "plt.figure()\n",
    "plt.title(\"Surface Markers, Identical Sort\")\n",
    "plt.imshow(fluorescence_counts.T[sample_agg],aspect='auto',interpolation='none')\n",
    "plt.ylabel(\"Cells\")\n",
    "plt.xticks(np.arange(len(fluorescence_header)),fluorescence_header,rotation=45)\n",
    "plt.show()"
   ]
  },
  {
   "cell_type": "code",
   "execution_count": null,
   "metadata": {
    "scrolled": true
   },
   "outputs": [],
   "source": [
    "for ff,fn in zip(fluorescence_counts,fluorescence_features):\n",
    "    plt.figure()\n",
    "    plt.title(fn)\n",
    "    plt.scatter(*forest.tsne_coordinates.T,c=ff,s=2,alpha=.4)\n",
    "    plt.show()"
   ]
  },
  {
   "cell_type": "code",
   "execution_count": null,
   "metadata": {},
   "outputs": [],
   "source": [
    "from scipy.spatial.distance import cdist,squareform\n",
    "\n",
    "correlations = cdist(fluorescence_counts,factor_matrix.T[1:],metric='correlation')\n",
    "correlations.shape"
   ]
  },
  {
   "cell_type": "code",
   "execution_count": null,
   "metadata": {},
   "outputs": [],
   "source": [
    "plt.figure()\n",
    "plt.imshow(correlations - 1,cmap='bwr',interpolation='none',vmin=-1,vmax=1)\n",
    "plt.colorbar()\n",
    "plt.show()"
   ]
  },
  {
   "cell_type": "code",
   "execution_count": null,
   "metadata": {},
   "outputs": [],
   "source": [
    "np.max(factor_matrix[:,16])"
   ]
  },
  {
   "cell_type": "code",
   "execution_count": null,
   "metadata": {
    "scrolled": false
   },
   "outputs": [],
   "source": [
    "for i,(ff,fn) in enumerate(zip(fluorescence_counts,fluorescence_features)):\n",
    "    fmax = np.argmax(np.abs(correlations[i]-1))\n",
    "    plt.figure()\n",
    "    plt.title(f\"{(fn,fmax)}, Pearson:{np.around(-1*(correlations[i,fmax]-1),3)}\")\n",
    "    plt.scatter(ff,factor_matrix[:,fmax+1])\n",
    "    plt.xlabel(f\"{fn}\")\n",
    "    plt.ylabel(f\"Factor {fmax}\")\n",
    "    plt.show()"
   ]
  },
  {
   "cell_type": "code",
   "execution_count": null,
   "metadata": {},
   "outputs": [],
   "source": [
    "from sklearn.decomposition import PCA\n",
    "\n",
    "pcs = PCA(n_components=21).fit_transform(forest.output)\n",
    "\n",
    "pc_correlations = cdist(fluorescence_counts,pcs.T,metric='correlation')\n",
    "pc_correlations.shape\n"
   ]
  },
  {
   "cell_type": "code",
   "execution_count": null,
   "metadata": {},
   "outputs": [],
   "source": [
    "plt.figure()\n",
    "plt.imshow(pc_correlations - 1,cmap='bwr',interpolation='none',vmin=-1,vmax=1)\n",
    "plt.colorbar()\n",
    "plt.show()"
   ]
  },
  {
   "cell_type": "code",
   "execution_count": null,
   "metadata": {
    "scrolled": true
   },
   "outputs": [],
   "source": [
    "for i,(ff,fn) in enumerate(zip(fluorescence_counts,fluorescence_features)):\n",
    "    fmax = np.argmax(np.abs(pc_correlations[i]-1))\n",
    "    plt.figure()\n",
    "    plt.title(f\"{(fn,fmax)},{pc_correlations[i,fmax]-1}\")\n",
    "    plt.scatter(ff,pcs[:,fmax])\n",
    "    plt.show()"
   ]
  },
  {
   "cell_type": "code",
   "execution_count": null,
   "metadata": {},
   "outputs": [],
   "source": [
    "# plt.figure()\n",
    "# plt.scatter(factor_matrix[:,18],fluorescence_counts[9])\n",
    "# plt.show()\n",
    "correlations[9,17]"
   ]
  },
  {
   "cell_type": "code",
   "execution_count": null,
   "metadata": {
    "scrolled": true
   },
   "outputs": [],
   "source": [
    "for pc in pcs.T:\n",
    "    plt.figure()\n",
    "    plt.scatter(*forest.tsne_coordinates.T,c=pc,cmap='bwr')\n",
    "    plt.colorbar()\n",
    "    plt.show()\n"
   ]
  },
  {
   "cell_type": "code",
   "execution_count": null,
   "metadata": {},
   "outputs": [],
   "source": []
  }
 ],
 "metadata": {
  "kernelspec": {
   "display_name": "Python 3",
   "language": "python",
   "name": "python3"
  },
  "language_info": {
   "codemirror_mode": {
    "name": "ipython",
    "version": 3
   },
   "file_extension": ".py",
   "mimetype": "text/x-python",
   "name": "python",
   "nbconvert_exporter": "python",
   "pygments_lexer": "ipython3",
   "version": "3.7.4"
  }
 },
 "nbformat": 4,
 "nbformat_minor": 2
}
