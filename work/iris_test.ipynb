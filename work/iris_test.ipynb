{
 "cells": [
  {
   "cell_type": "code",
   "execution_count": null,
   "metadata": {},
   "outputs": [],
   "source": [
    "import numpy as np\n",
    "import matplotlib.pyplot as plt"
   ]
  },
  {
   "cell_type": "code",
   "execution_count": null,
   "metadata": {},
   "outputs": [],
   "source": [
    "iris = np.loadtxt(\"../data/iris/iris.tsv\")\n"
   ]
  },
  {
   "cell_type": "code",
   "execution_count": null,
   "metadata": {},
   "outputs": [],
   "source": [
    "from sklearn.manifold import TSNE"
   ]
  },
  {
   "cell_type": "code",
   "execution_count": null,
   "metadata": {},
   "outputs": [],
   "source": [
    "# iris_tsne = TSNE().fit_transform(iris)"
   ]
  },
  {
   "cell_type": "code",
   "execution_count": null,
   "metadata": {},
   "outputs": [],
   "source": []
  },
  {
   "cell_type": "code",
   "execution_count": null,
   "metadata": {},
   "outputs": [],
   "source": [
    "# plt.figure()\n",
    "# plt.scatter(*iris_tsne.T)\n",
    "# plt.show()\n"
   ]
  },
  {
   "cell_type": "code",
   "execution_count": null,
   "metadata": {},
   "outputs": [],
   "source": [
    "iris.shape"
   ]
  },
  {
   "cell_type": "code",
   "execution_count": null,
   "metadata": {},
   "outputs": [],
   "source": [
    "from sklearn.decomposition import PCA\n",
    "\n",
    "iris_pca = PCA().fit(iris)"
   ]
  },
  {
   "cell_type": "code",
   "execution_count": null,
   "metadata": {},
   "outputs": [],
   "source": [
    "iris_pca.components_"
   ]
  },
  {
   "cell_type": "code",
   "execution_count": null,
   "metadata": {
    "scrolled": true
   },
   "outputs": [],
   "source": [
    "iris_pca.transform(iris)"
   ]
  },
  {
   "cell_type": "code",
   "execution_count": null,
   "metadata": {},
   "outputs": [],
   "source": []
  },
  {
   "cell_type": "code",
   "execution_count": null,
   "metadata": {},
   "outputs": [],
   "source": [
    "import sys\n",
    "sys.path.append('../src/')\n",
    "import tree_reader as tr \n",
    "import lumberjack"
   ]
  },
  {
   "cell_type": "code",
   "execution_count": null,
   "metadata": {
    "scrolled": true
   },
   "outputs": [],
   "source": [
    "forest = lumberjack.fit(iris,trees=100,ifs=3,ofs=3,braids=1,ss=100,leaves=10,depth=4)"
   ]
  },
  {
   "cell_type": "code",
   "execution_count": null,
   "metadata": {},
   "outputs": [],
   "source": [
    "n = forest.nodes()[1]\n",
    "n_s = n.sister()\n",
    "\n",
    "sisters = forest.node_representation([n,n_s],mode=\"sister\")\n",
    "\n",
    "np.dot(sisters,sisters.T)\n",
    "from tree_reader_utils import sister_distance\n",
    "\n",
    "sister_distance(sisters)"
   ]
  },
  {
   "cell_type": "code",
   "execution_count": null,
   "metadata": {},
   "outputs": [],
   "source": [
    "# index = 7\n",
    "# print(forest.nodes()[index].level)\n",
    "# forest.nodes()[index].mean_residuals()\n",
    "# forest.split_clusters[2].error_ratio()\n",
    "\n",
    "# forest.split_clusters[2].nodes[1].mean_residuals()\n",
    "# forest.split_clusters[2].nodes[1].sister().mean_residuals()\n"
   ]
  },
  {
   "cell_type": "code",
   "execution_count": null,
   "metadata": {},
   "outputs": [],
   "source": [
    "forest.nodes()[1].mean_error_ratio()"
   ]
  },
  {
   "cell_type": "code",
   "execution_count": null,
   "metadata": {
    "scrolled": false
   },
   "outputs": [],
   "source": [
    "forest.reset_split_clusters()\n",
    "forest.interpret_splits(k=100,mode='sister',metric='sister',pca=False,relatives=False)\n",
    "print(len(forest.split_clusters))\n",
    "forest.maximum_spanning_tree(mode='samples')\n",
    "forest.html_tree_summary(n=3)"
   ]
  },
  {
   "cell_type": "code",
   "execution_count": null,
   "metadata": {},
   "outputs": [],
   "source": [
    "forest.split_clusters[1].sisters()"
   ]
  },
  {
   "cell_type": "code",
   "execution_count": null,
   "metadata": {},
   "outputs": [],
   "source": [
    "prediction = forest.predict(iris)\n",
    "prediction.additive_prediction()\n"
   ]
  },
  {
   "cell_type": "code",
   "execution_count": null,
   "metadata": {},
   "outputs": [],
   "source": [
    "prediction.prediction_report()"
   ]
  },
  {
   "cell_type": "code",
   "execution_count": null,
   "metadata": {},
   "outputs": [],
   "source": [
    "prediction.jackknife_feature_mse_variance()"
   ]
  },
  {
   "cell_type": "code",
   "execution_count": null,
   "metadata": {},
   "outputs": [],
   "source": [
    "rep = forest.node_sample_encoding(forest.stems())\n",
    "plt.figure()\n",
    "# plt.imshow(rep)\n",
    "plt.imshow(tr.Forest.agglomerate_representation(rep))\n",
    "plt.show()"
   ]
  },
  {
   "cell_type": "code",
   "execution_count": null,
   "metadata": {},
   "outputs": [],
   "source": [
    "forest.reset_clusters()\n",
    "forest.cluster_samples_encoding(k=30,metric='cosine')"
   ]
  },
  {
   "cell_type": "code",
   "execution_count": null,
   "metadata": {
    "scrolled": true
   },
   "outputs": [],
   "source": [
    "forest.tsne(pca=2)\n",
    "forest.plot_sample_clusters()"
   ]
  },
  {
   "cell_type": "code",
   "execution_count": null,
   "metadata": {},
   "outputs": [],
   "source": [
    "forest.reset_split_clusters()\n",
    "forest.interpret_splits(mode='additive_mean',k=100,resolution=.1,metric='cosine',relatives=True)\n",
    "print(len(forest.split_clusters))"
   ]
  },
  {
   "cell_type": "code",
   "execution_count": null,
   "metadata": {
    "scrolled": true
   },
   "outputs": [],
   "source": [
    "forest.weigh_nodes()\n",
    "# fig = forest.split_clusters[2].top_local(2)\n",
    "# fig.savefig('tmp.png',bbox_inches='tight')\n",
    "# # for i in range(len(forest.split_clusters)):\n",
    "# #     forest.split_clusters[i].top_local(2,no_plot=True)\n",
    "forest.maximum_spanning_tree(mode='samples')\n",
    "# forest.tsne(pca=2)\n",
    "forest.html_tree_summary(n=2)"
   ]
  },
  {
   "cell_type": "code",
   "execution_count": null,
   "metadata": {},
   "outputs": [],
   "source": [
    "forest.probability_enrichment()"
   ]
  },
  {
   "cell_type": "code",
   "execution_count": null,
   "metadata": {
    "scrolled": true
   },
   "outputs": [],
   "source": [
    "forest.weighted_node_vector_prediction(forest.roots())"
   ]
  },
  {
   "cell_type": "code",
   "execution_count": null,
   "metadata": {},
   "outputs": [],
   "source": [
    "print(np.mean(iris[:50],axis=0))\n",
    "print(np.mean(iris[50:100],axis=0))\n",
    "print(np.mean(iris[100:],axis=0))"
   ]
  },
  {
   "cell_type": "code",
   "execution_count": null,
   "metadata": {},
   "outputs": [],
   "source": [
    "plt.figure()\n",
    "plt.imshow(pred,aspect='auto',cmap='bwr',vmin=-1,vmax=1,interpolation='none')\n",
    "plt.show()"
   ]
  },
  {
   "cell_type": "code",
   "execution_count": null,
   "metadata": {},
   "outputs": [],
   "source": [
    "predicted = forest.predict_additive(iris)"
   ]
  },
  {
   "cell_type": "code",
   "execution_count": null,
   "metadata": {},
   "outputs": [],
   "source": [
    "plt.figure()\n",
    "plt.imshow(predicted.T[:4].T,aspect='auto',interpolation='none')\n",
    "plt.colorbar()"
   ]
  },
  {
   "cell_type": "code",
   "execution_count": null,
   "metadata": {},
   "outputs": [],
   "source": [
    "plt.figure()\n",
    "plt.imshow(iris,aspect='auto',interpolation='none')\n",
    "plt.colorbar()"
   ]
  },
  {
   "cell_type": "code",
   "execution_count": null,
   "metadata": {},
   "outputs": [],
   "source": [
    "forest.split_clusters[1].top_split_features()"
   ]
  },
  {
   "cell_type": "code",
   "execution_count": null,
   "metadata": {},
   "outputs": [],
   "source": [
    "prediction = forest.predict(iris)"
   ]
  },
  {
   "cell_type": "code",
   "execution_count": null,
   "metadata": {},
   "outputs": [],
   "source": [
    "plt.figure()\n",
    "plt.imshow(prediction.factor_matrix(),aspect='auto',cmap='bwr')\n",
    "plt.show()"
   ]
  },
  {
   "cell_type": "code",
   "execution_count": null,
   "metadata": {},
   "outputs": [],
   "source": [
    "# f,r1,r2 = forest.split_clusters[1].regression()"
   ]
  },
  {
   "cell_type": "code",
   "execution_count": null,
   "metadata": {},
   "outputs": [],
   "source": [
    "# r2.score(iris.T[f].T,iris)"
   ]
  },
  {
   "cell_type": "code",
   "execution_count": null,
   "metadata": {},
   "outputs": [],
   "source": [
    "forest.sample_clusters[1].logistic_features()"
   ]
  },
  {
   "cell_type": "code",
   "execution_count": null,
   "metadata": {},
   "outputs": [],
   "source": [
    "forest.maximum_spanning_tree(mode='means')"
   ]
  },
  {
   "cell_type": "code",
   "execution_count": null,
   "metadata": {},
   "outputs": [],
   "source": [
    "import community\n",
    "import networkx as nx"
   ]
  },
  {
   "cell_type": "code",
   "execution_count": null,
   "metadata": {},
   "outputs": [],
   "source": [
    "encoding = forest.node_sample_encoding(forest.leaves())"
   ]
  },
  {
   "cell_type": "code",
   "execution_count": null,
   "metadata": {},
   "outputs": [],
   "source": [
    "plt.figure()\n",
    "plt.imshow(tr.coocurrence_distance(encoding))\n",
    "plt.colorbar()\n",
    "plt.show()"
   ]
  },
  {
   "cell_type": "code",
   "execution_count": null,
   "metadata": {},
   "outputs": [],
   "source": [
    "hacked = tr.hacked_louvain(encoding,k=10,resolution=.5,metric=\"euclidean\")\n",
    "print(len(set(hacked)))"
   ]
  },
  {
   "cell_type": "code",
   "execution_count": null,
   "metadata": {},
   "outputs": [],
   "source": [
    "forest.reset_sample_clusters()\n",
    "forest.set_sample_labels(hacked)\n",
    "print(len(forest.sample_clusters))"
   ]
  },
  {
   "cell_type": "code",
   "execution_count": null,
   "metadata": {},
   "outputs": [],
   "source": []
  },
  {
   "cell_type": "code",
   "execution_count": null,
   "metadata": {},
   "outputs": [],
   "source": [
    "forest.plot_sample_clusters()"
   ]
  },
  {
   "cell_type": "code",
   "execution_count": null,
   "metadata": {},
   "outputs": [],
   "source": [
    "np.log(forest.split_cluster_odds_ratios())"
   ]
  },
  {
   "cell_type": "code",
   "execution_count": null,
   "metadata": {},
   "outputs": [],
   "source": [
    "delta = np.identity(5)"
   ]
  },
  {
   "cell_type": "code",
   "execution_count": null,
   "metadata": {},
   "outputs": [],
   "source": [
    "tiled_indices = np.tile(np.arange(delta.shape[0]),((delta.shape[0]),1))\n"
   ]
  },
  {
   "cell_type": "code",
   "execution_count": null,
   "metadata": {},
   "outputs": [],
   "source": [
    "tiled_indices"
   ]
  },
  {
   "cell_type": "code",
   "execution_count": null,
   "metadata": {},
   "outputs": [],
   "source": [
    "tiled_indices.T"
   ]
  },
  {
   "cell_type": "code",
   "execution_count": null,
   "metadata": {},
   "outputs": [],
   "source": []
  },
  {
   "cell_type": "code",
   "execution_count": null,
   "metadata": {},
   "outputs": [],
   "source": [
    "fig = plt.figure()\n",
    "ax = fig.add_axes([0,0,1,1])\n",
    "ax.imshow(np.identity(5),vmin=-1,vmax=1)\n",
    "ax.text(1,1,\"hi\",c='b')"
   ]
  },
  {
   "cell_type": "code",
   "execution_count": null,
   "metadata": {},
   "outputs": [],
   "source": []
  },
  {
   "cell_type": "code",
   "execution_count": null,
   "metadata": {},
   "outputs": [],
   "source": [
    "type(ax)"
   ]
  },
  {
   "cell_type": "code",
   "execution_count": null,
   "metadata": {},
   "outputs": [],
   "source": [
    "from scipy.spatial.distance import cdist,pdist,squareform\n",
    "\n",
    "def fast_knn(elements, k, neighborhood_fraction=.01, metric='euclidean'):\n",
    "    \n",
    "    # Finds the indices of k nearest neighbors for each sample in a matrix, \n",
    "    # using any of the standard scipy distance metrics.\n",
    "\n",
    "    nearest_neighbors = np.zeros((elements.shape[0], k), dtype=int)\n",
    "    complete = np.zeros(elements.shape[0], dtype=bool)\n",
    "\n",
    "    neighborhood_size = max(\n",
    "        k * 3, int(elements.shape[0] * neighborhood_fraction))\n",
    "    anchor_loops = 0\n",
    "\n",
    "    while np.sum(complete) < complete.shape[0]:\n",
    "\n",
    "        anchor_loops += 1\n",
    "\n",
    "        available = np.arange(complete.shape[0])[~complete]\n",
    "        np.random.shuffle(available)\n",
    "        anchors = available[:int(complete.shape[0] / neighborhood_size) * 3]\n",
    "\n",
    "        for anchor in anchors:\n",
    "            print(f\"Complete:{np.sum(complete)}\\r\", end='')\n",
    "\n",
    "            anchor_distances = cdist(elements[anchor].reshape(\n",
    "                1, -1), elements, metric=metric)[0]\n",
    "\n",
    "            neighborhood = np.argpartition(anchor_distances, neighborhood_size)[\n",
    "                :neighborhood_size]\n",
    "            anchor_local = np.where(neighborhood == anchor)[0]\n",
    "            \n",
    "            local_distances = squareform(\n",
    "                pdist(elements[neighborhood], metric=metric))\n",
    "\n",
    "            anchor_to_worst = np.max(local_distances[anchor_local])\n",
    "\n",
    "            for i, sample in enumerate(neighborhood):\n",
    "                if not complete[sample]:\n",
    "\n",
    "                    # First select the indices in the neighborhood that are knn\n",
    "                    best_neighbors_local = np.argpartition(\n",
    "                        local_distances[i], k+1)\n",
    "\n",
    "                    # Next find the worst neighbor among the knn observed\n",
    "                    best_worst_local = best_neighbors_local[np.argmax(local_distances[i][best_neighbors_local[:k+1]])]\n",
    "                    # And store the worst distance among the local knn\n",
    "                    best_worst_distance = local_distances[i,best_worst_local]\n",
    "                    # Find the distance of the anchor to the central element\n",
    "                    anchor_distance = local_distances[anchor_local, i]\n",
    "\n",
    "                    # By the triangle inequality the closest any element outside the neighborhood\n",
    "                    # can be to element we are examining is the criterion distance:\n",
    "                    criterion_distance = anchor_to_worst - anchor_distance\n",
    "\n",
    "#                     if sample == 0:\n",
    "#                         print(f\"ld:{local_distances[i][best_neighbors_local[:k]]}\")\n",
    "#                         print(f\"bwd:{best_worst_distance}\")\n",
    "#                         print(f\"cd:{criterion_distance}\")\n",
    "                    \n",
    "                    # Therefore if the criterion distance is greater than the best worst distance, the local knn\n",
    "                    # is also the best global knn\n",
    "\n",
    "                    if best_worst_distance >= criterion_distance:\n",
    "                        continue\n",
    "                    else:\n",
    "                        # Before we conclude we must exclude the sample itself from its \n",
    "                        # k nearest neighbors\n",
    "                        best_neighbors_local = [bn for bn in best_neighbors_local[:k+1] if bn !=i]\n",
    "                        # Finally translate the local best knn to the global indices\n",
    "                        best_neighbors = neighborhood[best_neighbors_local]\n",
    "\n",
    "                        nearest_neighbors[sample] = best_neighbors\n",
    "                        complete[sample] = True\n",
    "    print(\"\\n\")\n",
    "\n",
    "    return nearest_neighbors\n",
    "\n"
   ]
  },
  {
   "cell_type": "code",
   "execution_count": null,
   "metadata": {},
   "outputs": [],
   "source": [
    "import numpy as np\n",
    "import matplotlib.pyplot as plt\n",
    "import sys\n",
    "sys.path.append('../src/')\n",
    "import tree_reader as tr \n",
    "\n",
    "iris = np.loadtxt(\"../data/iris/iris.tsv\")\n",
    "\n",
    "# fast_knn = tr.fast_knn"
   ]
  },
  {
   "cell_type": "code",
   "execution_count": null,
   "metadata": {},
   "outputs": [],
   "source": [
    "from sklearn.ensemble import ExtraTreesRegressor as ETR\n",
    "import sys\n",
    "sys.path.append('/Users/bbrener1/battle/localfactorization/')\n",
    "from binary_forest import BinaryForest"
   ]
  },
  {
   "cell_type": "code",
   "execution_count": null,
   "metadata": {},
   "outputs": [],
   "source": []
  },
  {
   "cell_type": "code",
   "execution_count": null,
   "metadata": {},
   "outputs": [],
   "source": [
    "model = ETR(max_depth=5).fit(iris,iris)\n",
    "\n",
    "parents = BinaryForest.sklearn_parents(model)"
   ]
  },
  {
   "cell_type": "code",
   "execution_count": null,
   "metadata": {},
   "outputs": [],
   "source": [
    "parents"
   ]
  },
  {
   "cell_type": "code",
   "execution_count": null,
   "metadata": {},
   "outputs": [],
   "source": [
    "encoding = BinaryForest.sklearn_node_sample(iris,model)"
   ]
  },
  {
   "cell_type": "code",
   "execution_count": null,
   "metadata": {},
   "outputs": [],
   "source": [
    "encoding.shape"
   ]
  },
  {
   "cell_type": "code",
   "execution_count": null,
   "metadata": {},
   "outputs": [],
   "source": [
    "from scipy.cluster.hierarchy import linkage,dendrogram\n",
    "\n",
    "sample_agglomeration = dendrogram(linkage(encoding.T, metric='cosine', method='average'), no_plot=True)['leaves']\n",
    "node_agglomeration = dendrogram(linkage(encoding, metric='cosine', method='average'), no_plot=True)['leaves']\n"
   ]
  },
  {
   "cell_type": "code",
   "execution_count": null,
   "metadata": {},
   "outputs": [],
   "source": [
    "plt.figure()\n",
    "plt.imshow(encoding[node_agglomeration].T[sample_agglomeration].T,aspect='auto')\n",
    "plt.show()"
   ]
  },
  {
   "cell_type": "code",
   "execution_count": null,
   "metadata": {},
   "outputs": [],
   "source": [
    "BinaryForest.sklearn_parents(model)\n"
   ]
  },
  {
   "cell_type": "code",
   "execution_count": null,
   "metadata": {},
   "outputs": [],
   "source": [
    "tree = model.estimators_[0].tree_\n",
    "\n",
    "left_parents = np.ones(tree.node_count) * -1\n",
    "right_parents = np.ones(tree.node_count) * -1\n",
    "\n",
    "for node in range(tree.node_count):\n",
    "    left_child = tree.children_left[node]\n",
    "    right_child = tree.children_right[node]\n",
    "    if left_child > 0 and right_child > 0:\n",
    "        left_parents.append[node]\n",
    "        right_parents.append[node]\n",
    "    \n",
    "    "
   ]
  },
  {
   "cell_type": "code",
   "execution_count": null,
   "metadata": {},
   "outputs": [],
   "source": [
    "sisters = BinaryForest.sklearn_sisters(model)"
   ]
  },
  {
   "cell_type": "code",
   "execution_count": null,
   "metadata": {},
   "outputs": [],
   "source": [
    "for n in range(len(sisters)):\n",
    "    if sisters[n] != n:\n",
    "        print(n)\n",
    "        print(sisters[n])\n",
    "        print(sisters[sisters[n]])\n",
    "        print(\"Error\")\n",
    "        raise Exception()"
   ]
  },
  {
   "cell_type": "code",
   "execution_count": null,
   "metadata": {},
   "outputs": [],
   "source": [
    "np.sum(np.array([1,2,3]).reshape(1,-1),axis=1)[0]"
   ]
  },
  {
   "cell_type": "code",
   "execution_count": null,
   "metadata": {},
   "outputs": [],
   "source": []
  }
 ],
 "metadata": {
  "kernelspec": {
   "display_name": "Python 3",
   "language": "python",
   "name": "python3"
  },
  "language_info": {
   "codemirror_mode": {
    "name": "ipython",
    "version": 3
   },
   "file_extension": ".py",
   "mimetype": "text/x-python",
   "name": "python",
   "nbconvert_exporter": "python",
   "pygments_lexer": "ipython3",
   "version": "3.7.4"
  }
 },
 "nbformat": 4,
 "nbformat_minor": 4
}
